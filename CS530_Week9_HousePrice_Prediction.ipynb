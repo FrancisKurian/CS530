{
  "cells": [
    {
      "cell_type": "markdown",
      "metadata": {
        "id": "view-in-github",
        "colab_type": "text"
      },
      "source": [
        "<a href=\"https://colab.research.google.com/github/FrancisKurian/CS530/blob/main/CS530_Week9_HousePrice_Prediction.ipynb\" target=\"_parent\"><img src=\"https://colab.research.google.com/assets/colab-badge.svg\" alt=\"Open In Colab\"/></a>"
      ]
    },
    {
      "cell_type": "markdown",
      "metadata": {
        "id": "eMI57u05HuX2"
      },
      "source": [
        "# HW9\n",
        "## Notes on the Modeling techniques\n",
        "\n",
        "*   Removed duplicate features\n",
        "*   Identified ordinal features and encoded them\n",
        "*   Treated the missing values\n",
        "*   Regrouped less freaquent categories to reduce sparse matrix(dummy variables)\n",
        "*   Did Multicollinearity check on OLS with VIF\n",
        "*   K-fold regularization on OLS\n",
        "*   Multiple classification models with regularization attempted.\n",
        "\n",
        "## Summary of Model performance on test data\n",
        "#### Home Price Prediction-Regression: \n",
        "| Method |MAE| MSE|RMSE||            \n",
        "| :- |--- |:-:|||\n",
        "| OLS Base model |0.1264 |0.0327|0.1809||\n",
        "| OLS Ridge | 0.1247 |0.0315|0.1776||  \n",
        "\n",
        "#### Above Median Value Prediction-Classification:\n",
        "| Method |Accuracy| Matthew's Coef|            \n",
        "| :- | --- |:-:|\n",
        "| Logistics Regression|0.8981 |0.7965|\n",
        "| Random Forest-One Hot Encoding | 0.9023 |0.8052|  \n",
        "| Random Forest-Label Encoding | 0.8981 |0.7965|  \n",
        "\n",
        "### OLS with ridge regularization and Random Forest(one-hot encoding)  will be used for House Price prediction\n"
      ]
    },
    {
      "cell_type": "code",
      "execution_count": null,
      "metadata": {
        "id": "Y29KDeCkHuX2",
        "colab": {
          "resources": {
            "http://localhost:8080/nbextensions/google.colab/files.js": {
              "data": "Ly8gQ29weXJpZ2h0IDIwMTcgR29vZ2xlIExMQwovLwovLyBMaWNlbnNlZCB1bmRlciB0aGUgQXBhY2hlIExpY2Vuc2UsIFZlcnNpb24gMi4wICh0aGUgIkxpY2Vuc2UiKTsKLy8geW91IG1heSBub3QgdXNlIHRoaXMgZmlsZSBleGNlcHQgaW4gY29tcGxpYW5jZSB3aXRoIHRoZSBMaWNlbnNlLgovLyBZb3UgbWF5IG9idGFpbiBhIGNvcHkgb2YgdGhlIExpY2Vuc2UgYXQKLy8KLy8gICAgICBodHRwOi8vd3d3LmFwYWNoZS5vcmcvbGljZW5zZXMvTElDRU5TRS0yLjAKLy8KLy8gVW5sZXNzIHJlcXVpcmVkIGJ5IGFwcGxpY2FibGUgbGF3IG9yIGFncmVlZCB0byBpbiB3cml0aW5nLCBzb2Z0d2FyZQovLyBkaXN0cmlidXRlZCB1bmRlciB0aGUgTGljZW5zZSBpcyBkaXN0cmlidXRlZCBvbiBhbiAiQVMgSVMiIEJBU0lTLAovLyBXSVRIT1VUIFdBUlJBTlRJRVMgT1IgQ09ORElUSU9OUyBPRiBBTlkgS0lORCwgZWl0aGVyIGV4cHJlc3Mgb3IgaW1wbGllZC4KLy8gU2VlIHRoZSBMaWNlbnNlIGZvciB0aGUgc3BlY2lmaWMgbGFuZ3VhZ2UgZ292ZXJuaW5nIHBlcm1pc3Npb25zIGFuZAovLyBsaW1pdGF0aW9ucyB1bmRlciB0aGUgTGljZW5zZS4KCi8qKgogKiBAZmlsZW92ZXJ2aWV3IEhlbHBlcnMgZm9yIGdvb2dsZS5jb2xhYiBQeXRob24gbW9kdWxlLgogKi8KKGZ1bmN0aW9uKHNjb3BlKSB7CmZ1bmN0aW9uIHNwYW4odGV4dCwgc3R5bGVBdHRyaWJ1dGVzID0ge30pIHsKICBjb25zdCBlbGVtZW50ID0gZG9jdW1lbnQuY3JlYXRlRWxlbWVudCgnc3BhbicpOwogIGVsZW1lbnQudGV4dENvbnRlbnQgPSB0ZXh0OwogIGZvciAoY29uc3Qga2V5IG9mIE9iamVjdC5rZXlzKHN0eWxlQXR0cmlidXRlcykpIHsKICAgIGVsZW1lbnQuc3R5bGVba2V5XSA9IHN0eWxlQXR0cmlidXRlc1trZXldOwogIH0KICByZXR1cm4gZWxlbWVudDsKfQoKLy8gTWF4IG51bWJlciBvZiBieXRlcyB3aGljaCB3aWxsIGJlIHVwbG9hZGVkIGF0IGEgdGltZS4KY29uc3QgTUFYX1BBWUxPQURfU0laRSA9IDEwMCAqIDEwMjQ7CgpmdW5jdGlvbiBfdXBsb2FkRmlsZXMoaW5wdXRJZCwgb3V0cHV0SWQpIHsKICBjb25zdCBzdGVwcyA9IHVwbG9hZEZpbGVzU3RlcChpbnB1dElkLCBvdXRwdXRJZCk7CiAgY29uc3Qgb3V0cHV0RWxlbWVudCA9IGRvY3VtZW50LmdldEVsZW1lbnRCeUlkKG91dHB1dElkKTsKICAvLyBDYWNoZSBzdGVwcyBvbiB0aGUgb3V0cHV0RWxlbWVudCB0byBtYWtlIGl0IGF2YWlsYWJsZSBmb3IgdGhlIG5leHQgY2FsbAogIC8vIHRvIHVwbG9hZEZpbGVzQ29udGludWUgZnJvbSBQeXRob24uCiAgb3V0cHV0RWxlbWVudC5zdGVwcyA9IHN0ZXBzOwoKICByZXR1cm4gX3VwbG9hZEZpbGVzQ29udGludWUob3V0cHV0SWQpOwp9CgovLyBUaGlzIGlzIHJvdWdobHkgYW4gYXN5bmMgZ2VuZXJhdG9yIChub3Qgc3VwcG9ydGVkIGluIHRoZSBicm93c2VyIHlldCksCi8vIHdoZXJlIHRoZXJlIGFyZSBtdWx0aXBsZSBhc3luY2hyb25vdXMgc3RlcHMgYW5kIHRoZSBQeXRob24gc2lkZSBpcyBnb2luZwovLyB0byBwb2xsIGZvciBjb21wbGV0aW9uIG9mIGVhY2ggc3RlcC4KLy8gVGhpcyB1c2VzIGEgUHJvbWlzZSB0byBibG9jayB0aGUgcHl0aG9uIHNpZGUgb24gY29tcGxldGlvbiBvZiBlYWNoIHN0ZXAsCi8vIHRoZW4gcGFzc2VzIHRoZSByZXN1bHQgb2YgdGhlIHByZXZpb3VzIHN0ZXAgYXMgdGhlIGlucHV0IHRvIHRoZSBuZXh0IHN0ZXAuCmZ1bmN0aW9uIF91cGxvYWRGaWxlc0NvbnRpbnVlKG91dHB1dElkKSB7CiAgY29uc3Qgb3V0cHV0RWxlbWVudCA9IGRvY3VtZW50LmdldEVsZW1lbnRCeUlkKG91dHB1dElkKTsKICBjb25zdCBzdGVwcyA9IG91dHB1dEVsZW1lbnQuc3RlcHM7CgogIGNvbnN0IG5leHQgPSBzdGVwcy5uZXh0KG91dHB1dEVsZW1lbnQubGFzdFByb21pc2VWYWx1ZSk7CiAgcmV0dXJuIFByb21pc2UucmVzb2x2ZShuZXh0LnZhbHVlLnByb21pc2UpLnRoZW4oKHZhbHVlKSA9PiB7CiAgICAvLyBDYWNoZSB0aGUgbGFzdCBwcm9taXNlIHZhbHVlIHRvIG1ha2UgaXQgYXZhaWxhYmxlIHRvIHRoZSBuZXh0CiAgICAvLyBzdGVwIG9mIHRoZSBnZW5lcmF0b3IuCiAgICBvdXRwdXRFbGVtZW50Lmxhc3RQcm9taXNlVmFsdWUgPSB2YWx1ZTsKICAgIHJldHVybiBuZXh0LnZhbHVlLnJlc3BvbnNlOwogIH0pOwp9CgovKioKICogR2VuZXJhdG9yIGZ1bmN0aW9uIHdoaWNoIGlzIGNhbGxlZCBiZXR3ZWVuIGVhY2ggYXN5bmMgc3RlcCBvZiB0aGUgdXBsb2FkCiAqIHByb2Nlc3MuCiAqIEBwYXJhbSB7c3RyaW5nfSBpbnB1dElkIEVsZW1lbnQgSUQgb2YgdGhlIGlucHV0IGZpbGUgcGlja2VyIGVsZW1lbnQuCiAqIEBwYXJhbSB7c3RyaW5nfSBvdXRwdXRJZCBFbGVtZW50IElEIG9mIHRoZSBvdXRwdXQgZGlzcGxheS4KICogQHJldHVybiB7IUl0ZXJhYmxlPCFPYmplY3Q+fSBJdGVyYWJsZSBvZiBuZXh0IHN0ZXBzLgogKi8KZnVuY3Rpb24qIHVwbG9hZEZpbGVzU3RlcChpbnB1dElkLCBvdXRwdXRJZCkgewogIGNvbnN0IGlucHV0RWxlbWVudCA9IGRvY3VtZW50LmdldEVsZW1lbnRCeUlkKGlucHV0SWQpOwogIGlucHV0RWxlbWVudC5kaXNhYmxlZCA9IGZhbHNlOwoKICBjb25zdCBvdXRwdXRFbGVtZW50ID0gZG9jdW1lbnQuZ2V0RWxlbWVudEJ5SWQob3V0cHV0SWQpOwogIG91dHB1dEVsZW1lbnQuaW5uZXJIVE1MID0gJyc7CgogIGNvbnN0IHBpY2tlZFByb21pc2UgPSBuZXcgUHJvbWlzZSgocmVzb2x2ZSkgPT4gewogICAgaW5wdXRFbGVtZW50LmFkZEV2ZW50TGlzdGVuZXIoJ2NoYW5nZScsIChlKSA9PiB7CiAgICAgIHJlc29sdmUoZS50YXJnZXQuZmlsZXMpOwogICAgfSk7CiAgfSk7CgogIGNvbnN0IGNhbmNlbCA9IGRvY3VtZW50LmNyZWF0ZUVsZW1lbnQoJ2J1dHRvbicpOwogIGlucHV0RWxlbWVudC5wYXJlbnRFbGVtZW50LmFwcGVuZENoaWxkKGNhbmNlbCk7CiAgY2FuY2VsLnRleHRDb250ZW50ID0gJ0NhbmNlbCB1cGxvYWQnOwogIGNvbnN0IGNhbmNlbFByb21pc2UgPSBuZXcgUHJvbWlzZSgocmVzb2x2ZSkgPT4gewogICAgY2FuY2VsLm9uY2xpY2sgPSAoKSA9PiB7CiAgICAgIHJlc29sdmUobnVsbCk7CiAgICB9OwogIH0pOwoKICAvLyBXYWl0IGZvciB0aGUgdXNlciB0byBwaWNrIHRoZSBmaWxlcy4KICBjb25zdCBmaWxlcyA9IHlpZWxkIHsKICAgIHByb21pc2U6IFByb21pc2UucmFjZShbcGlja2VkUHJvbWlzZSwgY2FuY2VsUHJvbWlzZV0pLAogICAgcmVzcG9uc2U6IHsKICAgICAgYWN0aW9uOiAnc3RhcnRpbmcnLAogICAgfQogIH07CgogIGNhbmNlbC5yZW1vdmUoKTsKCiAgLy8gRGlzYWJsZSB0aGUgaW5wdXQgZWxlbWVudCBzaW5jZSBmdXJ0aGVyIHBpY2tzIGFyZSBub3QgYWxsb3dlZC4KICBpbnB1dEVsZW1lbnQuZGlzYWJsZWQgPSB0cnVlOwoKICBpZiAoIWZpbGVzKSB7CiAgICByZXR1cm4gewogICAgICByZXNwb25zZTogewogICAgICAgIGFjdGlvbjogJ2NvbXBsZXRlJywKICAgICAgfQogICAgfTsKICB9CgogIGZvciAoY29uc3QgZmlsZSBvZiBmaWxlcykgewogICAgY29uc3QgbGkgPSBkb2N1bWVudC5jcmVhdGVFbGVtZW50KCdsaScpOwogICAgbGkuYXBwZW5kKHNwYW4oZmlsZS5uYW1lLCB7Zm9udFdlaWdodDogJ2JvbGQnfSkpOwogICAgbGkuYXBwZW5kKHNwYW4oCiAgICAgICAgYCgke2ZpbGUudHlwZSB8fCAnbi9hJ30pIC0gJHtmaWxlLnNpemV9IGJ5dGVzLCBgICsKICAgICAgICBgbGFzdCBtb2RpZmllZDogJHsKICAgICAgICAgICAgZmlsZS5sYXN0TW9kaWZpZWREYXRlID8gZmlsZS5sYXN0TW9kaWZpZWREYXRlLnRvTG9jYWxlRGF0ZVN0cmluZygpIDoKICAgICAgICAgICAgICAgICAgICAgICAgICAgICAgICAgICAgJ24vYSd9IC0gYCkpOwogICAgY29uc3QgcGVyY2VudCA9IHNwYW4oJzAlIGRvbmUnKTsKICAgIGxpLmFwcGVuZENoaWxkKHBlcmNlbnQpOwoKICAgIG91dHB1dEVsZW1lbnQuYXBwZW5kQ2hpbGQobGkpOwoKICAgIGNvbnN0IGZpbGVEYXRhUHJvbWlzZSA9IG5ldyBQcm9taXNlKChyZXNvbHZlKSA9PiB7CiAgICAgIGNvbnN0IHJlYWRlciA9IG5ldyBGaWxlUmVhZGVyKCk7CiAgICAgIHJlYWRlci5vbmxvYWQgPSAoZSkgPT4gewogICAgICAgIHJlc29sdmUoZS50YXJnZXQucmVzdWx0KTsKICAgICAgfTsKICAgICAgcmVhZGVyLnJlYWRBc0FycmF5QnVmZmVyKGZpbGUpOwogICAgfSk7CiAgICAvLyBXYWl0IGZvciB0aGUgZGF0YSB0byBiZSByZWFkeS4KICAgIGxldCBmaWxlRGF0YSA9IHlpZWxkIHsKICAgICAgcHJvbWlzZTogZmlsZURhdGFQcm9taXNlLAogICAgICByZXNwb25zZTogewogICAgICAgIGFjdGlvbjogJ2NvbnRpbnVlJywKICAgICAgfQogICAgfTsKCiAgICAvLyBVc2UgYSBjaHVua2VkIHNlbmRpbmcgdG8gYXZvaWQgbWVzc2FnZSBzaXplIGxpbWl0cy4gU2VlIGIvNjIxMTU2NjAuCiAgICBsZXQgcG9zaXRpb24gPSAwOwogICAgZG8gewogICAgICBjb25zdCBsZW5ndGggPSBNYXRoLm1pbihmaWxlRGF0YS5ieXRlTGVuZ3RoIC0gcG9zaXRpb24sIE1BWF9QQVlMT0FEX1NJWkUpOwogICAgICBjb25zdCBjaHVuayA9IG5ldyBVaW50OEFycmF5KGZpbGVEYXRhLCBwb3NpdGlvbiwgbGVuZ3RoKTsKICAgICAgcG9zaXRpb24gKz0gbGVuZ3RoOwoKICAgICAgY29uc3QgYmFzZTY0ID0gYnRvYShTdHJpbmcuZnJvbUNoYXJDb2RlLmFwcGx5KG51bGwsIGNodW5rKSk7CiAgICAgIHlpZWxkIHsKICAgICAgICByZXNwb25zZTogewogICAgICAgICAgYWN0aW9uOiAnYXBwZW5kJywKICAgICAgICAgIGZpbGU6IGZpbGUubmFtZSwKICAgICAgICAgIGRhdGE6IGJhc2U2NCwKICAgICAgICB9LAogICAgICB9OwoKICAgICAgbGV0IHBlcmNlbnREb25lID0gZmlsZURhdGEuYnl0ZUxlbmd0aCA9PT0gMCA/CiAgICAgICAgICAxMDAgOgogICAgICAgICAgTWF0aC5yb3VuZCgocG9zaXRpb24gLyBmaWxlRGF0YS5ieXRlTGVuZ3RoKSAqIDEwMCk7CiAgICAgIHBlcmNlbnQudGV4dENvbnRlbnQgPSBgJHtwZXJjZW50RG9uZX0lIGRvbmVgOwoKICAgIH0gd2hpbGUgKHBvc2l0aW9uIDwgZmlsZURhdGEuYnl0ZUxlbmd0aCk7CiAgfQoKICAvLyBBbGwgZG9uZS4KICB5aWVsZCB7CiAgICByZXNwb25zZTogewogICAgICBhY3Rpb246ICdjb21wbGV0ZScsCiAgICB9CiAgfTsKfQoKc2NvcGUuZ29vZ2xlID0gc2NvcGUuZ29vZ2xlIHx8IHt9OwpzY29wZS5nb29nbGUuY29sYWIgPSBzY29wZS5nb29nbGUuY29sYWIgfHwge307CnNjb3BlLmdvb2dsZS5jb2xhYi5fZmlsZXMgPSB7CiAgX3VwbG9hZEZpbGVzLAogIF91cGxvYWRGaWxlc0NvbnRpbnVlLAp9Owp9KShzZWxmKTsK",
              "ok": true,
              "headers": [
                [
                  "content-type",
                  "application/javascript"
                ]
              ],
              "status": 200,
              "status_text": ""
            }
          },
          "base_uri": "https://localhost:8080/",
          "height": 109
        },
        "outputId": "5e0e38ea-f700-4734-f256-7e98e8faf550"
      },
      "outputs": [
        {
          "output_type": "display_data",
          "data": {
            "text/plain": [
              "<IPython.core.display.HTML object>"
            ],
            "text/html": [
              "\n",
              "     <input type=\"file\" id=\"files-eb54062f-9731-4b97-a50e-a10437bd4161\" name=\"files[]\" multiple disabled\n",
              "        style=\"border:none\" />\n",
              "     <output id=\"result-eb54062f-9731-4b97-a50e-a10437bd4161\">\n",
              "      Upload widget is only available when the cell has been executed in the\n",
              "      current browser session. Please rerun this cell to enable.\n",
              "      </output>\n",
              "      <script src=\"/nbextensions/google.colab/files.js\"></script> "
            ]
          },
          "metadata": {}
        },
        {
          "output_type": "stream",
          "name": "stdout",
          "text": [
            "Saving house_SalePrice.csv to house_SalePrice.csv\n",
            "Saving house_SalePrice_predict.csv to house_SalePrice_predict.csv\n"
          ]
        }
      ],
      "source": [
        "from google.colab import files\n",
        "uploaded = files.upload()"
      ]
    },
    {
      "cell_type": "code",
      "source": [
        "import numpy as np\n",
        "import pandas as pd\n",
        "from matplotlib import pyplot as plt\n",
        "from sklearn.model_selection import train_test_split\n",
        "from sklearn import linear_model\n",
        "from sklearn.metrics import mean_squared_error"
      ],
      "metadata": {
        "id": "h2VzcBtkVsjr"
      },
      "execution_count": null,
      "outputs": []
    },
    {
      "cell_type": "code",
      "source": [
        "df= pd.read_csv('house_SalePrice.csv')\n",
        "df_p = pd.read_csv('house_SalePrice_predict.csv')\n",
        "# df.info()"
      ],
      "metadata": {
        "id": "84PaNqfQUzjd"
      },
      "execution_count": null,
      "outputs": []
    },
    {
      "cell_type": "markdown",
      "source": [
        "### Remove Duplicate Features"
      ],
      "metadata": {
        "id": "sCKENGVm7Z5I"
      }
    },
    {
      "cell_type": "code",
      "source": [
        "df=df.drop(['Full Bath.1','Exter Cond.1',\t'Bsmt Exposure.1',\t'Heating QC.1'], axis=1)\n",
        "# df.info()"
      ],
      "metadata": {
        "id": "sVi6na4R7ZgG"
      },
      "execution_count": null,
      "outputs": []
    },
    {
      "cell_type": "markdown",
      "source": [
        "### Ordinal Features: Encoding"
      ],
      "metadata": {
        "id": "sohgxGKj89h4"
      }
    },
    {
      "cell_type": "code",
      "source": [
        "ordinal_features = ['Exter Cond',\t'Bsmt Exposure',\t'Heating QC']\n",
        "ordinal_encoding = {'Exter Cond': {np.nan: 0, 'Po': 1, 'Fa': 2, 'TA': 3, 'Gd': 4, 'Ex': 5}, \\\n",
        "                    'Bsmt Exposure': {np.nan: 0, 'No': 1, 'Mn': 2, 'Av': 3, 'Gd': 4}, \\\n",
        "                    'Heating QC': {np.nan: 0, 'Po': 1, 'Fa': 2, 'TA': 3, 'Gd': 4, 'Ex': 5}}\n",
        "df.replace(ordinal_encoding, inplace=True)\n",
        "# df['Heating QC'].head()"
      ],
      "metadata": {
        "id": "aqtlU3N42nNa"
      },
      "execution_count": null,
      "outputs": []
    },
    {
      "cell_type": "markdown",
      "source": [
        "### Missing Value Treatment"
      ],
      "metadata": {
        "id": "srL1VFyrYEbK"
      }
    },
    {
      "cell_type": "code",
      "source": [
        "nan_cols = [i for i in df.columns if df[i].isnull().sum()>=1]\n",
        "print(nan_cols)"
      ],
      "metadata": {
        "colab": {
          "base_uri": "https://localhost:8080/"
        },
        "id": "tg0nVCa1nvf-",
        "outputId": "04407624-7ef4-42b7-fec7-18b4ab1c5095"
      },
      "execution_count": null,
      "outputs": [
        {
          "output_type": "stream",
          "name": "stdout",
          "text": [
            "['Lot Frontage', 'Mas Vnr Type', 'Mas Vnr Area', 'BsmtFin SF 2']\n"
          ]
        }
      ]
    },
    {
      "cell_type": "code",
      "source": [
        "numerical_with_nan=[feature for feature in df.columns if df[feature].isnull().sum()>1 and df[feature].dtypes!='O']\n",
        "numerical_with_nan\n",
        "for feature in numerical_with_nan:\n",
        "    median_value=df[feature].median()\n",
        "    df[feature].fillna(median_value,inplace=True)\n",
        "df[numerical_with_nan].isnull().sum()"
      ],
      "metadata": {
        "colab": {
          "base_uri": "https://localhost:8080/"
        },
        "id": "A7Y_5LqwoHz0",
        "outputId": "b6fbb86c-0a23-4c34-ea97-77b97ea8d584"
      },
      "execution_count": null,
      "outputs": [
        {
          "output_type": "execute_result",
          "data": {
            "text/plain": [
              "Lot Frontage    0\n",
              "Mas Vnr Area    0\n",
              "dtype: int64"
            ]
          },
          "metadata": {},
          "execution_count": 47
        }
      ]
    },
    {
      "cell_type": "code",
      "source": [
        "categorical_features=[feature for feature in df.columns if df[feature].dtype=='O']\n",
        "for feature in categorical_features:\n",
        "    print((df[feature].value_counts()))"
      ],
      "metadata": {
        "id": "i_XpQTetqWAc"
      },
      "execution_count": null,
      "outputs": []
    },
    {
      "cell_type": "code",
      "source": [
        "for feature in categorical_features:\n",
        "    temp=df.groupby(feature)['Lot Area'].count()/len(df)\n",
        "    temp_df=temp[temp>0.01].index\n",
        "    df[feature]=np.where(df[feature].isin(temp_df),df[feature],'Rare_var')"
      ],
      "metadata": {
        "id": "7dJ1PgQbsVvE"
      },
      "execution_count": null,
      "outputs": []
    },
    {
      "cell_type": "code",
      "source": [
        "categorical_features=[feature for feature in df.columns if df[feature].dtype=='O']\n",
        "for feature in categorical_features:\n",
        "    print((df[feature].value_counts()))"
      ],
      "metadata": {
        "id": "bps6cBC_sj90"
      },
      "execution_count": null,
      "outputs": []
    },
    {
      "cell_type": "code",
      "source": [
        "df['Condition 1'].replace({'RRAn' : 'Rare_var','PosN' : 'Rare_var'},inplace=True)\n",
        "df['Functional'].replace({'Mod' : 'Rare_var'},inplace=True)"
      ],
      "metadata": {
        "id": "h17dvUcPX9be"
      },
      "execution_count": null,
      "outputs": []
    },
    {
      "cell_type": "code",
      "source": [
        "df.isnull().sum()"
      ],
      "metadata": {
        "id": "YEgIm2QhwfN0"
      },
      "execution_count": null,
      "outputs": []
    },
    {
      "cell_type": "code",
      "source": [
        "df['BsmtFin SF 2'].fillna(0,inplace=True)\n",
        "df['SalePrice_binary'] = (df['SalePrice'] >df['SalePrice'].median())*1\n",
        "df2=df.copy()"
      ],
      "metadata": {
        "id": "3SQwc3WyxOSv"
      },
      "execution_count": null,
      "outputs": []
    },
    {
      "cell_type": "markdown",
      "source": [
        "### log transformation of SalePrice"
      ],
      "metadata": {
        "id": "4GdPsNeemXFp"
      }
    },
    {
      "cell_type": "code",
      "source": [
        "print (\"Skew is:\", df.SalePrice.skew())\n",
        "plt.hist(df.SalePrice, color='blue')\n",
        "plt.show()"
      ],
      "metadata": {
        "colab": {
          "base_uri": "https://localhost:8080/",
          "height": 282
        },
        "id": "w-UZGjGKknJY",
        "outputId": "5303b639-44ba-4949-b2d2-034210e465c5"
      },
      "execution_count": null,
      "outputs": [
        {
          "output_type": "stream",
          "name": "stdout",
          "text": [
            "Skew is: 1.9112525306197887\n"
          ]
        },
        {
          "output_type": "display_data",
          "data": {
            "text/plain": [
              "<Figure size 432x288 with 1 Axes>"
            ],
            "image/png": "[encoded data removed]"
          },
          "metadata": {
            "needs_background": "light"
          }
        }
      ]
    },
    {
      "cell_type": "code",
      "source": [
        "target = np.log(df.SalePrice)\n",
        "print (\"Skew is:\", target.skew())\n",
        "plt.hist(target, color='blue')\n",
        "plt.show()"
      ],
      "metadata": {
        "colab": {
          "base_uri": "https://localhost:8080/",
          "height": 282
        },
        "id": "jT4ep054ku9H",
        "outputId": "694c3a32-78b9-4cc1-dfa0-f81c61ea4b95"
      },
      "execution_count": null,
      "outputs": [
        {
          "output_type": "stream",
          "name": "stdout",
          "text": [
            "Skew is: 0.05191491454386725\n"
          ]
        },
        {
          "output_type": "display_data",
          "data": {
            "text/plain": [
              "<Figure size 432x288 with 1 Axes>"
            ],
            "image/png": "[encoded data removed]"
          },
          "metadata": {
            "needs_background": "light"
          }
        }
      ]
    },
    {
      "cell_type": "markdown",
      "metadata": {
        "id": "BvoskOUrHuX3"
      },
      "source": [
        "### Use one-hot enconding to convert the categorical variables into dummies."
      ]
    },
    {
      "cell_type": "code",
      "execution_count": null,
      "metadata": {
        "id": "LVssNrKTHuX3",
        "colab": {
          "base_uri": "https://localhost:8080/"
        },
        "outputId": "e05de88e-8247-4d9d-a515-3cbb572db0d3"
      },
      "outputs": [
        {
          "output_type": "execute_result",
          "data": {
            "text/plain": [
              "(1601, 42)"
            ]
          },
          "metadata": {},
          "execution_count": 54
        }
      ],
      "source": [
        "df = pd.get_dummies(df, drop_first=True)\n",
        "df.shape"
      ]
    },
    {
      "cell_type": "code",
      "source": [
        "df.info()"
      ],
      "metadata": {
        "id": "3mGP2hvmaBuI"
      },
      "execution_count": null,
      "outputs": []
    },
    {
      "cell_type": "markdown",
      "metadata": {
        "id": "cIB06XPvHuX3"
      },
      "source": [
        "#### Training/Testing Splits "
      ]
    },
    {
      "cell_type": "code",
      "execution_count": null,
      "metadata": {
        "id": "72xiq3AiHuX4",
        "colab": {
          "base_uri": "https://localhost:8080/"
        },
        "outputId": "b1bf7ee0-dbda-45df-cca8-7140afae85fa"
      },
      "outputs": [
        {
          "output_type": "execute_result",
          "data": {
            "text/plain": [
              "((1120, 40), (1120,), (481, 40), (481,))"
            ]
          },
          "metadata": {},
          "execution_count": 111
        }
      ],
      "source": [
        "X_train, X_test, y_train, y_test = train_test_split(df.drop(['SalePrice','SalePrice_binary'], axis=1), \n",
        "                                                    np.log(df.SalePrice),\n",
        "                                                    test_size=0.3,\n",
        "                                                    random_state=1234)\n",
        "X_train.shape, y_train.shape, X_test.shape, y_test.shape"
      ]
    },
    {
      "cell_type": "markdown",
      "source": [
        "### OLS Regression-Base Model"
      ],
      "metadata": {
        "id": "8kR99w4yGhqF"
      }
    },
    {
      "cell_type": "code",
      "source": [
        "from sklearn import metrics\n",
        "from sklearn.metrics import mean_squared_error,mean_absolute_error,explained_variance_score, r2_score\n",
        "md=linear_model.LinearRegression().fit(X_train, y_train)\n",
        "y_pred=md.predict(X_test)\n",
        "y_pred_bi_ols =(y_pred> df['SalePrice'].median())*1"
      ],
      "metadata": {
        "id": "nXu909b7yxs3"
      },
      "execution_count": null,
      "outputs": []
    },
    {
      "cell_type": "code",
      "source": [
        ""
      ],
      "metadata": {
        "id": "a8zPgYdq-bMz"
      },
      "execution_count": null,
      "outputs": []
    },
    {
      "cell_type": "code",
      "source": [
        "print('Mean Absolute Error(MAE):', metrics.mean_absolute_error(y_test, y_pred))\n",
        "print('Mean Squared Error(MSE):', metrics.mean_squared_error(y_test, y_pred))\n",
        "print('Root Mean Squared Error (RMSE):', np.sqrt(metrics.mean_squared_error(y_test, y_pred)))\n",
        "print('R2:',metrics.r2_score(y_test,  y_pred))"
      ],
      "metadata": {
        "colab": {
          "base_uri": "https://localhost:8080/"
        },
        "id": "Jm-mZlrJxq0B",
        "outputId": "276c5420-7441-45f7-85f6-65d23a815880"
      },
      "execution_count": null,
      "outputs": [
        {
          "output_type": "stream",
          "name": "stdout",
          "text": [
            "Mean Absolute Error(MAE): 0.12640402236374523\n",
            "Mean Squared Error(MSE): 0.03273764151667387\n",
            "Root Mean Squared Error (RMSE): 0.18093546229712368\n",
            "R2: 0.8040106417321932\n"
          ]
        }
      ]
    },
    {
      "cell_type": "markdown",
      "source": [
        "### Multicolinearity Check with VIF"
      ],
      "metadata": {
        "id": "7AlQXJVkbVtb"
      }
    },
    {
      "cell_type": "code",
      "source": [
        "import statsmodels.api as sm\n",
        "from statsmodels.stats.outliers_influence import variance_inflation_factor\n",
        "x_temp = sm.add_constant(X_train)\n",
        "vif = pd.DataFrame()\n",
        "vif[\"VIF Factor\"] = [variance_inflation_factor(x_temp.values, i) for i in range(x_temp.values.shape[1])]\n",
        "vif[\"features\"] = x_temp.columns\n",
        "print(vif.round(1))"
      ],
      "metadata": {
        "colab": {
          "base_uri": "https://localhost:8080/"
        },
        "id": "nJMD4sbpEY6r",
        "outputId": "f3de5edc-80ec-43ee-f691-d527b9401268"
      },
      "execution_count": null,
      "outputs": [
        {
          "output_type": "stream",
          "name": "stderr",
          "text": [
            "/usr/local/lib/python3.7/dist-packages/statsmodels/tsa/tsatools.py:117: FutureWarning: In a future version of pandas all arguments of concat except for the argument 'objs' will be keyword-only\n",
            "  x = pd.concat(x[::order], 1)\n"
          ]
        },
        {
          "output_type": "stream",
          "name": "stdout",
          "text": [
            "    VIF Factor                 features\n",
            "0    2533993.5                    const\n",
            "1          2.1              MS SubClass\n",
            "2          1.5             Lot Frontage\n",
            "3          1.2                 Lot Area\n",
            "4          2.8             Overall Qual\n",
            "5          2.3             Mas Vnr Area\n",
            "6          1.1               Exter Cond\n",
            "7          1.5            Bsmt Exposure\n",
            "8          1.1             BsmtFin SF 2\n",
            "9          1.5               Heating QC\n",
            "10         1.1          Low Qual Fin SF\n",
            "11         2.0                Full Bath\n",
            "12         1.8            Bedroom AbvGr\n",
            "13         1.6            Kitchen AbvGr\n",
            "14         2.0              Garage Cars\n",
            "15         1.2           Enclosed Porch\n",
            "16         1.1             Screen Porch\n",
            "17         1.1                 Misc Val\n",
            "18         1.1                  Yr Sold\n",
            "19         2.4        Condition 1_Feedr\n",
            "20         3.9         Condition 1_Norm\n",
            "21         2.7     Condition 1_Rare_var\n",
            "22         1.2     Condition 2_Rare_var\n",
            "23         3.9       House Style_1Story\n",
            "24         3.3       House Style_2Story\n",
            "25         1.2     House Style_Rare_var\n",
            "26         1.7       House Style_SFoyer\n",
            "27         1.6         House Style_SLvl\n",
            "28         1.2           Roof Style_Hip\n",
            "29         1.1      Roof Style_Rare_var\n",
            "30         2.6        Mas Vnr Type_None\n",
            "31         1.2    Mas Vnr Type_Rare_var\n",
            "32         1.3       Mas Vnr Type_Stone\n",
            "33         1.1         Heating_Rare_var\n",
            "34         2.0          Functional_Min2\n",
            "35         2.2      Functional_Rare_var\n",
            "36         3.1           Functional_Typ\n",
            "37         1.2    Sale Condition_Family\n",
            "38         2.4    Sale Condition_Normal\n",
            "39         2.4   Sale Condition_Partial\n",
            "40         1.4  Sale Condition_Rare_var\n"
          ]
        }
      ]
    },
    {
      "cell_type": "markdown",
      "source": [
        "#### Grid Search for Ridge(l1) Regularization with k-fold cross validation"
      ],
      "metadata": {
        "id": "4fjMk3o2GoSK"
      }
    },
    {
      "cell_type": "code",
      "source": [
        "from sklearn.model_selection import GridSearchCV\n",
        "#lasso\n",
        "params = {'alpha': [0.001, 0.01,.1,1,10,50,100,110, 120,130,140,150,200,500]}\n",
        "ridge = linear_model.Ridge()\n",
        "\n",
        "# cross validation\n",
        "model_cv_l = GridSearchCV(estimator = ridge, \n",
        "                        param_grid = params, \n",
        "                        scoring= 'neg_mean_absolute_error', \n",
        "                        cv = 5, \n",
        "                        return_train_score=True,\n",
        "                        verbose = 1)            \n",
        "\n",
        "model_cv_l.fit(X_train, y_train)"
      ],
      "metadata": {
        "colab": {
          "base_uri": "https://localhost:8080/"
        },
        "id": "WYbJgGLT88X0",
        "outputId": "03ad1871-c3b8-4aa4-87d6-44b6a1982b60"
      },
      "execution_count": null,
      "outputs": [
        {
          "output_type": "stream",
          "name": "stdout",
          "text": [
            "Fitting 5 folds for each of 14 candidates, totalling 70 fits\n"
          ]
        },
        {
          "output_type": "execute_result",
          "data": {
            "text/plain": [
              "GridSearchCV(cv=5, estimator=Ridge(),\n",
              "             param_grid={'alpha': [0.001, 0.01, 0.1, 1, 10, 50, 100, 110, 120,\n",
              "                                   130, 140, 150, 200, 500]},\n",
              "             return_train_score=True, scoring='neg_mean_absolute_error',\n",
              "             verbose=1)"
            ]
          },
          "metadata": {},
          "execution_count": 86
        }
      ]
    },
    {
      "cell_type": "code",
      "source": [
        "print(model_cv_l.best_params_)\n",
        "print(model_cv_l.best_score_)"
      ],
      "metadata": {
        "colab": {
          "base_uri": "https://localhost:8080/"
        },
        "id": "9iDoO8ao-Tll",
        "outputId": "53b82ca5-48d8-4c73-84c3-e4d13ef71cce"
      },
      "execution_count": null,
      "outputs": [
        {
          "output_type": "stream",
          "name": "stdout",
          "text": [
            "{'alpha': 50}\n",
            "-0.1307748237174483\n"
          ]
        }
      ]
    },
    {
      "cell_type": "markdown",
      "source": [
        "### OLS Ridge Regression"
      ],
      "metadata": {
        "id": "HR7ri0dNGzxs"
      }
    },
    {
      "cell_type": "code",
      "source": [
        "md=linear_model.Ridge(alpha =model_cv_l.best_params_['alpha']).fit(X_train, y_train)\n",
        "y_pred=md.predict(X_test)\n",
        "y_pred_bi_lasso =(np.exp(y_pred)> df['SalePrice'].median())*1\n",
        "print('Mean Absolute Error(MAE):', metrics.mean_absolute_error(y_test, y_pred))\n",
        "print('Mean Squared Error(MSE):', metrics.mean_squared_error(y_test, y_pred))\n",
        "print('Root Mean Squared Error (RMSE):', np.sqrt(metrics.mean_squared_error(y_test, y_pred)))\n",
        "print('R2:',metrics.r2_score(y_test,  y_pred))"
      ],
      "metadata": {
        "colab": {
          "base_uri": "https://localhost:8080/"
        },
        "id": "wa0s2q1yACAW",
        "outputId": "cec3583b-8ecc-4aa5-abf9-3b22643b7ce0"
      },
      "execution_count": null,
      "outputs": [
        {
          "output_type": "stream",
          "name": "stdout",
          "text": [
            "Mean Absolute Error(MAE): 0.12472493713821661\n",
            "Mean Squared Error(MSE): 0.03153312608002467\n",
            "Root Mean Squared Error (RMSE): 0.17757569112923274\n",
            "R2: 0.811221674553\n"
          ]
        }
      ]
    },
    {
      "cell_type": "code",
      "source": [
        "np.exp(y_pred[:5])"
      ],
      "metadata": {
        "colab": {
          "base_uri": "https://localhost:8080/"
        },
        "id": "f1O884ZqoHQz",
        "outputId": "0fd35ef1-b24b-4d3d-dcd3-e4bc8e48f5be"
      },
      "execution_count": null,
      "outputs": [
        {
          "output_type": "execute_result",
          "data": {
            "text/plain": [
              "array([137796.02810934, 295637.56351963, 177985.09267361, 203640.03974975,\n",
              "       201091.75939615])"
            ]
          },
          "metadata": {},
          "execution_count": 116
        }
      ]
    },
    {
      "cell_type": "code",
      "source": [
        "plt.scatter(y_pred, y_test, alpha=.7,\n",
        "            color='b') \n",
        "plt.xlabel('Predicted Price(Log)')\n",
        "plt.ylabel('Actual Price(Log)')\n",
        "plt.title('Linear Regression Model')\n",
        "plt.show()"
      ],
      "metadata": {
        "colab": {
          "base_uri": "https://localhost:8080/",
          "height": 295
        },
        "id": "RHl8OnbWmhzW",
        "outputId": "443d8069-b437-439b-a65c-e5618b1c6a80"
      },
      "execution_count": null,
      "outputs": [
        {
          "output_type": "display_data",
          "data": {
            "text/plain": [
              "<Figure size 432x288 with 1 Axes>"
            ],
            "image/png": "[encoded data removed]"
          },
          "metadata": {
            "needs_background": "light"
          }
        }
      ]
    },
    {
      "cell_type": "markdown",
      "metadata": {
        "id": "bOyitV1aHuX4"
      },
      "source": [
        "### Classification model - Train/Test splits"
      ]
    },
    {
      "cell_type": "code",
      "source": [
        "X_train, X_test, y_train, y_test = train_test_split(df.drop(['SalePrice','SalePrice_binary'], axis=1), \n",
        "                                                    df['SalePrice_binary'],\n",
        "                                                    test_size=0.3,\n",
        "                                                    random_state=1234)\n",
        "X_train.shape, y_train.shape, X_test.shape, y_test.shape"
      ],
      "metadata": {
        "colab": {
          "base_uri": "https://localhost:8080/"
        },
        "id": "58Qzdq7sBqak",
        "outputId": "f35006bc-6da4-4159-8daa-745dadcd241f"
      },
      "execution_count": null,
      "outputs": [
        {
          "output_type": "execute_result",
          "data": {
            "text/plain": [
              "((1120, 40), (1120,), (481, 40), (481,))"
            ]
          },
          "metadata": {},
          "execution_count": 144
        }
      ]
    },
    {
      "cell_type": "markdown",
      "source": [
        "### Logistics Regression"
      ],
      "metadata": {
        "id": "X9Y8q-90D3PJ"
      }
    },
    {
      "cell_type": "code",
      "source": [
        "from sklearn.linear_model import LogisticRegression\n",
        "from sklearn.metrics import roc_curve, auc,matthews_corrcoef\n",
        "logr = LogisticRegression(random_state=0,penalty=\"none\",max_iter=25000).fit(X_train, y_train)\n",
        "y_pred=logr.predict(X_test) \n",
        "ac_lr=logr.score(X_test, y_test)\n",
        "mc_lr=matthews_corrcoef(y_test, y_pred)\n",
        "print(f'The accuracy of Logistic Regression : {ac_lr:.5}')\n",
        "print(f'Mattews Correlation Coefficient is: {mc_lr:.5}')"
      ],
      "metadata": {
        "colab": {
          "base_uri": "https://localhost:8080/"
        },
        "id": "s1rGRN8QCeD2",
        "outputId": "effcb226-2b6d-45ee-d158-fef1e9b63e28"
      },
      "execution_count": null,
      "outputs": [
        {
          "output_type": "stream",
          "name": "stdout",
          "text": [
            "The accuracy of Logistic Regression : 0.89813\n",
            "Mattews Correlation Coefficient is: 0.79645\n"
          ]
        }
      ]
    },
    {
      "cell_type": "markdown",
      "source": [
        "### Random Forest"
      ],
      "metadata": {
        "id": "rP0IRHUaD6YT"
      }
    },
    {
      "cell_type": "code",
      "source": [
        "from sklearn.ensemble import RandomForestClassifier\n",
        "rf = RandomForestClassifier(max_depth=20,n_estimators=300, min_samples_leaf=2,min_samples_split=20,criterion='entropy', oob_score=True,random_state=42)\n",
        "rf.fit(X_train, y_train)\n",
        "y_predict = rf.predict(X_test)\n",
        "mc_sk_income_rf=matthews_corrcoef(y_test, y_predict)\n",
        "print(f'Accuracy of SKLearn Random Forest: {rf.score(X_test, y_test):.5}')\n",
        "print(f'Matthews Coefficient for SKLearn Random Forest: {mc_sk_income_rf:.5}')"
      ],
      "metadata": {
        "colab": {
          "base_uri": "https://localhost:8080/"
        },
        "id": "EQ5WuvV2D9wd",
        "outputId": "e3feebef-d57d-4d6e-dfb2-226d085ed147"
      },
      "execution_count": null,
      "outputs": [
        {
          "output_type": "stream",
          "name": "stdout",
          "text": [
            "Accuracy of SKLearn Random Forest: 0.90229\n",
            "Matthews Coefficient for SKLearn Random Forest: 0.80519\n"
          ]
        }
      ]
    },
    {
      "cell_type": "markdown",
      "source": [
        "### Label encoding instead of one-hot for classification trees"
      ],
      "metadata": {
        "id": "f10EPaqZdVIt"
      }
    },
    {
      "cell_type": "code",
      "source": [
        "cat_columns = df2.select_dtypes(['object']).columns\n",
        "cat_columns"
      ],
      "metadata": {
        "colab": {
          "base_uri": "https://localhost:8080/"
        },
        "id": "k09g2oQJdUnw",
        "outputId": "eee10833-6ec4-4837-9650-baee5b1059ef"
      },
      "execution_count": null,
      "outputs": [
        {
          "output_type": "execute_result",
          "data": {
            "text/plain": [
              "Index(['Condition 1', 'Condition 2', 'House Style', 'Roof Style',\n",
              "       'Mas Vnr Type', 'Heating', 'Functional', 'Sale Condition'],\n",
              "      dtype='object')"
            ]
          },
          "metadata": {},
          "execution_count": 79
        }
      ]
    },
    {
      "cell_type": "code",
      "source": [
        "df2[cat_columns] = df2[cat_columns].apply(lambda x: pd.factorize(x)[0])\n",
        "df2.head()"
      ],
      "metadata": {
        "id": "ZITdlvvPjd4g"
      },
      "execution_count": null,
      "outputs": []
    },
    {
      "cell_type": "code",
      "source": [
        "X2_train, X2_test, y2_train, y2_test = train_test_split(df2.drop(['SalePrice','SalePrice_binary'], axis=1), \n",
        "                                                    df2['SalePrice_binary'],\n",
        "                                                    test_size=0.3,\n",
        "                                                    random_state=1234)\n",
        "X2_train.shape, y2_train.shape, X2_test.shape, y2_test.shape"
      ],
      "metadata": {
        "colab": {
          "base_uri": "https://localhost:8080/"
        },
        "id": "PtcUeCRyj7UF",
        "outputId": "faf3c4ca-949c-4c18-bf43-97bd169841e9"
      },
      "execution_count": null,
      "outputs": [
        {
          "output_type": "execute_result",
          "data": {
            "text/plain": [
              "((1120, 26), (1120,), (481, 26), (481,))"
            ]
          },
          "metadata": {},
          "execution_count": 81
        }
      ]
    },
    {
      "cell_type": "code",
      "source": [
        "rf = RandomForestClassifier(max_depth=30,n_estimators=300, min_samples_leaf=2,min_samples_split=20,criterion='entropy', oob_score=True,random_state=42)\n",
        "rf.fit(X2_train, y2_train)\n",
        "y2_predict = rf.predict(X2_test)\n",
        "mc_sk_income_rf=matthews_corrcoef(y2_test, y2_predict)\n",
        "print(f'Accuracy of SKLearn Random Forest: {rf.score(X2_test, y2_test):.5}')\n",
        "print(f'Matthews Coefficient for SKLearn Random Forest: {mc_sk_income_rf:.5}')"
      ],
      "metadata": {
        "colab": {
          "base_uri": "https://localhost:8080/"
        },
        "id": "-t14ijnIkiug",
        "outputId": "a6cd80b9-1e5e-48a6-bcad-8bb825a5730d"
      },
      "execution_count": null,
      "outputs": [
        {
          "output_type": "stream",
          "name": "stdout",
          "text": [
            "Accuracy of SKLearn Random Forest: 0.89813\n",
            "Matthews Coefficient for SKLearn Random Forest: 0.79645\n"
          ]
        }
      ]
    },
    {
      "cell_type": "markdown",
      "source": [
        "### Observations on Various Models\n",
        "#### Home Price Prediction: \n",
        "| Method |MAE| MSE|RMSE||            \n",
        "| :- |--- |:-:|||\n",
        "| OLS Base model |0.1264 |0.0327|0.1809||\n",
        "| OLS Ridge | 0.1247 |0.0315|0.1776||  \n",
        "\n",
        "### Above Median Value Prediction:\n",
        "| Method |Accuracy| Matthew's Coef|            \n",
        "| :- | --- |:-:|\n",
        "| Logistics Regression|0.8981 |0.7965|\n",
        "| Random Forest-One Hot Encoding | 0.9023 |0.8052|  \n",
        "| Random Forest-Label Encoding | 0.8981 |0.7965|  \n",
        "\n",
        "### OLS with ridge regularization and Random Forest(one-hot encoding)  will be used for House Price prediction\n"
      ],
      "metadata": {
        "id": "3KsKWVgPAEwq"
      }
    },
    {
      "cell_type": "markdown",
      "source": [
        "## Prediction for the houses in house_SalePrice_predict.csv\n",
        "### Data Preperation -applying all steps in training data"
      ],
      "metadata": {
        "id": "KB-NDnTUc0fF"
      }
    },
    {
      "cell_type": "code",
      "source": [
        "df_p=df_p.drop(['Full Bath.1','Exter Cond.1',\t'Bsmt Exposure.1',\t'Heating QC.1'], axis=1)\n",
        "df_p.replace(ordinal_encoding, inplace=True)"
      ],
      "metadata": {
        "id": "7BpV65B4qEBr"
      },
      "execution_count": null,
      "outputs": []
    },
    {
      "cell_type": "code",
      "source": [
        "nan_cols = [i for i in df_p.columns if df_p[i].isnull().sum()>=1]\n",
        "print(nan_cols)"
      ],
      "metadata": {
        "colab": {
          "base_uri": "https://localhost:8080/"
        },
        "id": "t_b2LH1oU1u_",
        "outputId": "b0510a67-8148-486a-8916-d9a029641a9f"
      },
      "execution_count": null,
      "outputs": [
        {
          "output_type": "stream",
          "name": "stdout",
          "text": [
            "['Lot Frontage', 'Mas Vnr Type', 'Mas Vnr Area', 'Garage Cars']\n"
          ]
        }
      ]
    },
    {
      "cell_type": "code",
      "source": [
        "numerical_with_nan=[feature for feature in df_p.columns if df_p[feature].isnull().sum()>1 and df_p[feature].dtypes!='O']\n",
        "numerical_with_nan\n",
        "for feature in numerical_with_nan:\n",
        "    median_value=df_p[feature].median()\n",
        "    df_p[feature].fillna(median_value,inplace=True)\n",
        "df_p[numerical_with_nan].isnull().sum()"
      ],
      "metadata": {
        "colab": {
          "base_uri": "https://localhost:8080/"
        },
        "id": "G6AQloonVb7t",
        "outputId": "899ed209-9bf0-411c-cbb2-dc7f83274551"
      },
      "execution_count": null,
      "outputs": [
        {
          "output_type": "execute_result",
          "data": {
            "text/plain": [
              "Lot Frontage    0\n",
              "Mas Vnr Area    0\n",
              "dtype: int64"
            ]
          },
          "metadata": {},
          "execution_count": 100
        }
      ]
    },
    {
      "cell_type": "code",
      "source": [
        "categorical_features=[feature for feature in df_p.columns if df_p[feature].dtype=='O']\n",
        "for feature in categorical_features:\n",
        "    print((df_p[feature].value_counts()))"
      ],
      "metadata": {
        "id": "lw2PeE6sV2cV"
      },
      "execution_count": null,
      "outputs": []
    },
    {
      "cell_type": "code",
      "source": [
        "for feature in categorical_features:\n",
        "    temp=df_p.groupby(feature)['Lot Area'].count()/len(df_p)\n",
        "    temp_df=temp[temp>0.01].index\n",
        "    df_p[feature]=np.where(df_p[feature].isin(temp_df),df_p[feature],'Rare_var')"
      ],
      "metadata": {
        "id": "ACE8SkOUFcDp"
      },
      "execution_count": null,
      "outputs": []
    },
    {
      "cell_type": "code",
      "source": [
        "categorical_features=[feature for feature in df_p.columns if df_p[feature].dtype=='O']\n",
        "for feature in categorical_features:\n",
        "    print((df_p[feature].value_counts()))"
      ],
      "metadata": {
        "id": "fa6_v3mtIMUf"
      },
      "execution_count": null,
      "outputs": []
    },
    {
      "cell_type": "code",
      "source": [
        "df_p['Condition 1'].replace({'RRAe' : 'Rare_var','PosA' : 'Rare_var'},inplace=True)\n",
        "df_p['Heating QC'].replace({'Rare_var' : 'Ex'},inplace=True)\n",
        "df_p['Sale Condition'].replace({'Alloca' : 'Rare_var'},inplace=True)\n",
        "df_p['Garage Cars'].fillna(0,inplace=True)"
      ],
      "metadata": {
        "id": "KboIdACrVBk-"
      },
      "execution_count": null,
      "outputs": []
    },
    {
      "cell_type": "code",
      "source": [
        "df_p = pd.get_dummies(df_p, drop_first=True)\n",
        "df_p.shape"
      ],
      "metadata": {
        "colab": {
          "base_uri": "https://localhost:8080/"
        },
        "id": "Rhof5yzgaj9H",
        "outputId": "6dffd18b-7994-46a7-c9b4-044c186aefaa"
      },
      "execution_count": null,
      "outputs": [
        {
          "output_type": "execute_result",
          "data": {
            "text/plain": [
              "(400, 40)"
            ]
          },
          "metadata": {},
          "execution_count": 108
        }
      ]
    },
    {
      "cell_type": "code",
      "source": [
        "df_p.isnull().sum()"
      ],
      "metadata": {
        "id": "rbbnDcvphUWJ"
      },
      "execution_count": null,
      "outputs": []
    },
    {
      "cell_type": "markdown",
      "source": [
        "### Prediction"
      ],
      "metadata": {
        "id": "8TPm7LRMLLuX"
      }
    },
    {
      "cell_type": "code",
      "source": [
        "# Price prediction using the Ridge Regression\n",
        "y_pred_ridge=md.predict(df_p)\n",
        "# Above Med price Prediction using Random Forest\n",
        "y_pred_rf=rf.predict(df_p)"
      ],
      "metadata": {
        "id": "-Tyy-CQOXB1Z"
      },
      "execution_count": null,
      "outputs": []
    },
    {
      "cell_type": "code",
      "source": [
        "# Storing the prediction results in a dataframe\n",
        "prediction = pd.DataFrame(data = np.round(np.exp(y_pred_ridge),0), columns = ['BestSalePrice'])\n",
        "prediction.insert(1, 'BestAboveMedian',y_pred_rf)\n",
        "prediction.head(5)"
      ],
      "metadata": {
        "colab": {
          "base_uri": "https://localhost:8080/",
          "height": 206
        },
        "id": "EW2-kY-aXHfq",
        "outputId": "ace49f09-3953-4f7c-d2b6-156ad7e3a69c"
      },
      "execution_count": null,
      "outputs": [
        {
          "output_type": "execute_result",
          "data": {
            "text/plain": [
              "   BestSalePrice  BestAboveMedian\n",
              "0       184773.0                1\n",
              "1       230972.0                1\n",
              "2       128684.0                0\n",
              "3       128895.0                0\n",
              "4       135504.0                0"
            ],
            "text/html": [
              "\n",
              "  <div id=\"df-aba5b6b7-f85e-41c8-92a1-ac3e0e393376\">\n",
              "    <div class=\"colab-df-container\">\n",
              "      <div>\n",
              "<style scoped>\n",
              "    .dataframe tbody tr th:only-of-type {\n",
              "        vertical-align: middle;\n",
              "    }\n",
              "\n",
              "    .dataframe tbody tr th {\n",
              "        vertical-align: top;\n",
              "    }\n",
              "\n",
              "    .dataframe thead th {\n",
              "        text-align: right;\n",
              "    }\n",
              "</style>\n",
              "<table border=\"1\" class=\"dataframe\">\n",
              "  <thead>\n",
              "    <tr style=\"text-align: right;\">\n",
              "      <th></th>\n",
              "      <th>BestSalePrice</th>\n",
              "      <th>BestAboveMedian</th>\n",
              "    </tr>\n",
              "  </thead>\n",
              "  <tbody>\n",
              "    <tr>\n",
              "      <th>0</th>\n",
              "      <td>184773.0</td>\n",
              "      <td>1</td>\n",
              "    </tr>\n",
              "    <tr>\n",
              "      <th>1</th>\n",
              "      <td>230972.0</td>\n",
              "      <td>1</td>\n",
              "    </tr>\n",
              "    <tr>\n",
              "      <th>2</th>\n",
              "      <td>128684.0</td>\n",
              "      <td>0</td>\n",
              "    </tr>\n",
              "    <tr>\n",
              "      <th>3</th>\n",
              "      <td>128895.0</td>\n",
              "      <td>0</td>\n",
              "    </tr>\n",
              "    <tr>\n",
              "      <th>4</th>\n",
              "      <td>135504.0</td>\n",
              "      <td>0</td>\n",
              "    </tr>\n",
              "  </tbody>\n",
              "</table>\n",
              "</div>\n",
              "      <button class=\"colab-df-convert\" onclick=\"convertToInteractive('df-aba5b6b7-f85e-41c8-92a1-ac3e0e393376')\"\n",
              "              title=\"Convert this dataframe to an interactive table.\"\n",
              "              style=\"display:none;\">\n",
              "        \n",
              "  <svg xmlns=\"http://www.w3.org/2000/svg\" height=\"24px\"viewBox=\"0 0 24 24\"\n",
              "       width=\"24px\">\n",
              "    <path d=\"M0 0h24v24H0V0z\" fill=\"none\"/>\n",
              "    <path d=\"M18.56 5.44l.94 2.06.94-2.06 2.06-.94-2.06-.94-.94-2.06-.94 2.06-2.06.94zm-11 1L8.5 8.5l.94-2.06 2.06-.94-2.06-.94L8.5 2.5l-.94 2.06-2.06.94zm10 10l.94 2.06.94-2.06 2.06-.94-2.06-.94-.94-2.06-.94 2.06-2.06.94z\"/><path d=\"M17.41 7.96l-1.37-1.37c-.4-.4-.92-.59-1.43-.59-.52 0-1.04.2-1.43.59L10.3 9.45l-7.72 7.72c-.78.78-.78 2.05 0 2.83L4 21.41c.39.39.9.59 1.41.59.51 0 1.02-.2 1.41-.59l7.78-7.78 2.81-2.81c.8-.78.8-2.07 0-2.86zM5.41 20L4 18.59l7.72-7.72 1.47 1.35L5.41 20z\"/>\n",
              "  </svg>\n",
              "      </button>\n",
              "      \n",
              "  <style>\n",
              "    .colab-df-container {\n",
              "      display:flex;\n",
              "      flex-wrap:wrap;\n",
              "      gap: 12px;\n",
              "    }\n",
              "\n",
              "    .colab-df-convert {\n",
              "      background-color: #E8F0FE;\n",
              "      border: none;\n",
              "      border-radius: 50%;\n",
              "      cursor: pointer;\n",
              "      display: none;\n",
              "      fill: #1967D2;\n",
              "      height: 32px;\n",
              "      padding: 0 0 0 0;\n",
              "      width: 32px;\n",
              "    }\n",
              "\n",
              "    .colab-df-convert:hover {\n",
              "      background-color: #E2EBFA;\n",
              "      box-shadow: 0px 1px 2px rgba(60, 64, 67, 0.3), 0px 1px 3px 1px rgba(60, 64, 67, 0.15);\n",
              "      fill: #174EA6;\n",
              "    }\n",
              "\n",
              "    [theme=dark] .colab-df-convert {\n",
              "      background-color: #3B4455;\n",
              "      fill: #D2E3FC;\n",
              "    }\n",
              "\n",
              "    [theme=dark] .colab-df-convert:hover {\n",
              "      background-color: #434B5C;\n",
              "      box-shadow: 0px 1px 3px 1px rgba(0, 0, 0, 0.15);\n",
              "      filter: drop-shadow(0px 1px 2px rgba(0, 0, 0, 0.3));\n",
              "      fill: #FFFFFF;\n",
              "    }\n",
              "  </style>\n",
              "\n",
              "      <script>\n",
              "        const buttonEl =\n",
              "          document.querySelector('#df-aba5b6b7-f85e-41c8-92a1-ac3e0e393376 button.colab-df-convert');\n",
              "        buttonEl.style.display =\n",
              "          google.colab.kernel.accessAllowed ? 'block' : 'none';\n",
              "\n",
              "        async function convertToInteractive(key) {\n",
              "          const element = document.querySelector('#df-aba5b6b7-f85e-41c8-92a1-ac3e0e393376');\n",
              "          const dataTable =\n",
              "            await google.colab.kernel.invokeFunction('convertToInteractive',\n",
              "                                                     [key], {});\n",
              "          if (!dataTable) return;\n",
              "\n",
              "          const docLinkHtml = 'Like what you see? Visit the ' +\n",
              "            '<a target=\"_blank\" href=https://colab.research.google.com/notebooks/data_table.ipynb>data table notebook</a>'\n",
              "            + ' to learn more about interactive tables.';\n",
              "          element.innerHTML = '';\n",
              "          dataTable['output_type'] = 'display_data';\n",
              "          await google.colab.output.renderOutput(dataTable, element);\n",
              "          const docLink = document.createElement('div');\n",
              "          docLink.innerHTML = docLinkHtml;\n",
              "          element.appendChild(docLink);\n",
              "        }\n",
              "      </script>\n",
              "    </div>\n",
              "  </div>\n",
              "  "
            ]
          },
          "metadata": {},
          "execution_count": 148
        }
      ]
    },
    {
      "cell_type": "code",
      "source": [
        "#Creating final csv\n",
        "prediction.to_csv(path_or_buf = 'kurian_prediction.csv', sep = ',', index = False, header = True)"
      ],
      "metadata": {
        "id": "Lq3bHe2GtckJ"
      },
      "execution_count": null,
      "outputs": []
    }
  ],
  "metadata": {
    "colab": {
      "collapsed_sections": [],
      "name": "CS530_Week9_HousePrice_Prediction.ipynb",
      "provenance": [],
      "include_colab_link": true
    },
    "kernelspec": {
      "display_name": "Python 3",
      "language": "python",
      "name": "python3"
    },
    "language_info": {
      "codemirror_mode": {
        "name": "ipython",
        "version": 3
      },
      "file_extension": ".py",
      "mimetype": "text/x-python",
      "name": "python",
      "nbconvert_exporter": "python",
      "pygments_lexer": "ipython3",
      "version": "3.8.5"
    }
  },
  "nbformat": 4,
  "nbformat_minor": 0
}