{
  "metadata": {
    "kernelspec": {
      "language": "python",
      "display_name": "Python 3",
      "name": "python3"
    },
    "language_info": {
      "name": "python",
      "version": "3.7.12",
      "mimetype": "text/x-python",
      "codemirror_mode": {
        "name": "ipython",
        "version": 3
      },
      "pygments_lexer": "ipython3",
      "nbconvert_exporter": "python",
      "file_extension": ".py"
    },
    "colab": {
      "name": "CS530_hw10_digit-recognizer-Super Learner ensembles stacking classifier.ipynb",
      "provenance": [],
      "include_colab_link": true
    }
  },
  "nbformat_minor": 0,
  "nbformat": 4,
  "cells": [
    {
      "cell_type": "markdown",
      "metadata": {
        "id": "view-in-github",
        "colab_type": "text"
      },
      "source": [
        "<a href=\"https://colab.research.google.com/github/FrancisKurian/CS530/blob/main/CS530_hw10_digit_recognizer_Super_Learner_ensembles_stacking_classifier.ipynb\" target=\"_parent\"><img src=\"https://colab.research.google.com/assets/colab-badge.svg\" alt=\"Open In Colab\"/></a>"
      ]
    },
    {
      "cell_type": "markdown",
      "source": [
        "# HW10\n",
        "## Summary of steps\n",
        "\n",
        "*   Tested XGBooseter as a baseline model \n",
        "*   GridSearch to hyperparameter tuning of XGBooster. \n",
        "*   GridSearch to find l1 and l2 regularization for logistics regression\n",
        "*   K Neighbhor Classifier - Regularization\n",
        "*   Super Learner Ensembles(mlens) & SK Learn StackingClassifier\n",
        "** Evaluate diffrent classification models \n",
        "** Creation of SuperLearner using mlens and StackingClassifier\n",
        "*   Using the best model to predict Kaggle test data.\n",
        "\n",
        "## Performance Summary:\n",
        "| Method |Accuracy|            \n",
        "| :- | :-:|\n",
        "| XGBooster|97.262%|\n",
        "| Logistics Regression-L1 regularization|91.283%|\n",
        "| Logistics Regression-L2 regularization|91.762% |\n",
        "| Random Forest|95.345%|  \n",
        "| KNeighborsClassifier|96.726%|  \n",
        "| AdaBoostClassifier|72.929%|\n",
        "| BaggingClassifier|93.429%|\n",
        "|Super Learner(mlens)|96.3%|\n",
        "|SKLearn Stacking Classifier|94.6%\n",
        "\n",
        "References:  \n",
        "https://towardsdatascience.com/stacking-made-easy-with-sklearn-e27a0793c92b\n",
        "https://machinelearningmastery.com/super-learner-ensemble-in-python/  \n",
        "https://www.mikulskibartosz.name/xgboost-hyperparameter-tuning-in-python-using-grid-search/"
      ],
      "metadata": {
        "id": "FF79eU_jSrlc"
      }
    },
    {
      "cell_type": "code",
      "source": [
        "# This Python 3 environment comes with many helpful analytics libraries installed\n",
        "# It is defined by the kaggle/python Docker image: https://github.com/kaggle/docker-python\n",
        "# For example, here's several helpful packages to load\n",
        "\n",
        "import numpy as np # linear algebra\n",
        "import pandas as pd # data processing, CSV file I/O (e.g. pd.read_csv)\n",
        "\n",
        "# Input data files are available in the read-only \"../input/\" directory\n",
        "# For example, running this (by clicking run or pressing Shift+Enter) will list all files under the input directory\n",
        "\n",
        "import os\n",
        "for dirname, _, filenames in os.walk('/kaggle/input'):\n",
        "    for filename in filenames:\n",
        "        print(os.path.join(dirname, filename))\n",
        "\n",
        "# You can write up to 20GB to the current directory (/kaggle/working/) that gets preserved as output when you create a version using \"Save & Run All\" \n",
        "# You can also write temporary files to /kaggle/temp/, but they won't be saved outside of the current session"
      ],
      "metadata": {
        "_uuid": "8f2839f25d086af736a60e9eeb907d3b93b6e0e5",
        "_cell_guid": "b1076dfc-b9ad-4769-8c92-a6c4dae69d19",
        "execution": {
          "iopub.status.busy": "2022-04-18T05:06:16.929790Z",
          "iopub.execute_input": "2022-04-18T05:06:16.930077Z",
          "iopub.status.idle": "2022-04-18T05:06:16.940084Z",
          "shell.execute_reply.started": "2022-04-18T05:06:16.930047Z",
          "shell.execute_reply": "2022-04-18T05:06:16.939165Z"
        },
        "trusted": true,
        "id": "jDA8DEDYSrlg"
      },
      "execution_count": null,
      "outputs": []
    },
    {
      "cell_type": "code",
      "source": [
        "from sklearn.ensemble import RandomForestClassifier\n",
        "from sklearn.model_selection import train_test_split\n",
        "from sklearn.neighbors import KNeighborsClassifier\n",
        "from sklearn.model_selection import GridSearchCV\n",
        "from sklearn.linear_model import LogisticRegression\n",
        "from sklearn.naive_bayes import GaussianNB\n",
        "from sklearn.ensemble import AdaBoostClassifier\n",
        "from sklearn.ensemble import BaggingClassifier\n",
        "from xgboost import XGBClassifier\n",
        "\n",
        "from sklearn.tree import DecisionTreeClassifier\n",
        "from sklearn.metrics import roc_curve, auc,matthews_corrcoef\n",
        "from sklearn.metrics import accuracy_score,classification_report,confusion_matrix\n",
        "from matplotlib import pyplot as plt"
      ],
      "metadata": {
        "execution": {
          "iopub.status.busy": "2022-04-18T05:06:24.993245Z",
          "iopub.execute_input": "2022-04-18T05:06:24.993780Z",
          "iopub.status.idle": "2022-04-18T05:06:26.369200Z",
          "shell.execute_reply.started": "2022-04-18T05:06:24.993736Z",
          "shell.execute_reply": "2022-04-18T05:06:26.368284Z"
        },
        "trusted": true,
        "id": "GWDUSL1uSrli"
      },
      "execution_count": null,
      "outputs": []
    },
    {
      "cell_type": "code",
      "source": [
        "df_train = pd.read_csv('/kaggle/input/digit-recognizer/train.csv')\n",
        "df_test  = pd.read_csv('/kaggle/input/digit-recognizer/test.csv')\n",
        "\n",
        "X_train, X_test, y_train, y_test = train_test_split(df_train.drop(['label'], axis=1), df_train['label'], test_size=0.2, random_state=88)\n",
        "print(X_train.shape, y_train.shape,X_test.shape, y_test.shape)"
      ],
      "metadata": {
        "execution": {
          "iopub.status.busy": "2022-04-18T05:06:33.261971Z",
          "iopub.execute_input": "2022-04-18T05:06:33.262282Z",
          "iopub.status.idle": "2022-04-18T05:06:38.544274Z",
          "shell.execute_reply.started": "2022-04-18T05:06:33.262249Z",
          "shell.execute_reply": "2022-04-18T05:06:38.543308Z"
        },
        "trusted": true,
        "id": "o4QBwTZ-Srli"
      },
      "execution_count": null,
      "outputs": []
    },
    {
      "cell_type": "markdown",
      "source": [
        "### Testing the XGBoost Classifier on the given data"
      ],
      "metadata": {
        "id": "BRq0JX8zSrlj"
      }
    },
    {
      "cell_type": "code",
      "source": [
        "model = XGBClassifier(use_label_encoder=False, eval_metric='mlogloss').fit(X_train, y_train)\n",
        "y_predict = model.predict(X_test)\n",
        "print(f'Accuracy of XG Boost: {model.score(X_test, y_test):.5}')"
      ],
      "metadata": {
        "execution": {
          "iopub.status.busy": "2022-04-17T19:40:11.257128Z",
          "iopub.execute_input": "2022-04-17T19:40:11.257390Z",
          "iopub.status.idle": "2022-04-17T19:40:11.652387Z",
          "shell.execute_reply.started": "2022-04-17T19:40:11.257360Z",
          "shell.execute_reply": "2022-04-17T19:40:11.651779Z"
        },
        "trusted": true,
        "id": "LjNc6ILCSrlj"
      },
      "execution_count": null,
      "outputs": []
    },
    {
      "cell_type": "code",
      "source": [
        "plt.hist(y_predict, \n",
        "         label='Prediction',alpha=0.5,bins=10)\n",
        "  \n",
        "plt.hist(y_test, \n",
        "         label='Actual',alpha=0.5,bins=10)\n",
        "  \n",
        "plt.legend(loc='upper right')\n",
        "plt.xticks([*range(0, 10)])\n",
        "plt.show()"
      ],
      "metadata": {
        "execution": {
          "iopub.status.busy": "2022-04-17T19:39:20.922288Z",
          "iopub.execute_input": "2022-04-17T19:39:20.923156Z",
          "iopub.status.idle": "2022-04-17T19:39:21.198240Z",
          "shell.execute_reply.started": "2022-04-17T19:39:20.923110Z",
          "shell.execute_reply": "2022-04-17T19:39:21.197423Z"
        },
        "trusted": true,
        "id": "JYdJzYMjSrlj"
      },
      "execution_count": null,
      "outputs": []
    },
    {
      "cell_type": "code",
      "source": [
        "df_s =df_train.sample(frac=0.1, replace=False, random_state=1)\n",
        "cols= [\"label\"]\n",
        "X1=df_s.drop(columns=cols)\n",
        "y1=df_s[\"label\"]"
      ],
      "metadata": {
        "execution": {
          "iopub.status.busy": "2022-04-17T22:22:12.708319Z",
          "iopub.execute_input": "2022-04-17T22:22:12.708609Z",
          "iopub.status.idle": "2022-04-17T22:22:13.388783Z",
          "shell.execute_reply.started": "2022-04-17T22:22:12.708577Z",
          "shell.execute_reply": "2022-04-17T22:22:13.387951Z"
        },
        "trusted": true,
        "id": "38XfD1YaSrlk"
      },
      "execution_count": null,
      "outputs": []
    },
    {
      "cell_type": "markdown",
      "source": [
        "### Grid Search for XG Boost Hyperparameters"
      ],
      "metadata": {
        "id": "5pftWEwRSrlk"
      }
    },
    {
      "cell_type": "code",
      "source": [
        "model = XGBClassifier(use_label_encoder=False, eval_metric='mlogloss')\n",
        "parameters = {\n",
        "    'max_depth': range (2, 5, 1),\n",
        "    'n_estimators': range(60, 100, 20),\n",
        "    'learning_rate': [0.1, 0.01, 0.05]\n",
        "}\n",
        "grid_search = GridSearchCV(\n",
        "    estimator=model,\n",
        "    param_grid=parameters,\n",
        "    scoring = 'accuracy',\n",
        "    n_jobs = 10,\n",
        "    cv = 2,\n",
        "    verbose=True\n",
        ")\n",
        "\n",
        "grid_search.fit(X1, y1)"
      ],
      "metadata": {
        "execution": {
          "iopub.status.busy": "2022-04-17T23:26:11.628132Z",
          "iopub.execute_input": "2022-04-17T23:26:11.628694Z",
          "iopub.status.idle": "2022-04-17T23:26:11.634773Z",
          "shell.execute_reply.started": "2022-04-17T23:26:11.628640Z",
          "shell.execute_reply": "2022-04-17T23:26:11.633823Z"
        },
        "trusted": true,
        "id": "RPRXUEfGSrll"
      },
      "execution_count": null,
      "outputs": []
    },
    {
      "cell_type": "code",
      "source": [
        " print(grid_search.best_estimator_)"
      ],
      "metadata": {
        "execution": {
          "iopub.status.busy": "2022-04-17T23:06:42.308735Z",
          "iopub.execute_input": "2022-04-17T23:06:42.309120Z",
          "iopub.status.idle": "2022-04-17T23:06:42.323056Z",
          "shell.execute_reply.started": "2022-04-17T23:06:42.309063Z",
          "shell.execute_reply": "2022-04-17T23:06:42.322365Z"
        },
        "trusted": true,
        "id": "5PMnfXQSSrll"
      },
      "execution_count": null,
      "outputs": []
    },
    {
      "cell_type": "markdown",
      "source": [
        "### Result of Grid Search for XG Boost\n",
        "XGBClassifier(base_score=0.5, booster='gbtree', colsample_bylevel=1,\n",
        "              colsample_bynode=1, colsample_bytree=1, enable_categorical=False,\n",
        "              eval_metric='mlogloss', gamma=0, gpu_id=-1, importance_type=None,\n",
        "              interaction_constraints='', learning_rate=0.1, max_delta_step=0,\n",
        "              max_depth=4, min_child_weight=1, missing=nan,\n",
        "              monotone_constraints='()', n_estimators=80, n_jobs=4,\n",
        "              num_parallel_tree=1, objective='multi:softprob', predictor='auto',\n",
        "              random_state=0, reg_alpha=0, reg_lambda=1, scale_pos_weight=None,\n",
        "              subsample=1, tree_method='exact', use_label_encoder=False,\n",
        "              validate_parameters=1, ...)"
      ],
      "metadata": {
        "id": "UagSzOQASrlm"
      }
    },
    {
      "cell_type": "code",
      "source": [
        "model = grid_search.best_estimator_.fit(X_train, y_train)\n",
        "y_predict = model.predict(X_test)\n",
        "print(f'Accuracy of XG Boost: {model.score(X_test, y_test):.5}')"
      ],
      "metadata": {
        "execution": {
          "iopub.status.busy": "2022-04-17T23:18:12.599772Z",
          "iopub.execute_input": "2022-04-17T23:18:12.601240Z",
          "iopub.status.idle": "2022-04-17T23:22:42.318304Z",
          "shell.execute_reply.started": "2022-04-17T23:18:12.601185Z",
          "shell.execute_reply": "2022-04-17T23:22:42.317335Z"
        },
        "trusted": true,
        "id": "jPSkc7VfSrlm"
      },
      "execution_count": null,
      "outputs": []
    },
    {
      "cell_type": "markdown",
      "source": [
        "## Logistics Regression- GridSearch for Regularization"
      ],
      "metadata": {
        "id": "94TBBV5lSrlm"
      }
    },
    {
      "cell_type": "code",
      "source": [
        "model = LogisticRegression()\n",
        "def hsearch (penalty,solver,iter, l1_ratio,cv):\n",
        "  param_grid = [    \n",
        "    {'penalty' : [penalty],\n",
        "    'C' : [0.00001,0.0001,0.001,0.01,0.1,1],\n",
        "    'solver' : [solver],\n",
        "    'max_iter' : [iter],\n",
        "    'l1_ratio':[l1_ratio]\n",
        "    }\n",
        "]\n",
        "  clf = GridSearchCV(model, param_grid = param_grid, cv = cv, scoring='accuracy', verbose=True, n_jobs=-1)\n",
        "  best_clf = clf.fit(X_train,y_train)\n",
        "  print(best_clf.best_estimator_)\n",
        "  print (f'Accuracy - : {best_clf.score(X_test,y_test):.3f}')\n",
        "  return best_clf.best_estimator_"
      ],
      "metadata": {
        "execution": {
          "iopub.status.busy": "2022-04-18T05:50:43.217161Z",
          "iopub.execute_input": "2022-04-18T05:50:43.217438Z",
          "iopub.status.idle": "2022-04-18T05:50:43.223401Z",
          "shell.execute_reply.started": "2022-04-18T05:50:43.217404Z",
          "shell.execute_reply": "2022-04-18T05:50:43.222597Z"
        },
        "trusted": true,
        "id": "-PYk4-VpSrlm"
      },
      "execution_count": null,
      "outputs": []
    },
    {
      "cell_type": "code",
      "source": [
        "be_l1=hsearch(penalty='l1',solver='liblinear',iter=1000, l1_ratio=0.5,cv=5)\n",
        "be_l2=hsearch(penalty='l2',solver='sag',iter=3000, l1_ratio=0.5,cv=2)\n",
        "# be_e=hsearch(penalty='elasticnet',solver='saga',iter=1000, l1_ratio=0.2,cv=2)\n",
        "\n",
        "print(be_l1,be_l2)"
      ],
      "metadata": {
        "execution": {
          "iopub.status.busy": "2022-04-18T05:52:25.848786Z",
          "iopub.execute_input": "2022-04-18T05:52:25.849055Z",
          "iopub.status.idle": "2022-04-18T05:52:25.854527Z",
          "shell.execute_reply.started": "2022-04-18T05:52:25.849028Z",
          "shell.execute_reply": "2022-04-18T05:52:25.853753Z"
        },
        "trusted": true,
        "id": "3mSXgYrPSrln"
      },
      "execution_count": null,
      "outputs": []
    },
    {
      "cell_type": "markdown",
      "source": [
        "## L1 Lasso Logistics Regression"
      ],
      "metadata": {
        "id": "4-uyb8fsSrln"
      }
    },
    {
      "cell_type": "code",
      "source": [
        "clf = be_l1.fit(X_train, y_train)\n",
        "y_pred=clf.predict(X_test) \n",
        "ac_lr=clf.score(X_test, y_test)\n",
        "mc_lr=matthews_corrcoef(y_test, y_pred)\n",
        "print(f'The accuracy of Logistic Regression with Lasso(L1/Test) is: {ac_lr:.5}')\n",
        "print(f'Mattews Correlation Coefficient is: {mc_lr:.5}')"
      ],
      "metadata": {
        "trusted": true,
        "id": "VjCYnrkhSrln"
      },
      "execution_count": null,
      "outputs": []
    },
    {
      "cell_type": "markdown",
      "source": [
        "## L2 Ridge Logistics Regression"
      ],
      "metadata": {
        "id": "pCgtHv4VSrln"
      }
    },
    {
      "cell_type": "code",
      "source": [
        "clf = be_l2.fit(X_train, y_train)\n",
        "y_pred=clf.predict(X_test) \n",
        "ac_lr=clf.score(X_test, y_test)\n",
        "mc_lr=matthews_corrcoef(y_test, y_pred)\n",
        "print(f'The accuracy of Logistic Regression with Ridge(L2/Test) is: {ac_lr:.5}')\n",
        "print(f'Mattews Correlation Coefficient is: {mc_lr:.5}')\n",
        "# print(be_l2)"
      ],
      "metadata": {
        "execution": {
          "iopub.status.busy": "2022-04-16T19:16:31.938001Z",
          "iopub.execute_input": "2022-04-16T19:16:31.93829Z",
          "iopub.status.idle": "2022-04-16T19:20:38.014998Z",
          "shell.execute_reply.started": "2022-04-16T19:16:31.93826Z",
          "shell.execute_reply": "2022-04-16T19:20:38.013964Z"
        },
        "trusted": true,
        "id": "xKfKzB29Srlo"
      },
      "execution_count": null,
      "outputs": []
    },
    {
      "cell_type": "markdown",
      "source": [
        "## K Neighbhor Classifier - Regularization"
      ],
      "metadata": {
        "id": "Sn04o-LiSrlo"
      }
    },
    {
      "cell_type": "code",
      "source": [
        "from sklearn.neighbors import KNeighborsClassifier\n",
        "from sklearn import metrics\n",
        "\n",
        "k_range =range(1,6)\n",
        "scores =[]\n",
        "for k in k_range:\n",
        "    knn=KNeighborsClassifier(n_neighbors = k)\n",
        "    knn.fit(X_train, y_train)\n",
        "    y_pred = knn.predict(X_test)\n",
        "    scores.append(metrics.accuracy_score(y_test, y_pred))\n",
        "plt.plot(k_range,scores)"
      ],
      "metadata": {
        "execution": {
          "iopub.status.busy": "2022-04-16T19:24:21.24492Z",
          "iopub.execute_input": "2022-04-16T19:24:21.245262Z",
          "iopub.status.idle": "2022-04-16T19:25:19.468126Z",
          "shell.execute_reply.started": "2022-04-16T19:24:21.245214Z",
          "shell.execute_reply": "2022-04-16T19:25:19.467237Z"
        },
        "trusted": true,
        "id": "8eqfpZGWSrlo"
      },
      "execution_count": null,
      "outputs": []
    },
    {
      "cell_type": "code",
      "source": [
        "clf = KNeighborsClassifier(n_neighbors=4).fit(X_train,y_train)\n",
        "y_pred=clf.predict(X_test) \n",
        "ac_nb=clf.score(X_test, y_test)\n",
        "mc_nb=matthews_corrcoef(y_test, y_pred)\n",
        "print(f'The accuracy of KNeighborsClassifier: {ac_nb:.5}')\n",
        "print(f'Mattews Correlation Coefficient is: {mc_nb:.5}')"
      ],
      "metadata": {
        "execution": {
          "iopub.status.busy": "2022-04-16T19:25:55.889422Z",
          "iopub.execute_input": "2022-04-16T19:25:55.88971Z",
          "iopub.status.idle": "2022-04-16T19:26:22.63246Z",
          "shell.execute_reply.started": "2022-04-16T19:25:55.889682Z",
          "shell.execute_reply": "2022-04-16T19:26:22.631531Z"
        },
        "trusted": true,
        "id": "Zx2Zq5AaSrlo"
      },
      "execution_count": null,
      "outputs": []
    },
    {
      "cell_type": "markdown",
      "source": [
        "## Prepare the first submission based on the best base model so far"
      ],
      "metadata": {
        "id": "Or9KBKVfSrlo"
      }
    },
    {
      "cell_type": "code",
      "source": [
        "xgb = XGBClassifier(use_label_encoder=False, eval_metric='mlogloss').fit(X_train, y_train)\n",
        "y_pred = xgb.predict(df_test)\n",
        "prediction = pd.DataFrame(data = y_pred.astype(int), columns = ['Label'])\n",
        "prediction.insert(0, 'ImageId', df_test.index+1)\n",
        "prediction.head(5)\n",
        "#Creating a submission\n",
        "prediction.to_csv(path_or_buf = 'submission.csv', sep = ',', index = False, header = True)"
      ],
      "metadata": {
        "execution": {
          "iopub.status.busy": "2022-04-17T23:58:21.166150Z",
          "iopub.execute_input": "2022-04-17T23:58:21.166552Z",
          "iopub.status.idle": "2022-04-18T00:06:48.735421Z",
          "shell.execute_reply.started": "2022-04-17T23:58:21.166516Z",
          "shell.execute_reply": "2022-04-18T00:06:48.734438Z"
        },
        "trusted": true,
        "id": "mqrDAHNwSrlp"
      },
      "execution_count": null,
      "outputs": []
    },
    {
      "cell_type": "markdown",
      "source": [
        "## Super Learner Ensembles(mlens)\n",
        "### Sampling training dataset to run various algorithms fast"
      ],
      "metadata": {
        "id": "EnqZ6k3LSrlp"
      }
    },
    {
      "cell_type": "code",
      "source": [
        "models = list()\n",
        "models.append(LogisticRegression(C=0.01, max_iter=1000, penalty='l1',solver='liblinear'))\n",
        "models.append(LogisticRegression(C=1e-05, l1_ratio=0.5,penalty='l2', max_iter=3000, solver='sag'))\n",
        "models.append(RandomForestClassifier(max_depth=30,n_estimators=100, min_samples_leaf=2,min_samples_split=30,criterion='gini', oob_score=True,random_state=42))\n",
        "models.append(KNeighborsClassifier(n_neighbors=4))\n",
        "# models.append(AdaBoostClassifier())\n",
        "models.append(BaggingClassifier(n_estimators=10))\n",
        "models.append(XGBClassifier(use_label_encoder=False, eval_metric='mlogloss'))"
      ],
      "metadata": {
        "execution": {
          "iopub.status.busy": "2022-04-18T05:19:00.627019Z",
          "iopub.execute_input": "2022-04-18T05:19:00.627310Z",
          "iopub.status.idle": "2022-04-18T05:19:00.633989Z",
          "shell.execute_reply.started": "2022-04-18T05:19:00.627281Z",
          "shell.execute_reply": "2022-04-18T05:19:00.632922Z"
        },
        "trusted": true,
        "id": "iyU0fNbkSrlp"
      },
      "execution_count": null,
      "outputs": []
    },
    {
      "cell_type": "code",
      "source": [
        "def evaluate_models(X, y, models,X_test,y_test):\n",
        "    for model in models:\n",
        "        clf=model.fit(X,y)\n",
        "        y_pred=clf.predict(X_test) \n",
        "        acc = accuracy_score(y_test,  y_pred)\n",
        "        print('%s: %.3f' % (model.__class__.__name__, acc*100))"
      ],
      "metadata": {
        "execution": {
          "iopub.status.busy": "2022-04-17T19:42:10.268342Z",
          "iopub.execute_input": "2022-04-17T19:42:10.268754Z",
          "iopub.status.idle": "2022-04-17T19:42:10.273933Z",
          "shell.execute_reply.started": "2022-04-17T19:42:10.268723Z",
          "shell.execute_reply": "2022-04-17T19:42:10.273040Z"
        },
        "trusted": true,
        "id": "LOVN_lowSrlp"
      },
      "execution_count": null,
      "outputs": []
    },
    {
      "cell_type": "code",
      "source": [
        "evaluate_models(X_train,y_train,models,X_test,y_test)"
      ],
      "metadata": {
        "execution": {
          "iopub.status.busy": "2022-04-17T19:43:20.428706Z",
          "iopub.execute_input": "2022-04-17T19:43:20.429003Z",
          "iopub.status.idle": "2022-04-17T19:58:29.945869Z",
          "shell.execute_reply.started": "2022-04-17T19:43:20.428963Z",
          "shell.execute_reply": "2022-04-17T19:58:29.945251Z"
        },
        "trusted": true,
        "id": "GtifTzXLSrlp"
      },
      "execution_count": null,
      "outputs": []
    },
    {
      "cell_type": "code",
      "source": [
        "from mlens.ensemble import SuperLearner\n",
        "ensemble = SuperLearner(scorer=accuracy_score,folds=2)\n",
        "ensemble.add(models)\n",
        "ensemble.add_meta(KNeighborsClassifier(n_neighbors=4))\n",
        "ensemble.fit(X_train, y_train)\n",
        "preds = ensemble.predict(X_test)\n",
        "mc_lr=matthews_corrcoef(y_test, preds)\n",
        "print(f'Mattews Correlation Coefficient is: {mc_lr:.5}')\n",
        "print(\"Prediction score: %.3f\" % accuracy_score(preds, y_test))\n",
        "\n",
        "# Predicting using the SuperLearner\n",
        "y_pred = ensemble.predict(df_test)\n",
        "prediction = pd.DataFrame(data = y_pred.astype(int), columns = ['Label'])\n",
        "prediction.insert(0, 'ImageId', df_test.index+1)\n",
        "prediction.to_csv(path_or_buf = 'submission.csv', sep = ',', index = False, header = True)\n"
      ],
      "metadata": {
        "execution": {
          "iopub.status.busy": "2022-04-18T05:19:36.474254Z",
          "iopub.execute_input": "2022-04-18T05:19:36.474531Z",
          "iopub.status.idle": "2022-04-18T05:43:11.888117Z",
          "shell.execute_reply.started": "2022-04-18T05:19:36.474502Z",
          "shell.execute_reply": "2022-04-18T05:43:11.887033Z"
        },
        "trusted": true,
        "id": "btbpPZllSrlp"
      },
      "execution_count": null,
      "outputs": []
    },
    {
      "cell_type": "markdown",
      "source": [
        "### SK Learn StackingClassifier"
      ],
      "metadata": {
        "id": "0NN-0xD_Srlp"
      }
    },
    {
      "cell_type": "code",
      "source": [
        "from sklearn.ensemble import StackingClassifier\n",
        "\n",
        "# Create Base Learners\n",
        "base_learners = [\n",
        "                 ('rf_1', RandomForestClassifier(n_estimators=10, random_state=42)),\n",
        "                 ('bag', BaggingClassifier(n_estimators=10),('knn',KNeighborsClassifier(n_neighbors=4)),('log',LogisticRegression(C=0.01, max_iter=1000, penalty='l1',solver='liblinear')))             \n",
        "                ]\n",
        "\n",
        "# Initialize Stacking Classifier with the Meta Learner\n",
        "clf = StackingClassifier(estimators=base_learners, final_estimator=KNeighborsClassifier(n_neighbors=4))\n",
        "clf.fit(X_train, y_train).score(X_test, y_test)"
      ],
      "metadata": {
        "execution": {
          "iopub.status.busy": "2022-04-16T20:50:49.528337Z",
          "iopub.execute_input": "2022-04-16T20:50:49.528643Z",
          "iopub.status.idle": "2022-04-16T20:55:54.767975Z",
          "shell.execute_reply.started": "2022-04-16T20:50:49.528598Z",
          "shell.execute_reply": "2022-04-16T20:55:54.767213Z"
        },
        "trusted": true,
        "id": "Kf5mWJbsSrlq"
      },
      "execution_count": null,
      "outputs": []
    },
    {
      "cell_type": "markdown",
      "source": [
        "## Performance Summary of Classification Methods:\n",
        "| Method |Accuracy|            \n",
        "| :- | :-:|\n",
        "| XGBooster|97.262%|\n",
        "| Logistics Regression-L1 regularization|91.283%|\n",
        "| Logistics Regression-L2 regularization|91.762% |\n",
        "| Random Forest|95.345%|  \n",
        "| KNeighborsClassifier|96.726%|  \n",
        "| AdaBoostClassifier|72.929%|\n",
        "| BaggingClassifier|93.429%|\n",
        "|Super Learner(mlens)|96.2%|\n",
        "|SKLearn Stacking Classifier|94.6%"
      ],
      "metadata": {
        "id": "rnEZEJPUSrlq"
      }
    }
  ]
}