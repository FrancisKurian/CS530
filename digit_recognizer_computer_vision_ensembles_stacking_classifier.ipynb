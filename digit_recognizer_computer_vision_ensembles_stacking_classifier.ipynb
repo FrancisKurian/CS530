{
  "metadata": {
    "kernelspec": {
      "language": "python",
      "display_name": "Python 3",
      "name": "python3"
    },
    "language_info": {
      "name": "python",
      "version": "3.7.12",
      "mimetype": "text/x-python",
      "codemirror_mode": {
        "name": "ipython",
        "version": 3
      },
      "pygments_lexer": "ipython3",
      "nbconvert_exporter": "python",
      "file_extension": ".py"
    },
    "colab": {
      "name": "digit-recognizer-computer vision ensembles stacking classifier.ipynb",
      "provenance": [],
      "include_colab_link": true
    }
  },
  "nbformat_minor": 0,
  "nbformat": 4,
  "cells": [
    {
      "cell_type": "markdown",
      "metadata": {
        "id": "view-in-github",
        "colab_type": "text"
      },
      "source": [
        "<a href=\"https://colab.research.google.com/github/FrancisKurian/CS530/blob/main/digit_recognizer_computer_vision_ensembles_stacking_classifier.ipynb\" target=\"_parent\"><img src=\"https://colab.research.google.com/assets/colab-badge.svg\" alt=\"Open In Colab\"/></a>"
      ]
    },
    {
      "cell_type": "markdown",
      "source": [
        "# HW9\n",
        "## Summary of steps\n",
        "\n",
        "*   Tested Random Forest as a baseline model with parameter tuning\n",
        "*   GridSearch to find l1 and l2 regularization for logistics regression\n",
        "*   K Neighbhor Classifier - Regularization\n",
        "*   Super Learner Ensembles(mlens) & SK Learn StackingClassifier\n",
        "** Evaluate diffrent classification models \n",
        "** Creation of SuperLearner using mlens and StackingClassifier\n",
        "*   Using the best model to predict Kaggle test data.\n",
        "\n",
        "## Performance Summary:\n",
        "| Method |Accuracy|            \n",
        "| :- | :-:|\n",
        "| Logistics Regression-L1 regularization|91.283%|\n",
        "| Logistics Regression-L2 regularization|91.762% |\n",
        "| Random Forest|95.345%|  \n",
        "| KNeighborsClassifier|96.726%|  \n",
        "| AdaBoostClassifier|72.929%|\n",
        "| BaggingClassifier|93.429%|\n",
        "|Super Learner(mlens)|96.3%|\n",
        "|SKLearn Stacking Classifier|94.6%"
      ],
      "metadata": {
        "id": "5zxK1KPxh9SU"
      }
    },
    {
      "cell_type": "code",
      "source": [
        "# This Python 3 environment comes with many helpful analytics libraries installed\n",
        "# It is defined by the kaggle/python Docker image: https://github.com/kaggle/docker-python\n",
        "# For example, here's several helpful packages to load\n",
        "\n",
        "import numpy as np # linear algebra\n",
        "import pandas as pd # data processing, CSV file I/O (e.g. pd.read_csv)\n",
        "\n",
        "# Input data files are available in the read-only \"../input/\" directory\n",
        "# For example, running this (by clicking run or pressing Shift+Enter) will list all files under the input directory\n",
        "\n",
        "import os\n",
        "for dirname, _, filenames in os.walk('/kaggle/input'):\n",
        "    for filename in filenames:\n",
        "        print(os.path.join(dirname, filename))\n",
        "\n",
        "# You can write up to 20GB to the current directory (/kaggle/working/) that gets preserved as output when you create a version using \"Save & Run All\" \n",
        "# You can also write temporary files to /kaggle/temp/, but they won't be saved outside of the current session"
      ],
      "metadata": {
        "_uuid": "8f2839f25d086af736a60e9eeb907d3b93b6e0e5",
        "_cell_guid": "b1076dfc-b9ad-4769-8c92-a6c4dae69d19",
        "execution": {
          "iopub.status.busy": "2022-04-16T20:07:28.648811Z",
          "iopub.execute_input": "2022-04-16T20:07:28.649124Z",
          "iopub.status.idle": "2022-04-16T20:07:28.657900Z",
          "shell.execute_reply.started": "2022-04-16T20:07:28.649094Z",
          "shell.execute_reply": "2022-04-16T20:07:28.656785Z"
        },
        "trusted": true,
        "id": "K8VIWSyDh9SY"
      },
      "execution_count": null,
      "outputs": []
    },
    {
      "cell_type": "code",
      "source": [
        "from sklearn.ensemble import RandomForestClassifier\n",
        "from sklearn.model_selection import train_test_split\n",
        "from sklearn.neighbors import KNeighborsClassifier\n",
        "from sklearn.model_selection import GridSearchCV\n",
        "from sklearn.linear_model import LogisticRegression\n",
        "from sklearn.naive_bayes import GaussianNB\n",
        "from sklearn.ensemble import AdaBoostClassifier\n",
        "from sklearn.ensemble import BaggingClassifier\n",
        "\n",
        "from sklearn.tree import DecisionTreeClassifier\n",
        "from sklearn.metrics import roc_curve, auc,matthews_corrcoef\n",
        "from sklearn.metrics import accuracy_score,classification_report,confusion_matrix\n",
        "from matplotlib import pyplot as plt"
      ],
      "metadata": {
        "execution": {
          "iopub.status.busy": "2022-04-16T20:07:38.864102Z",
          "iopub.execute_input": "2022-04-16T20:07:38.864376Z",
          "iopub.status.idle": "2022-04-16T20:07:40.226222Z",
          "shell.execute_reply.started": "2022-04-16T20:07:38.864348Z",
          "shell.execute_reply": "2022-04-16T20:07:40.225098Z"
        },
        "trusted": true,
        "id": "of1p5A3rh9Sa"
      },
      "execution_count": null,
      "outputs": []
    },
    {
      "cell_type": "code",
      "source": [
        "df_train = pd.read_csv('/kaggle/input/digit-recognizer/train.csv')\n",
        "df_test  = pd.read_csv('/kaggle/input/digit-recognizer/test.csv')\n",
        "\n",
        "X_train, X_test, y_train, y_test = train_test_split(df_train.drop(['label'], axis=1), df_train['label'], test_size=0.2, random_state=88)\n",
        "print(X_train.shape, y_train.shape,X_test.shape, y_test.shape)"
      ],
      "metadata": {
        "execution": {
          "iopub.status.busy": "2022-04-16T20:07:44.028775Z",
          "iopub.execute_input": "2022-04-16T20:07:44.029134Z",
          "iopub.status.idle": "2022-04-16T20:07:50.349173Z",
          "shell.execute_reply.started": "2022-04-16T20:07:44.029099Z",
          "shell.execute_reply": "2022-04-16T20:07:50.348235Z"
        },
        "trusted": true,
        "id": "dde5uVhnh9Sb"
      },
      "execution_count": null,
      "outputs": []
    },
    {
      "cell_type": "markdown",
      "source": [
        "### Testing the RF Classifier on the given data"
      ],
      "metadata": {
        "id": "bNsha9CZh9Sb"
      }
    },
    {
      "cell_type": "code",
      "source": [
        "rf = RandomForestClassifier(max_depth=30,n_estimators=100, min_samples_leaf=2,min_samples_split=30,criterion='gini', oob_score=True,random_state=42)\n",
        "rf.fit(X_train, y_train)\n",
        "y_predict = rf.predict(X_test)\n",
        "mc_sk_income_rf=matthews_corrcoef(y_test, y_predict)\n",
        "\n",
        "probs = rf.predict_proba(X_test)[:,1]\n",
        "\n",
        "print(f'Matthews Coefficient for SKLearn Random Forest: {mc_sk_income_rf:.5}')\n",
        "print(f'Accuracy of SKLearn Random Forest: {rf.score(X_test, y_test):.5}')"
      ],
      "metadata": {
        "execution": {
          "iopub.status.busy": "2022-04-16T18:20:39.226656Z",
          "iopub.execute_input": "2022-04-16T18:20:39.227031Z",
          "iopub.status.idle": "2022-04-16T18:21:04.323914Z",
          "shell.execute_reply.started": "2022-04-16T18:20:39.226996Z",
          "shell.execute_reply": "2022-04-16T18:21:04.322966Z"
        },
        "trusted": true,
        "id": "u1MyccVEh9Sc"
      },
      "execution_count": null,
      "outputs": []
    },
    {
      "cell_type": "code",
      "source": [
        "plt.hist(y_predict, \n",
        "         label='Prediction',alpha=0.5,bins=10)\n",
        "  \n",
        "plt.hist(y_test, \n",
        "         label='Actual',alpha=0.5,bins=10)\n",
        "  \n",
        "plt.legend(loc='upper right')\n",
        "plt.xticks([*range(0, 10)])\n",
        "plt.show()"
      ],
      "metadata": {
        "execution": {
          "iopub.status.busy": "2022-04-16T18:21:26.076765Z",
          "iopub.execute_input": "2022-04-16T18:21:26.077081Z",
          "iopub.status.idle": "2022-04-16T18:21:26.302739Z",
          "shell.execute_reply.started": "2022-04-16T18:21:26.077048Z",
          "shell.execute_reply": "2022-04-16T18:21:26.302209Z"
        },
        "trusted": true,
        "id": "ueUEnpYjh9Sc"
      },
      "execution_count": null,
      "outputs": []
    },
    {
      "cell_type": "code",
      "source": [
        "X=X_train.sample(frac=0.1, replace=False, random_state=1)\n",
        "y=y_train.sample(frac=0.1, replace=False, random_state=1)"
      ],
      "metadata": {
        "execution": {
          "iopub.status.busy": "2022-04-16T18:23:49.698145Z",
          "iopub.execute_input": "2022-04-16T18:23:49.698423Z",
          "iopub.status.idle": "2022-04-16T18:23:49.741320Z",
          "shell.execute_reply.started": "2022-04-16T18:23:49.698395Z",
          "shell.execute_reply": "2022-04-16T18:23:49.740317Z"
        },
        "trusted": true,
        "id": "Kqlbe2ySh9Sd"
      },
      "execution_count": null,
      "outputs": []
    },
    {
      "cell_type": "markdown",
      "source": [
        "## Logistics Regression- GridSearch for Regularization"
      ],
      "metadata": {
        "id": "RTUfRWFXh9Sd"
      }
    },
    {
      "cell_type": "code",
      "source": [
        "logModel = LogisticRegression()\n",
        "def hsearch (penalty,solver,iter, l1_ratio,cv):\n",
        "  param_grid = [    \n",
        "    {'penalty' : [penalty],\n",
        "    'C' : [0.00001,0.0001,0.001,0.01,0.1,1],\n",
        "    'solver' : [solver],\n",
        "    'max_iter' : [iter],\n",
        "    'l1_ratio':[l1_ratio]\n",
        "    }\n",
        "]\n",
        "  clf = GridSearchCV(logModel, param_grid = param_grid, cv = cv, scoring='accuracy', verbose=True, n_jobs=-1)\n",
        "  best_clf = clf.fit(X,y)\n",
        "  print(best_clf.best_estimator_)\n",
        "  print (f'Accuracy - : {best_clf.score(X_test,y_test):.3f}')\n",
        "  return best_clf.best_estimator_"
      ],
      "metadata": {
        "execution": {
          "iopub.status.busy": "2022-04-16T18:56:30.973203Z",
          "iopub.execute_input": "2022-04-16T18:56:30.974176Z",
          "iopub.status.idle": "2022-04-16T18:56:30.982637Z",
          "shell.execute_reply.started": "2022-04-16T18:56:30.974124Z",
          "shell.execute_reply": "2022-04-16T18:56:30.981462Z"
        },
        "trusted": true,
        "id": "OAIEMuLDh9Se"
      },
      "execution_count": null,
      "outputs": []
    },
    {
      "cell_type": "code",
      "source": [
        "# be_l1=hsearch(penalty='l1',solver='liblinear',iter=1000, l1_ratio=0.5,cv=5)\n",
        "# be_l2=hsearch(penalty='l2',solver='sag',iter=3000, l1_ratio=0.5,cv=2)\n",
        "# be_e=hsearch(penalty='elasticnet',solver='saga',iter=1000, l1_ratio=0.2,cv=2)\n",
        "\n",
        "print(be_l1,be_l2)"
      ],
      "metadata": {
        "execution": {
          "iopub.status.busy": "2022-04-16T19:15:54.448443Z",
          "iopub.execute_input": "2022-04-16T19:15:54.448827Z",
          "iopub.status.idle": "2022-04-16T19:15:54.457067Z",
          "shell.execute_reply.started": "2022-04-16T19:15:54.448785Z",
          "shell.execute_reply": "2022-04-16T19:15:54.455597Z"
        },
        "trusted": true,
        "id": "lr0GPEsFh9Se"
      },
      "execution_count": null,
      "outputs": []
    },
    {
      "cell_type": "markdown",
      "source": [
        "## L1 Lasso Logistics Regression"
      ],
      "metadata": {
        "id": "lTUt8kNeh9Se"
      }
    },
    {
      "cell_type": "code",
      "source": [
        "clf = be_l1.fit(X_train, y_train)\n",
        "y_pred=clf.predict(X_test) \n",
        "ac_lr=clf.score(X_test, y_test)\n",
        "mc_lr=matthews_corrcoef(y_test, y_pred)\n",
        "print(f'The accuracy of Logistic Regression with Lasso(L1/Test) is: {ac_lr:.5}')\n",
        "print(f'Mattews Correlation Coefficient is: {mc_lr:.5}')"
      ],
      "metadata": {
        "execution": {
          "iopub.status.busy": "2022-04-16T18:40:23.787130Z",
          "iopub.execute_input": "2022-04-16T18:40:23.787491Z",
          "iopub.status.idle": "2022-04-16T18:41:04.786422Z",
          "shell.execute_reply.started": "2022-04-16T18:40:23.787451Z",
          "shell.execute_reply": "2022-04-16T18:41:04.785547Z"
        },
        "trusted": true,
        "id": "G4poTJ-kh9Sf"
      },
      "execution_count": null,
      "outputs": []
    },
    {
      "cell_type": "markdown",
      "source": [
        "## L2 Ridge Logistics Regression"
      ],
      "metadata": {
        "id": "OuGBD9qah9Sf"
      }
    },
    {
      "cell_type": "code",
      "source": [
        "clf = be_l2.fit(X_train, y_train)\n",
        "y_pred=clf.predict(X_test) \n",
        "ac_lr=clf.score(X_test, y_test)\n",
        "mc_lr=matthews_corrcoef(y_test, y_pred)\n",
        "print(f'The accuracy of Logistic Regression with Ridge(L2/Test) is: {ac_lr:.5}')\n",
        "print(f'Mattews Correlation Coefficient is: {mc_lr:.5}')\n",
        "# print(be_l2)"
      ],
      "metadata": {
        "execution": {
          "iopub.status.busy": "2022-04-16T19:16:31.938001Z",
          "iopub.execute_input": "2022-04-16T19:16:31.938290Z",
          "iopub.status.idle": "2022-04-16T19:20:38.014998Z",
          "shell.execute_reply.started": "2022-04-16T19:16:31.938260Z",
          "shell.execute_reply": "2022-04-16T19:20:38.013964Z"
        },
        "trusted": true,
        "id": "iuyDoeb9h9Sf"
      },
      "execution_count": null,
      "outputs": []
    },
    {
      "cell_type": "markdown",
      "source": [
        "## K Neighbhor Classifier - Regularization"
      ],
      "metadata": {
        "id": "wVN6s_rch9Sg"
      }
    },
    {
      "cell_type": "code",
      "source": [
        "from sklearn.neighbors import KNeighborsClassifier\n",
        "from sklearn import metrics\n",
        "\n",
        "k_range =range(1,6)\n",
        "scores =[]\n",
        "for k in k_range:\n",
        "    knn=KNeighborsClassifier(n_neighbors = k)\n",
        "    knn.fit(X_train, y_train)\n",
        "    y_pred = knn.predict(X_test)\n",
        "    scores.append(metrics.accuracy_score(y_test, y_pred))\n",
        "plt.plot(k_range,scores)"
      ],
      "metadata": {
        "execution": {
          "iopub.status.busy": "2022-04-16T19:24:21.244920Z",
          "iopub.execute_input": "2022-04-16T19:24:21.245262Z",
          "iopub.status.idle": "2022-04-16T19:25:19.468126Z",
          "shell.execute_reply.started": "2022-04-16T19:24:21.245214Z",
          "shell.execute_reply": "2022-04-16T19:25:19.467237Z"
        },
        "trusted": true,
        "id": "RZAbIZN-h9Sg"
      },
      "execution_count": null,
      "outputs": []
    },
    {
      "cell_type": "code",
      "source": [
        "clf = KNeighborsClassifier(n_neighbors=4).fit(X_train,y_train)\n",
        "y_pred=clf.predict(X_test) \n",
        "ac_nb=clf.score(X_test, y_test)\n",
        "mc_nb=matthews_corrcoef(y_test, y_pred)\n",
        "print(f'The accuracy of KNeighborsClassifier: {ac_nb:.5}')\n",
        "print(f'Mattews Correlation Coefficient is: {mc_nb:.5}')"
      ],
      "metadata": {
        "execution": {
          "iopub.status.busy": "2022-04-16T19:25:55.889422Z",
          "iopub.execute_input": "2022-04-16T19:25:55.889710Z",
          "iopub.status.idle": "2022-04-16T19:26:22.632460Z",
          "shell.execute_reply.started": "2022-04-16T19:25:55.889682Z",
          "shell.execute_reply": "2022-04-16T19:26:22.631531Z"
        },
        "trusted": true,
        "id": "xncIXYKCh9Sg"
      },
      "execution_count": null,
      "outputs": []
    },
    {
      "cell_type": "markdown",
      "source": [
        "## Prepare the first submission based on the best base model so far"
      ],
      "metadata": {
        "id": "9k_1eHAzh9Sg"
      }
    },
    {
      "cell_type": "code",
      "source": [
        "# Predicting the Test set results\n",
        "knn=KNeighborsClassifier(n_neighbors=4).fit(X_train,y_train)\n",
        "y_pred = knn.predict(df_test)\n",
        "prediction = pd.DataFrame(data = y_pred, columns = ['Label'])\n",
        "prediction.insert(0, 'ImageId', df_test.index+1)\n",
        "prediction.head(5)\n",
        "#Creating a submission\n",
        "prediction.to_csv(path_or_buf = 'submission.csv', sep = ',', index = False, header = True)"
      ],
      "metadata": {
        "execution": {
          "iopub.status.busy": "2022-04-15T06:17:38.62683Z",
          "iopub.execute_input": "2022-04-15T06:17:38.627196Z",
          "iopub.status.idle": "2022-04-15T06:18:11.47447Z",
          "shell.execute_reply.started": "2022-04-15T06:17:38.627166Z",
          "shell.execute_reply": "2022-04-15T06:18:11.472842Z"
        },
        "trusted": true,
        "id": "gMQxNg8Ph9Sh"
      },
      "execution_count": null,
      "outputs": []
    },
    {
      "cell_type": "markdown",
      "source": [
        "## Super Learner Ensembles(mlens)\n",
        "### Sampling training dataset to run various algorithms fast"
      ],
      "metadata": {
        "id": "LBE6O7nVh9Sh"
      }
    },
    {
      "cell_type": "code",
      "source": [
        "df_s =df_train.sample(frac=0.2, replace=False, random_state=1)\n",
        "cols= [\"label\"]\n",
        "X1=df_s.drop(columns=cols)\n",
        "y1=df_s[\"label\"]"
      ],
      "metadata": {
        "execution": {
          "iopub.status.busy": "2022-04-16T19:30:02.929656Z",
          "iopub.execute_input": "2022-04-16T19:30:02.930562Z",
          "iopub.status.idle": "2022-04-16T19:30:03.036572Z",
          "shell.execute_reply.started": "2022-04-16T19:30:02.930523Z",
          "shell.execute_reply": "2022-04-16T19:30:03.035822Z"
        },
        "trusted": true,
        "id": "Jfs5bjABh9Sh"
      },
      "execution_count": null,
      "outputs": []
    },
    {
      "cell_type": "code",
      "source": [
        "models = list()\n",
        "models.append(LogisticRegression(C=0.01, max_iter=1000, penalty='l1',solver='liblinear'))\n",
        "models.append(LogisticRegression(C=1e-05, l1_ratio=0.5,penalty='l2', max_iter=3000, solver='sag'))\n",
        "models.append(RandomForestClassifier(max_depth=30,n_estimators=100, min_samples_leaf=2,min_samples_split=30,criterion='gini', oob_score=True,random_state=42))\n",
        "models.append(KNeighborsClassifier(n_neighbors=4))\n",
        "models.append(AdaBoostClassifier())\n",
        "models.append(BaggingClassifier(n_estimators=10))"
      ],
      "metadata": {
        "execution": {
          "iopub.status.busy": "2022-04-16T20:08:02.572135Z",
          "iopub.execute_input": "2022-04-16T20:08:02.573034Z",
          "iopub.status.idle": "2022-04-16T20:08:02.579832Z",
          "shell.execute_reply.started": "2022-04-16T20:08:02.572988Z",
          "shell.execute_reply": "2022-04-16T20:08:02.578849Z"
        },
        "trusted": true,
        "id": "gZ8GD9SXh9Sh"
      },
      "execution_count": null,
      "outputs": []
    },
    {
      "cell_type": "code",
      "source": [
        "def evaluate_models(X, y, models,X_test,y_test):\n",
        "    for model in models:\n",
        "        clf=model.fit(X,y)\n",
        "        y_pred=clf.predict(X_test) \n",
        "        acc = accuracy_score(y_test,  y_pred)\n",
        "        print('%s: %.3f' % (model.__class__.__name__, acc*100))"
      ],
      "metadata": {
        "trusted": true,
        "id": "-Xi2Bgi3h9Sh"
      },
      "execution_count": null,
      "outputs": []
    },
    {
      "cell_type": "code",
      "source": [
        "evaluate_models(X_train,y_train,models,X_test,y_test)"
      ],
      "metadata": {
        "execution": {
          "iopub.status.busy": "2022-04-16T19:32:31.888084Z",
          "iopub.execute_input": "2022-04-16T19:32:31.889159Z",
          "iopub.status.idle": "2022-04-16T19:39:26.142188Z",
          "shell.execute_reply.started": "2022-04-16T19:32:31.889119Z",
          "shell.execute_reply": "2022-04-16T19:39:26.141082Z"
        },
        "trusted": true,
        "id": "oSSTSDZEh9Si"
      },
      "execution_count": null,
      "outputs": []
    },
    {
      "cell_type": "code",
      "source": [
        "from mlens.ensemble import SuperLearner\n",
        "ensemble = SuperLearner(scorer=accuracy_score,folds=10)\n",
        "ensemble.add(models)\n",
        "ensemble.add_meta(KNeighborsClassifier(n_neighbors=4))\n",
        "ensemble.fit(X_train, y_train)\n",
        "preds = ensemble.predict(X_test)\n",
        "mc_lr=matthews_corrcoef(y_test, preds)\n",
        "print(f'Mattews Correlation Coefficient is: {mc_lr:.5}')\n",
        "print(\"Prediction score: %.3f\" % accuracy_score(preds, y_test))"
      ],
      "metadata": {
        "execution": {
          "iopub.status.busy": "2022-04-16T18:09:49.074918Z",
          "iopub.execute_input": "2022-04-16T18:09:49.075250Z",
          "iopub.status.idle": "2022-04-16T18:11:58.673286Z",
          "shell.execute_reply.started": "2022-04-16T18:09:49.075199Z",
          "shell.execute_reply": "2022-04-16T18:11:58.672404Z"
        },
        "trusted": true,
        "id": "2oYQQEUrh9Si"
      },
      "execution_count": null,
      "outputs": []
    },
    {
      "cell_type": "code",
      "source": [
        "# Predicting using the Best base model\n",
        "y_pred = ensemble.predict(df_test)\n",
        "prediction = pd.DataFrame(data = y_pred.astype(int), columns = ['Label'])\n",
        "prediction.insert(0, 'ImageId', df_test.index+1)\n",
        "prediction.head(5)"
      ],
      "metadata": {
        "execution": {
          "iopub.status.busy": "2022-04-16T18:14:03.143917Z",
          "iopub.execute_input": "2022-04-16T18:14:03.144240Z",
          "iopub.status.idle": "2022-04-16T18:14:03.156111Z",
          "shell.execute_reply.started": "2022-04-16T18:14:03.144190Z",
          "shell.execute_reply": "2022-04-16T18:14:03.155304Z"
        },
        "trusted": true,
        "id": "9qSxLQuUh9Si"
      },
      "execution_count": null,
      "outputs": []
    },
    {
      "cell_type": "code",
      "source": [
        "prediction.to_csv(path_or_buf = 'submission.csv', sep = ',', index = False, header = True)"
      ],
      "metadata": {
        "execution": {
          "iopub.status.busy": "2022-04-16T18:14:17.720688Z",
          "iopub.execute_input": "2022-04-16T18:14:17.721473Z",
          "iopub.status.idle": "2022-04-16T18:14:17.776072Z",
          "shell.execute_reply.started": "2022-04-16T18:14:17.721424Z",
          "shell.execute_reply": "2022-04-16T18:14:17.775191Z"
        },
        "trusted": true,
        "id": "IlNczsATh9Si"
      },
      "execution_count": null,
      "outputs": []
    },
    {
      "cell_type": "markdown",
      "source": [
        "### SK Learn StackingClassifier"
      ],
      "metadata": {
        "id": "bP5zJdjPh9Si"
      }
    },
    {
      "cell_type": "code",
      "source": [
        "from sklearn.ensemble import StackingClassifier\n",
        "\n",
        "# Create Base Learners\n",
        "base_learners = [\n",
        "                 ('rf_1', RandomForestClassifier(n_estimators=10, random_state=42)),\n",
        "                 ('bag', BaggingClassifier(n_estimators=10),('knn',KNeighborsClassifier(n_neighbors=4)),('log',LogisticRegression(C=0.01, max_iter=1000, penalty='l1',solver='liblinear')))             \n",
        "                ]\n",
        "\n",
        "# Initialize Stacking Classifier with the Meta Learner\n",
        "clf = StackingClassifier(estimators=base_learners, final_estimator=KNeighborsClassifier(n_neighbors=4))\n",
        "clf.fit(X_train, y_train).score(X_test, y_test)"
      ],
      "metadata": {
        "execution": {
          "iopub.status.busy": "2022-04-16T20:50:49.528337Z",
          "iopub.execute_input": "2022-04-16T20:50:49.528643Z",
          "iopub.status.idle": "2022-04-16T20:55:54.767975Z",
          "shell.execute_reply.started": "2022-04-16T20:50:49.528598Z",
          "shell.execute_reply": "2022-04-16T20:55:54.767213Z"
        },
        "trusted": true,
        "id": "lZ6fUFDqh9Si"
      },
      "execution_count": null,
      "outputs": []
    },
    {
      "cell_type": "markdown",
      "source": [
        "## Summary of Classification :\n",
        "| Method |Accuracy|            \n",
        "| :- | :-:|\n",
        "| Logistics Regression-L1 regularization|91.283%|\n",
        "| Logistics Regression-L2 regularization|91.762% |\n",
        "| Random Forest|95.345%|  \n",
        "| KNeighborsClassifier|96.726%|  \n",
        "| AdaBoostClassifier|72.929%|\n",
        "| BaggingClassifier|93.429%|\n",
        "|Super Learner(mlens)|96.3%|\n",
        "|SKLearn Stacking Classifier|94.6%"
      ],
      "metadata": {
        "id": "Xo_qTBSoh9Sj"
      }
    }
  ]
}