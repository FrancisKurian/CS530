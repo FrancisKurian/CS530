{
  "nbformat": 4,
  "nbformat_minor": 0,
  "metadata": {
    "colab": {
      "name": "Linear Regression prediction with scipy.optimize.minimize.ipynb",
      "provenance": [],
      "authorship_tag": "ABX9TyP7xXf+Htt483zC2kjPnIyw",
      "include_colab_link": true
    },
    "kernelspec": {
      "name": "python3",
      "display_name": "Python 3"
    },
    "language_info": {
      "name": "python"
    }
  },
  "cells": [
    {
      "cell_type": "markdown",
      "metadata": {
        "id": "view-in-github",
        "colab_type": "text"
      },
      "source": [
        "<a href=\"https://colab.research.google.com/github/FrancisKurian/CS530/blob/main/Linear_Regression_prediction_with_scipy_optimize_minimize.ipynb\" target=\"_parent\"><img src=\"https://colab.research.google.com/assets/colab-badge.svg\" alt=\"Open In Colab\"/></a>"
      ]
    },
    {
      "cell_type": "markdown",
      "source": [
        "# Contents organization\n",
        "## Training Dataset\n",
        "* Read data file student-por.csv, create a 80-20 split for Training and Test (keep G2 & G3 out)\n",
        "* Use Statsmodel for linear regression(OLS) and extract coefficients , calculate MSE\n",
        "* Set-up SciPy and generate optimized coefficients for the training data set.\n",
        "* Compare MSE between training and SciPy Minimize\n",
        "\n",
        "## Test Dataset\n",
        "* Rescore the test dataset on training model, compare MSE with Training\n",
        "* Use SciPy optmizer on test data, compare MSE with StatsModel MSE\n",
        "\n",
        "## Change training & Test sample Size - 50%, 70% etc.\n",
        "## Try different SciPy Methods -BFGS & L-BFGS-B  etc"
      ],
      "metadata": {
        "id": "vjtfospQhOVj"
      }
    },
    {
      "cell_type": "markdown",
      "source": [
        "#Reading Data/Dummy variable creation"
      ],
      "metadata": {
        "id": "LZlOuYlJ42kj"
      }
    },
    {
      "cell_type": "code",
      "execution_count": null,
      "metadata": {
        "colab": {
          "resources": {
            "http://localhost:8080/nbextensions/google.colab/files.js": {
              "data": "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",
              "ok": true,
              "headers": [
                [
                  "content-type",
                  "application/javascript"
                ]
              ],
              "status": 200,
              "status_text": ""
            }
          },
          "base_uri": "https://localhost:8080/",
          "height": 74
        },
        "id": "FUwgds91OH45",
        "outputId": "0cedef8d-bf78-4331-8b1e-942d856925eb"
      },
      "outputs": [
        {
          "output_type": "display_data",
          "data": {
            "text/html": [
              "\n",
              "     <input type=\"file\" id=\"files-35a38052-be61-436c-b3b1-1bbe3af8ccea\" name=\"files[]\" multiple disabled\n",
              "        style=\"border:none\" />\n",
              "     <output id=\"result-35a38052-be61-436c-b3b1-1bbe3af8ccea\">\n",
              "      Upload widget is only available when the cell has been executed in the\n",
              "      current browser session. Please rerun this cell to enable.\n",
              "      </output>\n",
              "      <script src=\"/nbextensions/google.colab/files.js\"></script> "
            ],
            "text/plain": [
              "<IPython.core.display.HTML object>"
            ]
          },
          "metadata": {}
        },
        {
          "output_type": "stream",
          "name": "stdout",
          "text": [
            "Saving student-por.csv to student-por.csv\n"
          ]
        }
      ],
      "source": [
        "from google.colab import files\n",
        "uploaded = files.upload()"
      ]
    },
    {
      "cell_type": "code",
      "source": [
        "import numpy as np\n",
        "import pandas as pd\n",
        "df = pd.read_csv('student-por.csv', sep = \";\")\n",
        "df = df.drop(columns=[\"Mjob\",\t\"Fjob\",\t\"reason\",\t\"guardian\"])"
      ],
      "metadata": {
        "id": "3ZsrISjUOOAn"
      },
      "execution_count": null,
      "outputs": []
    },
    {
      "cell_type": "code",
      "source": [
        "df.head()"
      ],
      "metadata": {
        "colab": {
          "base_uri": "https://localhost:8080/",
          "height": 270
        },
        "id": "WV36mPiuQad9",
        "outputId": "1caf3b0f-19ce-4873-bb8b-8d1304a0dba3"
      },
      "execution_count": null,
      "outputs": [
        {
          "output_type": "execute_result",
          "data": {
            "text/html": [
              "\n",
              "  <div id=\"df-db790d5b-fce6-41ba-b399-898e684067ef\">\n",
              "    <div class=\"colab-df-container\">\n",
              "      <div>\n",
              "<style scoped>\n",
              "    .dataframe tbody tr th:only-of-type {\n",
              "        vertical-align: middle;\n",
              "    }\n",
              "\n",
              "    .dataframe tbody tr th {\n",
              "        vertical-align: top;\n",
              "    }\n",
              "\n",
              "    .dataframe thead th {\n",
              "        text-align: right;\n",
              "    }\n",
              "</style>\n",
              "<table border=\"1\" class=\"dataframe\">\n",
              "  <thead>\n",
              "    <tr style=\"text-align: right;\">\n",
              "      <th></th>\n",
              "      <th>school</th>\n",
              "      <th>sex</th>\n",
              "      <th>age</th>\n",
              "      <th>address</th>\n",
              "      <th>famsize</th>\n",
              "      <th>Pstatus</th>\n",
              "      <th>Medu</th>\n",
              "      <th>Fedu</th>\n",
              "      <th>traveltime</th>\n",
              "      <th>studytime</th>\n",
              "      <th>failures</th>\n",
              "      <th>schoolsup</th>\n",
              "      <th>famsup</th>\n",
              "      <th>paid</th>\n",
              "      <th>activities</th>\n",
              "      <th>nursery</th>\n",
              "      <th>higher</th>\n",
              "      <th>internet</th>\n",
              "      <th>romantic</th>\n",
              "      <th>famrel</th>\n",
              "      <th>freetime</th>\n",
              "      <th>goout</th>\n",
              "      <th>Dalc</th>\n",
              "      <th>Walc</th>\n",
              "      <th>health</th>\n",
              "      <th>absences</th>\n",
              "      <th>G1</th>\n",
              "      <th>G2</th>\n",
              "      <th>G3</th>\n",
              "    </tr>\n",
              "  </thead>\n",
              "  <tbody>\n",
              "    <tr>\n",
              "      <th>0</th>\n",
              "      <td>GP</td>\n",
              "      <td>F</td>\n",
              "      <td>18</td>\n",
              "      <td>U</td>\n",
              "      <td>GT3</td>\n",
              "      <td>A</td>\n",
              "      <td>4</td>\n",
              "      <td>4</td>\n",
              "      <td>2</td>\n",
              "      <td>2</td>\n",
              "      <td>0</td>\n",
              "      <td>yes</td>\n",
              "      <td>no</td>\n",
              "      <td>no</td>\n",
              "      <td>no</td>\n",
              "      <td>yes</td>\n",
              "      <td>yes</td>\n",
              "      <td>no</td>\n",
              "      <td>no</td>\n",
              "      <td>4</td>\n",
              "      <td>3</td>\n",
              "      <td>4</td>\n",
              "      <td>1</td>\n",
              "      <td>1</td>\n",
              "      <td>3</td>\n",
              "      <td>4</td>\n",
              "      <td>0</td>\n",
              "      <td>11</td>\n",
              "      <td>11</td>\n",
              "    </tr>\n",
              "    <tr>\n",
              "      <th>1</th>\n",
              "      <td>GP</td>\n",
              "      <td>F</td>\n",
              "      <td>17</td>\n",
              "      <td>U</td>\n",
              "      <td>GT3</td>\n",
              "      <td>T</td>\n",
              "      <td>1</td>\n",
              "      <td>1</td>\n",
              "      <td>1</td>\n",
              "      <td>2</td>\n",
              "      <td>0</td>\n",
              "      <td>no</td>\n",
              "      <td>yes</td>\n",
              "      <td>no</td>\n",
              "      <td>no</td>\n",
              "      <td>no</td>\n",
              "      <td>yes</td>\n",
              "      <td>yes</td>\n",
              "      <td>no</td>\n",
              "      <td>5</td>\n",
              "      <td>3</td>\n",
              "      <td>3</td>\n",
              "      <td>1</td>\n",
              "      <td>1</td>\n",
              "      <td>3</td>\n",
              "      <td>2</td>\n",
              "      <td>9</td>\n",
              "      <td>11</td>\n",
              "      <td>11</td>\n",
              "    </tr>\n",
              "    <tr>\n",
              "      <th>2</th>\n",
              "      <td>GP</td>\n",
              "      <td>F</td>\n",
              "      <td>15</td>\n",
              "      <td>U</td>\n",
              "      <td>LE3</td>\n",
              "      <td>T</td>\n",
              "      <td>1</td>\n",
              "      <td>1</td>\n",
              "      <td>1</td>\n",
              "      <td>2</td>\n",
              "      <td>0</td>\n",
              "      <td>yes</td>\n",
              "      <td>no</td>\n",
              "      <td>no</td>\n",
              "      <td>no</td>\n",
              "      <td>yes</td>\n",
              "      <td>yes</td>\n",
              "      <td>yes</td>\n",
              "      <td>no</td>\n",
              "      <td>4</td>\n",
              "      <td>3</td>\n",
              "      <td>2</td>\n",
              "      <td>2</td>\n",
              "      <td>3</td>\n",
              "      <td>3</td>\n",
              "      <td>6</td>\n",
              "      <td>12</td>\n",
              "      <td>13</td>\n",
              "      <td>12</td>\n",
              "    </tr>\n",
              "    <tr>\n",
              "      <th>3</th>\n",
              "      <td>GP</td>\n",
              "      <td>F</td>\n",
              "      <td>15</td>\n",
              "      <td>U</td>\n",
              "      <td>GT3</td>\n",
              "      <td>T</td>\n",
              "      <td>4</td>\n",
              "      <td>2</td>\n",
              "      <td>1</td>\n",
              "      <td>3</td>\n",
              "      <td>0</td>\n",
              "      <td>no</td>\n",
              "      <td>yes</td>\n",
              "      <td>no</td>\n",
              "      <td>yes</td>\n",
              "      <td>yes</td>\n",
              "      <td>yes</td>\n",
              "      <td>yes</td>\n",
              "      <td>yes</td>\n",
              "      <td>3</td>\n",
              "      <td>2</td>\n",
              "      <td>2</td>\n",
              "      <td>1</td>\n",
              "      <td>1</td>\n",
              "      <td>5</td>\n",
              "      <td>0</td>\n",
              "      <td>14</td>\n",
              "      <td>14</td>\n",
              "      <td>14</td>\n",
              "    </tr>\n",
              "    <tr>\n",
              "      <th>4</th>\n",
              "      <td>GP</td>\n",
              "      <td>F</td>\n",
              "      <td>16</td>\n",
              "      <td>U</td>\n",
              "      <td>GT3</td>\n",
              "      <td>T</td>\n",
              "      <td>3</td>\n",
              "      <td>3</td>\n",
              "      <td>1</td>\n",
              "      <td>2</td>\n",
              "      <td>0</td>\n",
              "      <td>no</td>\n",
              "      <td>yes</td>\n",
              "      <td>no</td>\n",
              "      <td>no</td>\n",
              "      <td>yes</td>\n",
              "      <td>yes</td>\n",
              "      <td>no</td>\n",
              "      <td>no</td>\n",
              "      <td>4</td>\n",
              "      <td>3</td>\n",
              "      <td>2</td>\n",
              "      <td>1</td>\n",
              "      <td>2</td>\n",
              "      <td>5</td>\n",
              "      <td>0</td>\n",
              "      <td>11</td>\n",
              "      <td>13</td>\n",
              "      <td>13</td>\n",
              "    </tr>\n",
              "  </tbody>\n",
              "</table>\n",
              "</div>\n",
              "      <button class=\"colab-df-convert\" onclick=\"convertToInteractive('df-db790d5b-fce6-41ba-b399-898e684067ef')\"\n",
              "              title=\"Convert this dataframe to an interactive table.\"\n",
              "              style=\"display:none;\">\n",
              "        \n",
              "  <svg xmlns=\"http://www.w3.org/2000/svg\" height=\"24px\"viewBox=\"0 0 24 24\"\n",
              "       width=\"24px\">\n",
              "    <path d=\"M0 0h24v24H0V0z\" fill=\"none\"/>\n",
              "    <path d=\"M18.56 5.44l.94 2.06.94-2.06 2.06-.94-2.06-.94-.94-2.06-.94 2.06-2.06.94zm-11 1L8.5 8.5l.94-2.06 2.06-.94-2.06-.94L8.5 2.5l-.94 2.06-2.06.94zm10 10l.94 2.06.94-2.06 2.06-.94-2.06-.94-.94-2.06-.94 2.06-2.06.94z\"/><path d=\"M17.41 7.96l-1.37-1.37c-.4-.4-.92-.59-1.43-.59-.52 0-1.04.2-1.43.59L10.3 9.45l-7.72 7.72c-.78.78-.78 2.05 0 2.83L4 21.41c.39.39.9.59 1.41.59.51 0 1.02-.2 1.41-.59l7.78-7.78 2.81-2.81c.8-.78.8-2.07 0-2.86zM5.41 20L4 18.59l7.72-7.72 1.47 1.35L5.41 20z\"/>\n",
              "  </svg>\n",
              "      </button>\n",
              "      \n",
              "  <style>\n",
              "    .colab-df-container {\n",
              "      display:flex;\n",
              "      flex-wrap:wrap;\n",
              "      gap: 12px;\n",
              "    }\n",
              "\n",
              "    .colab-df-convert {\n",
              "      background-color: #E8F0FE;\n",
              "      border: none;\n",
              "      border-radius: 50%;\n",
              "      cursor: pointer;\n",
              "      display: none;\n",
              "      fill: #1967D2;\n",
              "      height: 32px;\n",
              "      padding: 0 0 0 0;\n",
              "      width: 32px;\n",
              "    }\n",
              "\n",
              "    .colab-df-convert:hover {\n",
              "      background-color: #E2EBFA;\n",
              "      box-shadow: 0px 1px 2px rgba(60, 64, 67, 0.3), 0px 1px 3px 1px rgba(60, 64, 67, 0.15);\n",
              "      fill: #174EA6;\n",
              "    }\n",
              "\n",
              "    [theme=dark] .colab-df-convert {\n",
              "      background-color: #3B4455;\n",
              "      fill: #D2E3FC;\n",
              "    }\n",
              "\n",
              "    [theme=dark] .colab-df-convert:hover {\n",
              "      background-color: #434B5C;\n",
              "      box-shadow: 0px 1px 3px 1px rgba(0, 0, 0, 0.15);\n",
              "      filter: drop-shadow(0px 1px 2px rgba(0, 0, 0, 0.3));\n",
              "      fill: #FFFFFF;\n",
              "    }\n",
              "  </style>\n",
              "\n",
              "      <script>\n",
              "        const buttonEl =\n",
              "          document.querySelector('#df-db790d5b-fce6-41ba-b399-898e684067ef button.colab-df-convert');\n",
              "        buttonEl.style.display =\n",
              "          google.colab.kernel.accessAllowed ? 'block' : 'none';\n",
              "\n",
              "        async function convertToInteractive(key) {\n",
              "          const element = document.querySelector('#df-db790d5b-fce6-41ba-b399-898e684067ef');\n",
              "          const dataTable =\n",
              "            await google.colab.kernel.invokeFunction('convertToInteractive',\n",
              "                                                     [key], {});\n",
              "          if (!dataTable) return;\n",
              "\n",
              "          const docLinkHtml = 'Like what you see? Visit the ' +\n",
              "            '<a target=\"_blank\" href=https://colab.research.google.com/notebooks/data_table.ipynb>data table notebook</a>'\n",
              "            + ' to learn more about interactive tables.';\n",
              "          element.innerHTML = '';\n",
              "          dataTable['output_type'] = 'display_data';\n",
              "          await google.colab.output.renderOutput(dataTable, element);\n",
              "          const docLink = document.createElement('div');\n",
              "          docLink.innerHTML = docLinkHtml;\n",
              "          element.appendChild(docLink);\n",
              "        }\n",
              "      </script>\n",
              "    </div>\n",
              "  </div>\n",
              "  "
            ],
            "text/plain": [
              "  school sex  age address famsize Pstatus  ...  Walc  health  absences  G1  G2  G3\n",
              "0     GP   F   18       U     GT3       A  ...     1       3         4   0  11  11\n",
              "1     GP   F   17       U     GT3       T  ...     1       3         2   9  11  11\n",
              "2     GP   F   15       U     LE3       T  ...     3       3         6  12  13  12\n",
              "3     GP   F   15       U     GT3       T  ...     1       5         0  14  14  14\n",
              "4     GP   F   16       U     GT3       T  ...     2       5         0  11  13  13\n",
              "\n",
              "[5 rows x 29 columns]"
            ]
          },
          "metadata": {},
          "execution_count": 28
        }
      ]
    },
    {
      "cell_type": "code",
      "source": [
        "#cols= ['G3','G1','school',\t'sex', 'address',\t'famsize','Pstatus','Medu','Fedu','traveltime','studytime','failures','schoolsup','famsup','paid','activities','nursery','higher','internet','romantic','famrel','freetime','goout','Dalc','Walc','health','absences']\n",
        "cols= ['G3','G2','G1']\n",
        "# cols= ['G3']\n",
        "X=df.drop(columns=cols)\n",
        "y=df['G3']\n",
        "X = pd.get_dummies(X)\n",
        "X.head()"
      ],
      "metadata": {
        "colab": {
          "base_uri": "https://localhost:8080/",
          "height": 270
        },
        "id": "T8lGC6LIEKsR",
        "outputId": "9bed96c4-91e8-4794-b537-4bffb943b31a"
      },
      "execution_count": null,
      "outputs": [
        {
          "output_type": "execute_result",
          "data": {
            "text/html": [
              "\n",
              "  <div id=\"df-ca89d00d-c8a8-4960-9956-9af68910e3e7\">\n",
              "    <div class=\"colab-df-container\">\n",
              "      <div>\n",
              "<style scoped>\n",
              "    .dataframe tbody tr th:only-of-type {\n",
              "        vertical-align: middle;\n",
              "    }\n",
              "\n",
              "    .dataframe tbody tr th {\n",
              "        vertical-align: top;\n",
              "    }\n",
              "\n",
              "    .dataframe thead th {\n",
              "        text-align: right;\n",
              "    }\n",
              "</style>\n",
              "<table border=\"1\" class=\"dataframe\">\n",
              "  <thead>\n",
              "    <tr style=\"text-align: right;\">\n",
              "      <th></th>\n",
              "      <th>age</th>\n",
              "      <th>Medu</th>\n",
              "      <th>Fedu</th>\n",
              "      <th>traveltime</th>\n",
              "      <th>studytime</th>\n",
              "      <th>failures</th>\n",
              "      <th>famrel</th>\n",
              "      <th>freetime</th>\n",
              "      <th>goout</th>\n",
              "      <th>Dalc</th>\n",
              "      <th>Walc</th>\n",
              "      <th>health</th>\n",
              "      <th>absences</th>\n",
              "      <th>school_GP</th>\n",
              "      <th>school_MS</th>\n",
              "      <th>sex_F</th>\n",
              "      <th>sex_M</th>\n",
              "      <th>address_R</th>\n",
              "      <th>address_U</th>\n",
              "      <th>famsize_GT3</th>\n",
              "      <th>famsize_LE3</th>\n",
              "      <th>Pstatus_A</th>\n",
              "      <th>Pstatus_T</th>\n",
              "      <th>schoolsup_no</th>\n",
              "      <th>schoolsup_yes</th>\n",
              "      <th>famsup_no</th>\n",
              "      <th>famsup_yes</th>\n",
              "      <th>paid_no</th>\n",
              "      <th>paid_yes</th>\n",
              "      <th>activities_no</th>\n",
              "      <th>activities_yes</th>\n",
              "      <th>nursery_no</th>\n",
              "      <th>nursery_yes</th>\n",
              "      <th>higher_no</th>\n",
              "      <th>higher_yes</th>\n",
              "      <th>internet_no</th>\n",
              "      <th>internet_yes</th>\n",
              "      <th>romantic_no</th>\n",
              "      <th>romantic_yes</th>\n",
              "    </tr>\n",
              "  </thead>\n",
              "  <tbody>\n",
              "    <tr>\n",
              "      <th>0</th>\n",
              "      <td>18</td>\n",
              "      <td>4</td>\n",
              "      <td>4</td>\n",
              "      <td>2</td>\n",
              "      <td>2</td>\n",
              "      <td>0</td>\n",
              "      <td>4</td>\n",
              "      <td>3</td>\n",
              "      <td>4</td>\n",
              "      <td>1</td>\n",
              "      <td>1</td>\n",
              "      <td>3</td>\n",
              "      <td>4</td>\n",
              "      <td>1</td>\n",
              "      <td>0</td>\n",
              "      <td>1</td>\n",
              "      <td>0</td>\n",
              "      <td>0</td>\n",
              "      <td>1</td>\n",
              "      <td>1</td>\n",
              "      <td>0</td>\n",
              "      <td>1</td>\n",
              "      <td>0</td>\n",
              "      <td>0</td>\n",
              "      <td>1</td>\n",
              "      <td>1</td>\n",
              "      <td>0</td>\n",
              "      <td>1</td>\n",
              "      <td>0</td>\n",
              "      <td>1</td>\n",
              "      <td>0</td>\n",
              "      <td>0</td>\n",
              "      <td>1</td>\n",
              "      <td>0</td>\n",
              "      <td>1</td>\n",
              "      <td>1</td>\n",
              "      <td>0</td>\n",
              "      <td>1</td>\n",
              "      <td>0</td>\n",
              "    </tr>\n",
              "    <tr>\n",
              "      <th>1</th>\n",
              "      <td>17</td>\n",
              "      <td>1</td>\n",
              "      <td>1</td>\n",
              "      <td>1</td>\n",
              "      <td>2</td>\n",
              "      <td>0</td>\n",
              "      <td>5</td>\n",
              "      <td>3</td>\n",
              "      <td>3</td>\n",
              "      <td>1</td>\n",
              "      <td>1</td>\n",
              "      <td>3</td>\n",
              "      <td>2</td>\n",
              "      <td>1</td>\n",
              "      <td>0</td>\n",
              "      <td>1</td>\n",
              "      <td>0</td>\n",
              "      <td>0</td>\n",
              "      <td>1</td>\n",
              "      <td>1</td>\n",
              "      <td>0</td>\n",
              "      <td>0</td>\n",
              "      <td>1</td>\n",
              "      <td>1</td>\n",
              "      <td>0</td>\n",
              "      <td>0</td>\n",
              "      <td>1</td>\n",
              "      <td>1</td>\n",
              "      <td>0</td>\n",
              "      <td>1</td>\n",
              "      <td>0</td>\n",
              "      <td>1</td>\n",
              "      <td>0</td>\n",
              "      <td>0</td>\n",
              "      <td>1</td>\n",
              "      <td>0</td>\n",
              "      <td>1</td>\n",
              "      <td>1</td>\n",
              "      <td>0</td>\n",
              "    </tr>\n",
              "    <tr>\n",
              "      <th>2</th>\n",
              "      <td>15</td>\n",
              "      <td>1</td>\n",
              "      <td>1</td>\n",
              "      <td>1</td>\n",
              "      <td>2</td>\n",
              "      <td>0</td>\n",
              "      <td>4</td>\n",
              "      <td>3</td>\n",
              "      <td>2</td>\n",
              "      <td>2</td>\n",
              "      <td>3</td>\n",
              "      <td>3</td>\n",
              "      <td>6</td>\n",
              "      <td>1</td>\n",
              "      <td>0</td>\n",
              "      <td>1</td>\n",
              "      <td>0</td>\n",
              "      <td>0</td>\n",
              "      <td>1</td>\n",
              "      <td>0</td>\n",
              "      <td>1</td>\n",
              "      <td>0</td>\n",
              "      <td>1</td>\n",
              "      <td>0</td>\n",
              "      <td>1</td>\n",
              "      <td>1</td>\n",
              "      <td>0</td>\n",
              "      <td>1</td>\n",
              "      <td>0</td>\n",
              "      <td>1</td>\n",
              "      <td>0</td>\n",
              "      <td>0</td>\n",
              "      <td>1</td>\n",
              "      <td>0</td>\n",
              "      <td>1</td>\n",
              "      <td>0</td>\n",
              "      <td>1</td>\n",
              "      <td>1</td>\n",
              "      <td>0</td>\n",
              "    </tr>\n",
              "    <tr>\n",
              "      <th>3</th>\n",
              "      <td>15</td>\n",
              "      <td>4</td>\n",
              "      <td>2</td>\n",
              "      <td>1</td>\n",
              "      <td>3</td>\n",
              "      <td>0</td>\n",
              "      <td>3</td>\n",
              "      <td>2</td>\n",
              "      <td>2</td>\n",
              "      <td>1</td>\n",
              "      <td>1</td>\n",
              "      <td>5</td>\n",
              "      <td>0</td>\n",
              "      <td>1</td>\n",
              "      <td>0</td>\n",
              "      <td>1</td>\n",
              "      <td>0</td>\n",
              "      <td>0</td>\n",
              "      <td>1</td>\n",
              "      <td>1</td>\n",
              "      <td>0</td>\n",
              "      <td>0</td>\n",
              "      <td>1</td>\n",
              "      <td>1</td>\n",
              "      <td>0</td>\n",
              "      <td>0</td>\n",
              "      <td>1</td>\n",
              "      <td>1</td>\n",
              "      <td>0</td>\n",
              "      <td>0</td>\n",
              "      <td>1</td>\n",
              "      <td>0</td>\n",
              "      <td>1</td>\n",
              "      <td>0</td>\n",
              "      <td>1</td>\n",
              "      <td>0</td>\n",
              "      <td>1</td>\n",
              "      <td>0</td>\n",
              "      <td>1</td>\n",
              "    </tr>\n",
              "    <tr>\n",
              "      <th>4</th>\n",
              "      <td>16</td>\n",
              "      <td>3</td>\n",
              "      <td>3</td>\n",
              "      <td>1</td>\n",
              "      <td>2</td>\n",
              "      <td>0</td>\n",
              "      <td>4</td>\n",
              "      <td>3</td>\n",
              "      <td>2</td>\n",
              "      <td>1</td>\n",
              "      <td>2</td>\n",
              "      <td>5</td>\n",
              "      <td>0</td>\n",
              "      <td>1</td>\n",
              "      <td>0</td>\n",
              "      <td>1</td>\n",
              "      <td>0</td>\n",
              "      <td>0</td>\n",
              "      <td>1</td>\n",
              "      <td>1</td>\n",
              "      <td>0</td>\n",
              "      <td>0</td>\n",
              "      <td>1</td>\n",
              "      <td>1</td>\n",
              "      <td>0</td>\n",
              "      <td>0</td>\n",
              "      <td>1</td>\n",
              "      <td>1</td>\n",
              "      <td>0</td>\n",
              "      <td>1</td>\n",
              "      <td>0</td>\n",
              "      <td>0</td>\n",
              "      <td>1</td>\n",
              "      <td>0</td>\n",
              "      <td>1</td>\n",
              "      <td>1</td>\n",
              "      <td>0</td>\n",
              "      <td>1</td>\n",
              "      <td>0</td>\n",
              "    </tr>\n",
              "  </tbody>\n",
              "</table>\n",
              "</div>\n",
              "      <button class=\"colab-df-convert\" onclick=\"convertToInteractive('df-ca89d00d-c8a8-4960-9956-9af68910e3e7')\"\n",
              "              title=\"Convert this dataframe to an interactive table.\"\n",
              "              style=\"display:none;\">\n",
              "        \n",
              "  <svg xmlns=\"http://www.w3.org/2000/svg\" height=\"24px\"viewBox=\"0 0 24 24\"\n",
              "       width=\"24px\">\n",
              "    <path d=\"M0 0h24v24H0V0z\" fill=\"none\"/>\n",
              "    <path d=\"M18.56 5.44l.94 2.06.94-2.06 2.06-.94-2.06-.94-.94-2.06-.94 2.06-2.06.94zm-11 1L8.5 8.5l.94-2.06 2.06-.94-2.06-.94L8.5 2.5l-.94 2.06-2.06.94zm10 10l.94 2.06.94-2.06 2.06-.94-2.06-.94-.94-2.06-.94 2.06-2.06.94z\"/><path d=\"M17.41 7.96l-1.37-1.37c-.4-.4-.92-.59-1.43-.59-.52 0-1.04.2-1.43.59L10.3 9.45l-7.72 7.72c-.78.78-.78 2.05 0 2.83L4 21.41c.39.39.9.59 1.41.59.51 0 1.02-.2 1.41-.59l7.78-7.78 2.81-2.81c.8-.78.8-2.07 0-2.86zM5.41 20L4 18.59l7.72-7.72 1.47 1.35L5.41 20z\"/>\n",
              "  </svg>\n",
              "      </button>\n",
              "      \n",
              "  <style>\n",
              "    .colab-df-container {\n",
              "      display:flex;\n",
              "      flex-wrap:wrap;\n",
              "      gap: 12px;\n",
              "    }\n",
              "\n",
              "    .colab-df-convert {\n",
              "      background-color: #E8F0FE;\n",
              "      border: none;\n",
              "      border-radius: 50%;\n",
              "      cursor: pointer;\n",
              "      display: none;\n",
              "      fill: #1967D2;\n",
              "      height: 32px;\n",
              "      padding: 0 0 0 0;\n",
              "      width: 32px;\n",
              "    }\n",
              "\n",
              "    .colab-df-convert:hover {\n",
              "      background-color: #E2EBFA;\n",
              "      box-shadow: 0px 1px 2px rgba(60, 64, 67, 0.3), 0px 1px 3px 1px rgba(60, 64, 67, 0.15);\n",
              "      fill: #174EA6;\n",
              "    }\n",
              "\n",
              "    [theme=dark] .colab-df-convert {\n",
              "      background-color: #3B4455;\n",
              "      fill: #D2E3FC;\n",
              "    }\n",
              "\n",
              "    [theme=dark] .colab-df-convert:hover {\n",
              "      background-color: #434B5C;\n",
              "      box-shadow: 0px 1px 3px 1px rgba(0, 0, 0, 0.15);\n",
              "      filter: drop-shadow(0px 1px 2px rgba(0, 0, 0, 0.3));\n",
              "      fill: #FFFFFF;\n",
              "    }\n",
              "  </style>\n",
              "\n",
              "      <script>\n",
              "        const buttonEl =\n",
              "          document.querySelector('#df-ca89d00d-c8a8-4960-9956-9af68910e3e7 button.colab-df-convert');\n",
              "        buttonEl.style.display =\n",
              "          google.colab.kernel.accessAllowed ? 'block' : 'none';\n",
              "\n",
              "        async function convertToInteractive(key) {\n",
              "          const element = document.querySelector('#df-ca89d00d-c8a8-4960-9956-9af68910e3e7');\n",
              "          const dataTable =\n",
              "            await google.colab.kernel.invokeFunction('convertToInteractive',\n",
              "                                                     [key], {});\n",
              "          if (!dataTable) return;\n",
              "\n",
              "          const docLinkHtml = 'Like what you see? Visit the ' +\n",
              "            '<a target=\"_blank\" href=https://colab.research.google.com/notebooks/data_table.ipynb>data table notebook</a>'\n",
              "            + ' to learn more about interactive tables.';\n",
              "          element.innerHTML = '';\n",
              "          dataTable['output_type'] = 'display_data';\n",
              "          await google.colab.output.renderOutput(dataTable, element);\n",
              "          const docLink = document.createElement('div');\n",
              "          docLink.innerHTML = docLinkHtml;\n",
              "          element.appendChild(docLink);\n",
              "        }\n",
              "      </script>\n",
              "    </div>\n",
              "  </div>\n",
              "  "
            ],
            "text/plain": [
              "   age  Medu  Fedu  ...  internet_yes  romantic_no  romantic_yes\n",
              "0   18     4     4  ...             0            1             0\n",
              "1   17     1     1  ...             1            1             0\n",
              "2   15     1     1  ...             1            1             0\n",
              "3   15     4     2  ...             1            0             1\n",
              "4   16     3     3  ...             0            1             0\n",
              "\n",
              "[5 rows x 39 columns]"
            ]
          },
          "metadata": {},
          "execution_count": 29
        }
      ]
    },
    {
      "cell_type": "markdown",
      "source": [
        "# Training/Test Splits"
      ],
      "metadata": {
        "id": "O7Irq82JhStK"
      }
    },
    {
      "cell_type": "code",
      "source": [
        "# Sperate train and test data\n",
        "from sklearn.model_selection import train_test_split\n",
        "X_train, X_test, y_train, y_test = train_test_split(X, y, test_size=0.2, random_state=0)"
      ],
      "metadata": {
        "id": "uiHtMAWgmgoJ"
      },
      "execution_count": null,
      "outputs": []
    },
    {
      "cell_type": "markdown",
      "source": [
        "# Linear Regression Model and Results"
      ],
      "metadata": {
        "id": "txQ7IctShkFv"
      }
    },
    {
      "cell_type": "code",
      "source": [
        "import statsmodels.api as sm\n",
        "ols_model=sm.OLS(y_train,X_train).fit()\n",
        "print(ols_model.summary())"
      ],
      "metadata": {
        "colab": {
          "base_uri": "https://localhost:8080/"
        },
        "id": "W9yy4LLMEVgv",
        "outputId": "fb9b7074-2929-4ea4-e382-d7b27e27773a"
      },
      "execution_count": null,
      "outputs": [
        {
          "output_type": "stream",
          "name": "stdout",
          "text": [
            "                            OLS Regression Results                            \n",
            "==============================================================================\n",
            "Dep. Variable:                     G3   R-squared:                       0.358\n",
            "Model:                            OLS   Adj. R-squared:                  0.324\n",
            "Method:                 Least Squares   F-statistic:                     10.53\n",
            "Date:                Mon, 21 Feb 2022   Prob (F-statistic):           3.64e-33\n",
            "Time:                        20:33:47   Log-Likelihood:                -1249.4\n",
            "No. Observations:                 519   AIC:                             2553.\n",
            "Df Residuals:                     492   BIC:                             2668.\n",
            "Df Model:                          26                                         \n",
            "Covariance Type:            nonrobust                                         \n",
            "==================================================================================\n",
            "                     coef    std err          t      P>|t|      [0.025      0.975]\n",
            "----------------------------------------------------------------------------------\n",
            "age                0.1851      0.114      1.620      0.106      -0.039       0.410\n",
            "Medu               0.3172      0.152      2.085      0.038       0.018       0.616\n",
            "Fedu               0.0126      0.151      0.084      0.933      -0.284       0.309\n",
            "traveltime         0.0100      0.181      0.055      0.956      -0.346       0.366\n",
            "studytime          0.3452      0.158      2.190      0.029       0.036       0.655\n",
            "failures          -1.4657      0.226     -6.488      0.000      -1.910      -1.022\n",
            "famrel             0.1463      0.132      1.108      0.268      -0.113       0.406\n",
            "freetime          -0.1189      0.130     -0.917      0.360      -0.373       0.136\n",
            "goout             -0.1047      0.124     -0.848      0.397      -0.347       0.138\n",
            "Dalc              -0.2517      0.167     -1.506      0.133      -0.580       0.077\n",
            "Walc              -0.1316      0.135     -0.975      0.330      -0.397       0.134\n",
            "health            -0.1441      0.087     -1.648      0.100      -0.316       0.028\n",
            "absences          -0.0178      0.028     -0.631      0.528      -0.073       0.038\n",
            "school_GP          1.1299      0.219      5.159      0.000       0.700       1.560\n",
            "school_MS         -0.0195      0.223     -0.087      0.930      -0.457       0.418\n",
            "sex_F              0.8755      0.218      4.017      0.000       0.447       1.304\n",
            "sex_M              0.2348      0.218      1.078      0.282      -0.193       0.663\n",
            "address_R          0.4012      0.226      1.774      0.077      -0.043       0.846\n",
            "address_U          0.7092      0.218      3.253      0.001       0.281       1.138\n",
            "famsize_GT3        0.4064      0.208      1.949      0.052      -0.003       0.816\n",
            "famsize_LE3        0.7039      0.218      3.230      0.001       0.276       1.132\n",
            "Pstatus_A          0.5206      0.267      1.948      0.052      -0.004       1.046\n",
            "Pstatus_T          0.5898      0.254      2.324      0.021       0.091       1.089\n",
            "schoolsup_no       1.1525      0.271      4.246      0.000       0.619       1.686\n",
            "schoolsup_yes     -0.0421      0.257     -0.164      0.870      -0.548       0.464\n",
            "famsup_no          0.5908      0.216      2.736      0.006       0.167       1.015\n",
            "famsup_yes         0.5196      0.202      2.566      0.011       0.122       0.917\n",
            "paid_no            0.8101      0.293      2.765      0.006       0.234       1.386\n",
            "paid_yes           0.3003      0.338      0.889      0.374      -0.363       0.964\n",
            "activities_no      0.3585      0.208      1.728      0.085      -0.049       0.766\n",
            "activities_yes     0.7518      0.207      3.632      0.000       0.345       1.159\n",
            "nursery_no         0.7171      0.227      3.158      0.002       0.271       1.163\n",
            "nursery_yes        0.3933      0.222      1.772      0.077      -0.043       0.829\n",
            "higher_no         -0.4247      0.297     -1.431      0.153      -1.008       0.158\n",
            "higher_yes         1.5350      0.240      6.392      0.000       1.063       2.007\n",
            "internet_no        0.3122      0.217      1.437      0.151      -0.115       0.739\n",
            "internet_yes       0.7982      0.234      3.409      0.001       0.338       1.258\n",
            "romantic_no        0.7760      0.197      3.939      0.000       0.389       1.163\n",
            "romantic_yes       0.3344      0.223      1.499      0.135      -0.104       0.773\n",
            "==============================================================================\n",
            "Omnibus:                      102.536   Durbin-Watson:                   1.819\n",
            "Prob(Omnibus):                  0.000   Jarque-Bera (JB):              296.306\n",
            "Skew:                          -0.944   Prob(JB):                     4.55e-65\n",
            "Kurtosis:                       6.184   Cond. No.                     1.16e+16\n",
            "==============================================================================\n",
            "\n",
            "Warnings:\n",
            "[1] Standard Errors assume that the covariance matrix of the errors is correctly specified.\n",
            "[2] The smallest eigenvalue is 1.46e-27. This might indicate that there are\n",
            "strong multicollinearity problems or that the design matrix is singular.\n"
          ]
        }
      ]
    },
    {
      "cell_type": "code",
      "source": [
        "from statsmodels.tools.eval_measures import rmse, mse\n",
        "ypred = ols_model.predict(X_train)\n",
        "# calc rmse\n",
        "rmse = rmse(y_train, ypred)\n",
        "mse = mse(y_train, ypred)\n",
        "print(\"MSE:\",mse,\"RMSE:\",rmse)"
      ],
      "metadata": {
        "colab": {
          "base_uri": "https://localhost:8080/"
        },
        "id": "BzuDBA17GwPQ",
        "outputId": "fd2cd481-12b9-4812-e9d7-5041b62ddd46"
      },
      "execution_count": null,
      "outputs": [
        {
          "output_type": "stream",
          "name": "stdout",
          "text": [
            "MSE: 7.218414563218563 RMSE: 2.686710733074657\n"
          ]
        }
      ]
    },
    {
      "cell_type": "markdown",
      "source": [
        "# Extract Coefficients"
      ],
      "metadata": {
        "id": "Na2seILnht0G"
      }
    },
    {
      "cell_type": "code",
      "source": [
        "# extract coefficients from training model to an array for ScyPy function accuracy check\n",
        "c_v1=ols_model.params.to_numpy()\n",
        "\n",
        "#intial condition set to 1 for SciPy optimization\n",
        "lst = []\n",
        "for i in range(len(c_v1)):\n",
        "    lst.append(1)\n",
        "c_v2=np.array(lst)"
      ],
      "metadata": {
        "id": "V8pUjgjilfUn"
      },
      "execution_count": null,
      "outputs": []
    },
    {
      "cell_type": "code",
      "source": [
        "print(len(c_v1),len(c_v2))\n",
        "print(c_v1,c_v2)\n",
        "print(type(c_v1),type(c_v2))\n"
      ],
      "metadata": {
        "colab": {
          "base_uri": "https://localhost:8080/"
        },
        "id": "0tK534uQU-uv",
        "outputId": "d0377aa5-5352-40a0-839e-463ab9febbaf"
      },
      "execution_count": null,
      "outputs": [
        {
          "output_type": "stream",
          "name": "stdout",
          "text": [
            "39 39\n",
            "[ 0.18508929  0.31722224  0.01262297  0.01002361  0.34518337 -1.46571039\n",
            "  0.14631192 -0.11886066 -0.10470331 -0.25165689 -0.13164858 -0.14406395\n",
            " -0.01776317  1.12986527 -0.0194846   0.87554043  0.23484023  0.40115881\n",
            "  0.70922186  0.40643425  0.70394642  0.52056594  0.58981473  1.15250971\n",
            " -0.04212904  0.59080374  0.51957693  0.81009338  0.30028729  0.35853319\n",
            "  0.75184748  0.71706369  0.39331698 -0.42466806  1.53504873  0.31218198\n",
            "  0.79819869  0.77595277  0.3344279 ] [1 1 1 1 1 1 1 1 1 1 1 1 1 1 1 1 1 1 1 1 1 1 1 1 1 1 1 1 1 1 1 1 1 1 1 1 1\n",
            " 1 1]\n",
            "<class 'numpy.ndarray'> <class 'numpy.ndarray'>\n"
          ]
        }
      ]
    },
    {
      "cell_type": "code",
      "source": [
        "# Extarct X variables as array to automate SciPy\n",
        "Xn2=[]\n",
        "for col in X_train.columns:\n",
        "    Xn2.append(X_train[col].to_numpy())\n",
        "Y= y_train.to_numpy()"
      ],
      "metadata": {
        "id": "dVlwKwjwplkc"
      },
      "execution_count": null,
      "outputs": []
    },
    {
      "cell_type": "markdown",
      "source": [
        "#SciPy Set-up\n",
        "## functions to compute models and MSE"
      ],
      "metadata": {
        "id": "hI7OHE5sfFQZ"
      }
    },
    {
      "cell_type": "code",
      "source": [
        "def model(coeffs, X):\n",
        "    f= np.sum(X*coeffs[:,np.newaxis],axis=0)\n",
        "    return f\n",
        "\n",
        "def sum_of_squares(coeff, X, Y):\n",
        "    f = model(coeff, X)\n",
        "    obj = np.array(((f - Y)**2)).sum()\n",
        "    return obj"
      ],
      "metadata": {
        "id": "vmHy8V5zGN1g"
      },
      "execution_count": null,
      "outputs": []
    },
    {
      "cell_type": "markdown",
      "source": [
        "## Optimize with initial conditions of the coefficients set"
      ],
      "metadata": {
        "id": "FwaRAE-YgNm2"
      }
    },
    {
      "cell_type": "code",
      "source": [
        "from scipy.optimize import minimize\n",
        "res = minimize(sum_of_squares, c_v2, args=(Xn2, Y),method='L-BFGS-B')\n",
        "print(res)"
      ],
      "metadata": {
        "colab": {
          "base_uri": "https://localhost:8080/"
        },
        "id": "2bUeMq8vLbGO",
        "outputId": "12014460-a222-4e44-f8be-4efa3d06e158"
      },
      "execution_count": null,
      "outputs": [
        {
          "output_type": "stream",
          "name": "stdout",
          "text": [
            "      fun: 3746.3573399421366\n",
            " hess_inv: <39x39 LbfgsInvHessProduct with dtype=float64>\n",
            "      jac: array([-0.11905286, -0.07908056, -0.05734364, -0.00100044,  0.07880772,\n",
            "        0.02551133, -0.01559783,  0.05566108, -0.05893526, -0.20172592,\n",
            "       -0.21764208,  0.02455636, -0.20113475,  0.0428372 , -0.05720722,\n",
            "       -0.00754881, -0.00677574, -0.00518412, -0.00914042, -0.02683009,\n",
            "        0.01246008,  0.02260094, -0.03697096, -0.05475158,  0.04038156,\n",
            "       -0.00318323, -0.01109584,  0.08681127, -0.10113581,  0.05275069,\n",
            "       -0.06707523, -0.01837179,  0.00409273, -0.03346941,  0.01919034,\n",
            "        0.02346496, -0.03783498,  0.04956746, -0.06384653])\n",
            "  message: b'CONVERGENCE: REL_REDUCTION_OF_F_<=_FACTR*EPSMCH'\n",
            "     nfev: 4440\n",
            "      nit: 98\n",
            "   status: 0\n",
            "  success: True\n",
            "        x: array([ 0.18525625,  0.31720463,  0.0126459 ,  0.01006251,  0.34532219,\n",
            "       -1.46556826,  0.14628641, -0.11872778, -0.10468251, -0.25181886,\n",
            "       -0.13168873, -0.14403902, -0.01776723,  1.12968399, -0.01993909,\n",
            "        0.87507253,  0.23467171,  0.40092265,  0.70882137,  0.4061112 ,\n",
            "        0.70363478,  0.52033099,  0.58941165,  1.15199836, -0.04225346,\n",
            "        0.59046817,  0.51927698,  0.81073435,  0.29901097,  0.35832765,\n",
            "        0.75141602,  0.71671737,  0.39302751, -0.42521339,  1.53495967,\n",
            "        0.31191603,  0.79783124,  0.77574949,  0.33399532])\n"
          ]
        }
      ]
    },
    {
      "cell_type": "code",
      "source": [
        "#extract optimized coefficients\n",
        "c_v3=res.x\n",
        "print(c_v3)"
      ],
      "metadata": {
        "colab": {
          "base_uri": "https://localhost:8080/"
        },
        "id": "4RNqb7NcLtqU",
        "outputId": "3d73ce7e-de36-446c-885f-c6429a403915"
      },
      "execution_count": null,
      "outputs": [
        {
          "output_type": "stream",
          "name": "stdout",
          "text": [
            "[ 0.18525625  0.31720463  0.0126459   0.01006251  0.34532219 -1.46556826\n",
            "  0.14628641 -0.11872778 -0.10468251 -0.25181886 -0.13168873 -0.14403902\n",
            " -0.01776723  1.12968399 -0.01993909  0.87507253  0.23467171  0.40092265\n",
            "  0.70882137  0.4061112   0.70363478  0.52033099  0.58941165  1.15199836\n",
            " -0.04225346  0.59046817  0.51927698  0.81073435  0.29901097  0.35832765\n",
            "  0.75141602  0.71671737  0.39302751 -0.42521339  1.53495967  0.31191603\n",
            "  0.79783124  0.77574949  0.33399532]\n"
          ]
        }
      ]
    },
    {
      "cell_type": "markdown",
      "source": [
        "#MSE using optmized coefficients"
      ],
      "metadata": {
        "id": "imCIjD-vgrPg"
      }
    },
    {
      "cell_type": "code",
      "source": [
        "sum_of_squares(c_v3, Xn2,Y)/len(Y)"
      ],
      "metadata": {
        "colab": {
          "base_uri": "https://localhost:8080/"
        },
        "id": "I3yt1YlWMpX9",
        "outputId": "671c40f7-e1d1-47e0-aa4a-3ae07947628e"
      },
      "execution_count": null,
      "outputs": [
        {
          "output_type": "execute_result",
          "data": {
            "text/plain": [
              "7.218414913183308"
            ]
          },
          "metadata": {},
          "execution_count": 39
        }
      ]
    },
    {
      "cell_type": "markdown",
      "source": [
        "# Regression: Training Model, Test Data "
      ],
      "metadata": {
        "id": "cXOjqAjKmrsw"
      }
    },
    {
      "cell_type": "code",
      "source": [
        "from statsmodels.tools.eval_measures import rmse, mse\n",
        "ypred = ols_model.predict(X_test)\n",
        "# calc rmse\n",
        "rmse = rmse(y_test, ypred)\n",
        "mse = mse(y_test, ypred)\n",
        "print(\"MSE:\",mse,\"RMSE:\",rmse)"
      ],
      "metadata": {
        "colab": {
          "base_uri": "https://localhost:8080/"
        },
        "id": "sMB9k3BF7ZWX",
        "outputId": "6bf56776-cf42-4085-d710-63a417b130f1"
      },
      "execution_count": null,
      "outputs": [
        {
          "output_type": "stream",
          "name": "stdout",
          "text": [
            "MSE: 5.627686979702675 RMSE: 2.3722746425535712\n"
          ]
        }
      ]
    },
    {
      "cell_type": "markdown",
      "source": [
        "# Function to List MSE for various sample size, optimization techniques"
      ],
      "metadata": {
        "id": "-fZvjCesMiW3"
      }
    },
    {
      "cell_type": "code",
      "source": [
        "from sklearn.model_selection import train_test_split\n",
        "import statsmodels.api as sm\n",
        "from statsmodels.tools.eval_measures import rmse, mse\n",
        "from scipy.optimize import minimize\n",
        "\n",
        "def Ols_scenarios(Test_Size, SciPyMethod):\n",
        "  X_train, X_test, y_train, y_test = train_test_split(X, y, test_size=Test_Size, random_state=0)\n",
        "  ols_model=sm.OLS(y_train,X_train).fit()\n",
        "  ypred_tr = ols_model.predict(X_train)\n",
        "  mse_tr = mse(y_train, ypred_tr)\n",
        "\n",
        "  ypred_t = ols_model.predict(X_test)\n",
        "  mse_t = mse(y_test, ypred_t)\n",
        "\n",
        "  c_v1=ols_model.params.to_numpy()\n",
        "  lst = []\n",
        "  for i in range(len(c_v1)):\n",
        "    lst.append(1)\n",
        "  c_v2=np.array(lst)\n",
        " \n",
        "\n",
        "  Xn2=[]\n",
        "  Xn3=[]\n",
        "  for col in X_train.columns:\n",
        "    Xn2.append(X_train[col].to_numpy())\n",
        "    Yn2= y_train.to_numpy()\n",
        "    Xn3.append(X_test[col].to_numpy())\n",
        "    Yn3= y_test.to_numpy()  \n",
        "  res = minimize(sum_of_squares, c_v2, args=(Xn2, Yn2), options={'disp':True},method=SciPyMethod)\n",
        "  c_v3=res.x #optimized coef array\n",
        "  mse_o_tr=sum_of_squares(c_v3, Xn2,Yn2)/len(Yn2)\n",
        "  mse_o_t=sum_of_squares(c_v3, Xn3,Yn3)/len(Yn3)\n",
        "  print( 'MSE-Training:',mse_tr)\n",
        "  print( 'MSE-Test:',mse_t)\n",
        "  print( 'MSE-Train-Optimized:(',SciPyMethod,')',mse_o_tr)\n",
        "  print( 'MSE-Test-Optimized:(',SciPyMethod,')',mse_o_t)\n",
        "\n",
        "  return   mse_tr, mse_t, mse_o_tr,mse_o_t"
      ],
      "metadata": {
        "id": "r2eD4tVHNBIS"
      },
      "execution_count": null,
      "outputs": []
    },
    {
      "cell_type": "code",
      "source": [
        "cols= ['G3']\n",
        "X=df.drop(columns=cols)\n",
        "X = pd.get_dummies(X)\n",
        "y=df['G3']\n",
        "\n",
        "print(\"Training 80%, Test 20%, Optimization Method:L-BFGS-B\")\n",
        "mse_tr, mse_t, mse_o_tr,mse_o_t=Ols_scenarios(0.2,\"L-BFGS-B\")\n",
        "\n",
        "print(\"Training 50%, Test 50%, Optimization Method:L-BFGS-B\")\n",
        "mse_tr, mse_t, mse_o_tr,mse_o_t=Ols_scenarios(0.5,\"L-BFGS-B\")\n",
        "\n",
        "print(\"Training 80%, Test 20%, Optimization Method: BFGS\")\n",
        "mse_tr, mse_t, mse_o_tr,mse_o_t=Ols_scenarios(0.2,\"BFGS\")\n",
        "\n",
        "print(\"Training 50%, Test 50%, Optimization Method: BFGS\")\n",
        "mse_tr, mse_t, mse_o_tr,mse_o_t=Ols_scenarios(0.5,\"BFGS\")"
      ],
      "metadata": {
        "colab": {
          "base_uri": "https://localhost:8080/"
        },
        "id": "uKUl1OrdO27D",
        "outputId": "c7e48741-c2ab-4e11-f40f-f6b1d1317f94"
      },
      "execution_count": null,
      "outputs": [
        {
          "output_type": "stream",
          "name": "stdout",
          "text": [
            "Training 80%, Test 20%, Optimization Method:L-BFGS-B\n",
            "MSE-Training: 1.636137114720974\n",
            "MSE-Test: 1.0236201523551807\n",
            "MSE-Train-Optimized:( L-BFGS-B ) 1.63613730182413\n",
            "MSE-Test-Optimized:( L-BFGS-B ) 1.0236483283085633\n",
            "Training 50%, Test 50%, Optimization Method:L-BFGS-B\n",
            "MSE-Training: 1.2954053642393621\n",
            "MSE-Test: 1.9323417045414921\n",
            "MSE-Train-Optimized:( L-BFGS-B ) 1.2954055976842664\n",
            "MSE-Test-Optimized:( L-BFGS-B ) 1.9324172094920589\n",
            "Training 80%, Test 20%, Optimization Method: BFGS\n",
            "Warning: Desired error not necessarily achieved due to precision loss.\n",
            "         Current function value: 849.155163\n",
            "         Iterations: 39\n",
            "         Function evaluations: 2538\n",
            "         Gradient evaluations: 59\n",
            "MSE-Training: 1.636137114720974\n",
            "MSE-Test: 1.0236201523551807\n",
            "MSE-Train-Optimized:( BFGS ) 1.6361371147240868\n",
            "MSE-Test-Optimized:( BFGS ) 1.0236201893955152\n",
            "Training 50%, Test 50%, Optimization Method: BFGS\n",
            "Warning: Desired error not necessarily achieved due to precision loss.\n",
            "         Current function value: 419.711338\n",
            "         Iterations: 41\n",
            "         Function evaluations: 2538\n",
            "         Gradient evaluations: 59\n",
            "MSE-Training: 1.2954053642393621\n",
            "MSE-Test: 1.9323417045414921\n",
            "MSE-Train-Optimized:( BFGS ) 1.2954053642399967\n",
            "MSE-Test-Optimized:( BFGS ) 1.9323419783296438\n"
          ]
        }
      ]
    },
    {
      "cell_type": "code",
      "source": [
        "# Add G2 and G1 Back\n",
        "cols= ['G3','G2','G1']\n",
        "X=df.drop(columns=cols)\n",
        "X = pd.get_dummies(X)\n",
        "\n",
        "print(\"Training 80%, Test 20%, Optimization Method:L-BFGS-B\")\n",
        "mse_tr, mse_t, mse_o_tr,mse_o_t=Ols_scenarios(0.2,\"L-BFGS-B\")\n",
        "\n",
        "print(\"Training 50%, Test 50%, Optimization Method:L-BFGS-B\")\n",
        "mse_tr, mse_t, mse_o_tr,mse_o_t=Ols_scenarios(0.5,\"L-BFGS-B\")\n",
        "\n",
        "print(\"Training 80%, Test 20%, Optimization Method: BFGS\")\n",
        "mse_tr, mse_t, mse_o_tr,mse_o_t=Ols_scenarios(0.2,\"BFGS\")\n",
        "\n",
        "print(\"Training 50%, Test 50%, Optimization Method: BFGS\")\n",
        "mse_tr, mse_t, mse_o_tr,mse_o_t=Ols_scenarios(0.5,\"BFGS\")\n"
      ],
      "metadata": {
        "colab": {
          "base_uri": "https://localhost:8080/"
        },
        "id": "porj7727lSBk",
        "outputId": "964840bb-89eb-44e6-8ba7-0063f6f67670"
      },
      "execution_count": null,
      "outputs": [
        {
          "output_type": "stream",
          "name": "stdout",
          "text": [
            "Training 80%, Test 20%, Optimization Method:L-BFGS-B\n",
            "MSE-Training: 7.218414563218563\n",
            "MSE-Test: 5.627686979702675\n",
            "MSE-Train-Optimized:( L-BFGS-B ) 7.218414913183308\n",
            "MSE-Test-Optimized:( L-BFGS-B ) 5.627499419104615\n",
            "Training 50%, Test 50%, Optimization Method:L-BFGS-B\n",
            "MSE-Training: 5.7048815776039055\n",
            "MSE-Test: 8.493869884936045\n",
            "MSE-Train-Optimized:( L-BFGS-B ) 5.704881681825842\n",
            "MSE-Test-Optimized:( L-BFGS-B ) 8.49378460972242\n",
            "Training 80%, Test 20%, Optimization Method: BFGS\n",
            "Warning: Desired error not necessarily achieved due to precision loss.\n",
            "         Current function value: 3746.357158\n",
            "         Iterations: 51\n",
            "         Function evaluations: 3076\n",
            "         Gradient evaluations: 75\n",
            "MSE-Training: 7.218414563218563\n",
            "MSE-Test: 5.627686979702675\n",
            "MSE-Train-Optimized:( BFGS ) 7.218414563221563\n",
            "MSE-Test-Optimized:( BFGS ) 5.627686909056814\n",
            "Training 50%, Test 50%, Optimization Method: BFGS\n",
            "Warning: Desired error not necessarily achieved due to precision loss.\n",
            "         Current function value: 1848.381631\n",
            "         Iterations: 36\n",
            "         Function evaluations: 2133\n",
            "         Gradient evaluations: 52\n",
            "MSE-Training: 5.7048815776039055\n",
            "MSE-Test: 8.493869884936045\n",
            "MSE-Train-Optimized:( BFGS ) 5.704881577607174\n",
            "MSE-Test-Optimized:( BFGS ) 8.49386968400122\n"
          ]
        }
      ]
    },
    {
      "cell_type": "markdown",
      "source": [
        "### End"
      ],
      "metadata": {
        "id": "4vG9DDToiDWA"
      }
    },
    {
      "cell_type": "markdown",
      "source": [
        "@ Jeomoan Francis Kurian"
      ],
      "metadata": {
        "id": "JZxUizD_lZ6N"
      }
    }
  ]
}