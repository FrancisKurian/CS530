{
  "nbformat": 4,
  "nbformat_minor": 0,
  "metadata": {
    "colab": {
      "name": "Naive Bayes on UCI Breast Cancer Data.ipynb",
      "provenance": [],
      "collapsed_sections": [],
      "authorship_tag": "ABX9TyMMRbYmqImFlkXKZHJo+tem",
      "include_colab_link": true
    },
    "kernelspec": {
      "name": "python3",
      "display_name": "Python 3"
    },
    "language_info": {
      "name": "python"
    }
  },
  "cells": [
    {
      "cell_type": "markdown",
      "metadata": {
        "id": "view-in-github",
        "colab_type": "text"
      },
      "source": [
        "<a href=\"https://colab.research.google.com/github/FrancisKurian/CS530/blob/main/Naive_Bayes_on_UCI_Breast_Cancer_Data.ipynb\" target=\"_parent\"><img src=\"https://colab.research.google.com/assets/colab-badge.svg\" alt=\"Open In Colab\"/></a>"
      ]
    },
    {
      "cell_type": "markdown",
      "source": [
        "#Naive Bayesian Classifier\n",
        "## Contents\n",
        "* Bayes' theorem\n",
        "* Simplified example to understand the concept\n",
        "* Breast Cancer data reading/cleaning steps\n",
        "  * training 80%, test 20% random sample splits \n",
        "* Sub feature level probability computation\n",
        "  * function prob_lookup to compute probabilities from training data\n",
        "* User defined Classifier function : Classifier()\n",
        "  * Scoring Training data-Compare with actual Confusion Matrix,ROC\n",
        "  * Scoring Test data:Holdout sample validation. Confusion Matrix,ROC\n",
        "* sklearn.naive_bayes.CategoricalNB\n",
        "  * Scoring Training data-compare with actual. Confusion Matrix,ROC\n",
        "  * Scoring Test data:Holdout sample validation-Confusion Matrix,ROC\n",
        "<br>\n",
        "<br>\n",
        "\n",
        "##Bayes Theorem:\n",
        "$ P(A|B)=\\frac{P(A|B)×P(A)}{P(B)}$\n",
        "<br>\n",
        "<br>\n",
        "The above equation represents Bayes Theorem in which it describes the probability of an event occurring P(A) based on our prior knowledge of event B.<br>\n",
        "\n",
        "*   P(A|B) - Posterior Probability(The conditional probability of the response variable (target variable) given the training data inputs)\n",
        "*   P(A) - Prior Probability(The probability of the response variable (target variable))\n",
        "*   P(B) - Evidence(The probability of the training data)\n",
        "*   P(B|A) - Likelihood(The conditional probability of the training data given the response variable)\n",
        "\n",
        "## Application in Training /Test data situation\n",
        "<br>\n",
        "$ Y= target ; x_i=features $<br>\n",
        "\n",
        "$P(Y| x_1,  x_2 ...  x_n) =\\frac{P( x_1|Y)×P( x_2|Y)....×P( x_n|Y)×P(Y)}{P(x_1)×P(x_2)...×P(x_n)}$\n",
        "<br>\n",
        "<br>\n",
        "Since $P(x_1)×P(x_2)...×P(x_n)$ is a constant, \n",
        "<br>\n",
        "<br>\n",
        "$P(Y| x_1,  x_2 ...  x_n) \\space \\propto  \\space  P(Y)\\prod_{i=1}^{n} P( x_i|Y) $\n",
        "<br>\n",
        "<br>\n",
        "<br>\n",
        "<br>\n",
        "## Breast Cancer Data - A two feature example\n",
        "* Dependent variable : Class with binary outcome (no-recurrence-events, recurrence-events)\n",
        "* Age Group (30-39,40-49 etc)\n",
        "* tumor-size (0-4, 5-9 etc.)\n",
        "###An unseen sample in test data X = {Age Group: 30-39, tumor-size: 0-4}\n",
        "Here we will calculate two probabilties. Probability of recurrence given the probabilty of recurrence in the training data and Probability of non recurrence given the probability of non- recurrence evidenced in the training data. Once we have these two probabilities, we could compare the two and determine the outcome of the sample in test data.\n",
        "\n",
        "1. $P(X|recur)=P(Age:30-39|recur)×P(tsize:0-4|recur)×P(recur)$\n",
        "1. $P(X|no-recur)=P(Age:30-39|no-recur)×P(tsize:0-4|no-recur)×P(no-recur)$\n",
        "* Age- AgeGroup\n",
        "* tsize- tumor size\n",
        "<br>\n",
        "<br>\n",
        "We already know the probability of these components(See the Probability output data frame below):\n",
        "<br>\n",
        "* $P(recur) =0.64$\n",
        "* $P(non-recur) =0.36$\n",
        "* $P(Age: 30-39|recur) =0.21$\n",
        "* $P(Age: 30-39|non-recur) =0.11$\n",
        "* $P(tumorsize:0-4|recur)=0.01$\n",
        "* $P(tumorsize:0-4|non-recur)=0.03 $\n",
        "\n",
        "1. $P(X|recur) =0.64×0.21×0.01 =0.001344$\n",
        "2. $P(X|non-recur) =0.36×0.11×0.03 =0.001188$\n",
        "<br>\n",
        "Normalizing these probabilities for easy comparison:\n",
        "<br>\n",
        "$P(X|recur) =\\frac{0.001344}{0.001344+0.001188} =0.53 $\n",
        "<br>\n",
        "$P(X|non-recur) =1-0.53 =0.47$\n",
        "\n",
        "Clearly, with 0.53 > 0.47,  Sample X is classified in Recurrence group in this simple two feature example. This logic has been extended to 9 features in the Breast cancer dataset. Probabilities at the charecteristics(sub feature) level was computed for each feature and a function was used to classify the test data.\n"
      ],
      "metadata": {
        "id": "7fexJs9-9wu2"
      }
    },
    {
      "cell_type": "code",
      "execution_count": null,
      "metadata": {
        "id": "7ve_cJp2FyGL",
        "colab": {
          "resources": {
            "http://localhost:8080/nbextensions/google.colab/files.js": {
              "data": "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",
              "ok": true,
              "headers": [
                [
                  "content-type",
                  "application/javascript"
                ]
              ],
              "status": 200,
              "status_text": ""
            }
          },
          "base_uri": "https://localhost:8080/",
          "height": 74
        },
        "outputId": "2950421c-3367-4981-ab9f-796524ae1236"
      },
      "outputs": [
        {
          "output_type": "display_data",
          "data": {
            "text/html": [
              "\n",
              "     <input type=\"file\" id=\"files-64f25484-3a9e-4cd8-8ded-171a04971c13\" name=\"files[]\" multiple disabled\n",
              "        style=\"border:none\" />\n",
              "     <output id=\"result-64f25484-3a9e-4cd8-8ded-171a04971c13\">\n",
              "      Upload widget is only available when the cell has been executed in the\n",
              "      current browser session. Please rerun this cell to enable.\n",
              "      </output>\n",
              "      <script src=\"/nbextensions/google.colab/files.js\"></script> "
            ],
            "text/plain": [
              "<IPython.core.display.HTML object>"
            ]
          },
          "metadata": {}
        },
        {
          "output_type": "stream",
          "name": "stdout",
          "text": [
            "Saving breast-cancer.data to breast-cancer (1).data\n"
          ]
        }
      ],
      "source": [
        "from google.colab import files\n",
        "uploaded = files.upload()"
      ]
    },
    {
      "cell_type": "code",
      "source": [
        "import numpy as np\n",
        "import pandas as pd\n",
        "df = pd.read_csv('breast-cancer.data',header=None)\n",
        "df.columns = ['Class' ,'age' ,'menopause' ,'tumor_size' ,'inv_nodes' ,'node_caps' ,'deg_malig' ,'breast' ,'breast_quad' ,'irradiat'] \n",
        "# df"
      ],
      "metadata": {
        "id": "8pYUItHKH5W3"
      },
      "execution_count": null,
      "outputs": []
    },
    {
      "cell_type": "code",
      "source": [
        "# df.isna().sum()"
      ],
      "metadata": {
        "id": "jV5RwYZKgx_Q"
      },
      "execution_count": null,
      "outputs": []
    },
    {
      "cell_type": "markdown",
      "source": [
        "## Clean the source data prior to training /test split"
      ],
      "metadata": {
        "id": "FH8llMs8lao2"
      }
    },
    {
      "cell_type": "code",
      "source": [
        "df['node_caps'].replace('?', 'no',inplace=True)\n",
        "df['breast_quad'].replace('?', 'left_low',inplace=True)\n",
        "df['irradiat'].replace('no', 'N',inplace=True)\n",
        "df['irradiat'].replace('yes', 'Y',inplace=True)\n",
        "#two age groups had very small # of observations. so merged with nearest\n",
        "df['age'].replace('20-29', '30-39',inplace=True)\n",
        "df['age'].replace('70-79', '60-69',inplace=True)\n",
        "df['tumor_size'].replace('0-4', '5-9',inplace=True)"
      ],
      "metadata": {
        "id": "yJoAMAOMllwQ"
      },
      "execution_count": null,
      "outputs": []
    },
    {
      "cell_type": "code",
      "source": [
        "# pd.crosstab(df['tumor_size'], df['Class'], margins = True)"
      ],
      "metadata": {
        "id": "97RNKA11buZA"
      },
      "execution_count": null,
      "outputs": []
    },
    {
      "cell_type": "markdown",
      "source": [
        "## Function to calculate probability at sub-feature level"
      ],
      "metadata": {
        "id": "hXXxY58slhyK"
      }
    },
    {
      "cell_type": "code",
      "source": [
        "def prob_lookup(df,target):\n",
        "  df_prob2 = pd.DataFrame()\n",
        "  for (columnName) in df:\n",
        "    if not columnName==target:\n",
        "      df_ct = pd.crosstab(df[columnName], df[target], margins = True)\n",
        "      class_list = list(df_ct.index.values)[:-1] +[\"coltotal\"]\n",
        "      df_ct.index= [class_list]\n",
        "      rcount=len(df_ct.index)\n",
        "      df_prob0=df_ct / df_ct.iloc[rcount-1]\n",
        "      df_prob=df_prob0[0:rcount-1]\n",
        "      df_prob=df_prob.reset_index().iloc[: , :-1]\n",
        "      df_prob2=df_prob2.append(df_prob,ignore_index=True)\n",
        "  return  df_prob2"
      ],
      "metadata": {
        "id": "2dJFMSq6lQbw"
      },
      "execution_count": null,
      "outputs": []
    },
    {
      "cell_type": "markdown",
      "source": [
        "## 80% Training and 20% Test Splits "
      ],
      "metadata": {
        "id": "7laH4LwxqoRl"
      }
    },
    {
      "cell_type": "code",
      "source": [
        "df_train = df.sample(frac=0.80, replace=False)\n",
        "df_test  = df.drop(df_train.index)"
      ],
      "metadata": {
        "id": "KVd_XIJNqmz3"
      },
      "execution_count": null,
      "outputs": []
    },
    {
      "cell_type": "markdown",
      "source": [
        "## Calculate the probabilties"
      ],
      "metadata": {
        "id": "f9gpN0-7tYWB"
      }
    },
    {
      "cell_type": "code",
      "source": [
        "outcome= 'Class'\n",
        "df_p=prob_lookup(df_train,outcome)\n",
        "py=0.2972\n",
        "pn=0.7028"
      ],
      "metadata": {
        "id": "oONNRWrOr3us"
      },
      "execution_count": null,
      "outputs": []
    },
    {
      "cell_type": "code",
      "source": [
        "# Probability of occurance and non occurance at charecteristics level\n",
        "print(df_p)"
      ],
      "metadata": {
        "colab": {
          "base_uri": "https://localhost:8080/"
        },
        "id": "HDJ9axWOitSj",
        "outputId": "23d2d61f-2c6b-4582-a1c6-c26b530061e9"
      },
      "execution_count": null,
      "outputs": [
        {
          "output_type": "stream",
          "name": "stdout",
          "text": [
            "Class    level_0  no-recurrence-events  recurrence-events\n",
            "0          30-39              0.105590           0.161765\n",
            "1          40-49              0.335404           0.338235\n",
            "2          50-59              0.335404           0.294118\n",
            "3          60-69              0.223602           0.205882\n",
            "4           ge40              0.478261           0.411765\n",
            "5           lt40              0.031056           0.029412\n",
            "6        premeno              0.490683           0.558824\n",
            "7          10-14              0.136646           0.000000\n",
            "8          15-19              0.118012           0.102941\n",
            "9          20-24              0.173913           0.205882\n",
            "10         25-29              0.155280           0.191176\n",
            "11         30-34              0.173913           0.294118\n",
            "12         35-39              0.062112           0.088235\n",
            "13         40-44              0.086957           0.073529\n",
            "14         45-49              0.012422           0.000000\n",
            "15           5-9              0.068323           0.014706\n",
            "16         50-54              0.012422           0.029412\n",
            "17           0-2              0.826087           0.573529\n",
            "18         12-14              0.006211           0.029412\n",
            "19         15-17              0.012422           0.029412\n",
            "20         24-26              0.000000           0.014706\n",
            "21           3-5              0.093168           0.191176\n",
            "22           6-8              0.043478           0.088235\n",
            "23          9-11              0.018634           0.073529\n",
            "24            no              0.875776           0.661765\n",
            "25           yes              0.124224           0.338235\n",
            "26             1              0.285714           0.147059\n",
            "27             2              0.496894           0.338235\n",
            "28             3              0.217391           0.514706\n",
            "29          left              0.496894           0.588235\n",
            "30         right              0.503106           0.411765\n",
            "31       central              0.086957           0.058824\n",
            "32      left_low              0.354037           0.426471\n",
            "33       left_up              0.366460           0.323529\n",
            "34     right_low              0.099379           0.073529\n",
            "35      right_up              0.093168           0.117647\n",
            "36             N              0.807453           0.691176\n",
            "37             Y              0.192547           0.308824\n"
          ]
        }
      ]
    },
    {
      "cell_type": "code",
      "source": [
        "header = df_train.columns[1:10].to_list()\n",
        "p_header=['Prob_'+ j for j in header]"
      ],
      "metadata": {
        "id": "JT5pEcQNPjer"
      },
      "execution_count": null,
      "outputs": []
    },
    {
      "cell_type": "code",
      "source": [
        "#p_header"
      ],
      "metadata": {
        "id": "gpcNDLRkQSeg"
      },
      "execution_count": null,
      "outputs": []
    },
    {
      "cell_type": "code",
      "source": [
        "def classifier(x):\n",
        "        Prob_yes=1\n",
        "        Prob_no=1\n",
        "        prob_dict_yes={}\n",
        "        prob_dict_no={}\n",
        "        \n",
        "        for i in range (1,len(header)):\n",
        "          \n",
        "                prob_val=df_p.loc[df_p['level_0']==x[i]]\n",
        "                \n",
        "                #probablity of Prob_col = probablity based on the argument sent in\n",
        "                prob_dict_yes={p_header[i]:prob_val['recurrence-events'].values[0]}\n",
        "                prob_dict_no={p_header[i]:prob_val['no-recurrence-events'].values[0]}\n",
        "\n",
        "                for keys,values in prob_dict_yes.items():\n",
        "                      if values==0: values=0 # to take care of probabiliy with its 0\n",
        "                      Prob_yes = Prob_yes * values\n",
        "                \n",
        "                for keys,values in prob_dict_no.items():\n",
        "                      if values==0: values=0 # to take care of probabiliy with its 0\n",
        "                      Prob_no = Prob_no * values\n",
        "        \n",
        "        prob_yes_p = Prob_yes * py\n",
        "        prob_yes_n = Prob_no * pn\n",
        "        \n",
        "        Prob_normal_yes = (prob_yes_p) /(prob_yes_p + prob_yes_n)\n",
        "        # Prob_normal_no = (prob_no_p)/(prob_yes_p + prob_yes_n)\n",
        "                \n",
        "        if Prob_normal_yes >= 0.5:\n",
        "              forecast='recurrence-events'\n",
        "        else:\n",
        "              forecast='no-recurrence-events'\n",
        "                    \n",
        "        return(Prob_normal_yes,forecast)"
      ],
      "metadata": {
        "id": "aKkF9L89Qatv"
      },
      "execution_count": null,
      "outputs": []
    },
    {
      "cell_type": "markdown",
      "source": [
        "## Scoring Training Dataset-(Model trained on the same dataset)"
      ],
      "metadata": {
        "id": "_-KrZ2hgi2bB"
      }
    },
    {
      "cell_type": "markdown",
      "source": [
        "## User Defined Classifier () Function"
      ],
      "metadata": {
        "id": "08wCn1Y0kmzS"
      }
    },
    {
      "cell_type": "code",
      "source": [
        "df_train[['Prob_normal_yes','forecast']]=df_train.apply(classifier,axis=1,result_type='expand')"
      ],
      "metadata": {
        "id": "A2niOgRFQii-"
      },
      "execution_count": null,
      "outputs": []
    },
    {
      "cell_type": "code",
      "source": [
        "#df_train"
      ],
      "metadata": {
        "id": "h5sLBRkoQsUa"
      },
      "execution_count": null,
      "outputs": []
    },
    {
      "cell_type": "markdown",
      "source": [
        "### Confusion matrix and accuracy"
      ],
      "metadata": {
        "id": "s37cYsAhU2c6"
      }
    },
    {
      "cell_type": "code",
      "source": [
        "from sklearn.metrics import confusion_matrix\n",
        "from sklearn.metrics import classification_report\n",
        "confusion_matrix(df_train.Class=='recurrence-events', df_train.forecast =='recurrence-events')"
      ],
      "metadata": {
        "colab": {
          "base_uri": "https://localhost:8080/"
        },
        "id": "HokCtRB4U4BY",
        "outputId": "7d6aa3a4-095d-4dfe-f4d7-58eaf3bce2ec"
      },
      "execution_count": null,
      "outputs": [
        {
          "output_type": "execute_result",
          "data": {
            "text/plain": [
              "array([[138,  23],\n",
              "       [ 35,  33]])"
            ]
          },
          "metadata": {},
          "execution_count": 259
        }
      ]
    },
    {
      "cell_type": "code",
      "source": [
        "matrix=classification_report(df_train.Class=='recurrence-events', df_train.forecast =='recurrence-events')\n",
        "print('Classification report : \\n',matrix)"
      ],
      "metadata": {
        "colab": {
          "base_uri": "https://localhost:8080/"
        },
        "id": "5Q_I2jdfoH4W",
        "outputId": "0030ea83-51c2-482c-d016-ec3156dcdd7e"
      },
      "execution_count": null,
      "outputs": [
        {
          "output_type": "stream",
          "name": "stdout",
          "text": [
            "Classification report : \n",
            "               precision    recall  f1-score   support\n",
            "\n",
            "       False       0.80      0.86      0.83       161\n",
            "        True       0.59      0.49      0.53        68\n",
            "\n",
            "    accuracy                           0.75       229\n",
            "   macro avg       0.69      0.67      0.68       229\n",
            "weighted avg       0.74      0.75      0.74       229\n",
            "\n"
          ]
        }
      ]
    },
    {
      "cell_type": "markdown",
      "source": [
        "### ROC"
      ],
      "metadata": {
        "id": "XOplr7zJYhcR"
      }
    },
    {
      "cell_type": "code",
      "source": [
        "from sklearn.metrics import roc_curve, auc\n",
        "import matplotlib.pyplot as plt"
      ],
      "metadata": {
        "id": "lWho4pCXYkFl"
      },
      "execution_count": null,
      "outputs": []
    },
    {
      "cell_type": "code",
      "source": [
        "fpr_tr_u, tpr_tr_u, threshs_tr_u = roc_curve(df_train.Class=='recurrence-events', df_train.Prob_normal_yes)\n",
        "roc_auc_tr_u = auc(fpr_tr_u, tpr_tr_u)"
      ],
      "metadata": {
        "id": "9S-1XzI5YtvK"
      },
      "execution_count": null,
      "outputs": []
    },
    {
      "cell_type": "code",
      "source": [
        "plt.rcParams[\"figure.figsize\"] = (8,6)\n",
        "plt.plot(\n",
        "    fpr_tr_u,\n",
        "    tpr_tr_u,\n",
        "    'o-',\n",
        "    lw=2,\n",
        "    label=\"ROC curve (area = %0.2f)\" % roc_auc_tr_u,   \n",
        ")\n",
        "plt.plot([0, 1], [0, 1], color=\"navy\", lw=2, linestyle=\"--\")\n",
        "plt.xlim([0.0, 1.0])\n",
        "plt.ylim([0.0, 1.05])\n",
        "plt.xlabel(\"False Positive Rate\")\n",
        "plt.ylabel(\"True Positive Rate\")\n",
        "plt.title(\"Receiver operating characteristic example\")\n",
        "plt.legend(loc=\"lower right\")\n",
        "plt.show()"
      ],
      "metadata": {
        "colab": {
          "base_uri": "https://localhost:8080/",
          "height": 404
        },
        "id": "qHyosiAwYuiK",
        "outputId": "e08cae59-4e0a-4d90-e8c2-c223b42008c9"
      },
      "execution_count": null,
      "outputs": [
        {
          "output_type": "display_data",
          "data": {
            "image/png": "[encoded data removed]",
            "text/plain": [
              "<Figure size 576x432 with 1 Axes>"
            ]
          },
          "metadata": {
            "needs_background": "light"
          }
        }
      ]
    },
    {
      "cell_type": "markdown",
      "source": [
        "## Sklearn Categorical Naive Bayes Classifier (CategoricalNB)"
      ],
      "metadata": {
        "id": "MI6C41KBxlix"
      }
    },
    {
      "cell_type": "code",
      "source": [
        "#convert the features \n",
        "df_train2= df_train.apply(lambda x: pd.factorize(x)[0])\n",
        "X_train = df_train2[['age' ,'menopause' ,'tumor_size' ,'inv_nodes' ,'node_caps' ,'deg_malig' ,'breast' ,'breast_quad' ,'irradiat'] ]\n",
        "y_train = df_train2.Class"
      ],
      "metadata": {
        "id": "yEJhEO9-xt3K"
      },
      "execution_count": null,
      "outputs": []
    },
    {
      "cell_type": "code",
      "source": [
        "from sklearn.naive_bayes import CategoricalNB\n",
        "clf = CategoricalNB()\n",
        "clf.fit(X_train,y_train)"
      ],
      "metadata": {
        "colab": {
          "base_uri": "https://localhost:8080/"
        },
        "id": "1vD_3J7RyI2c",
        "outputId": "2c37fb88-b889-4e3d-c267-5b541e12c658"
      },
      "execution_count": null,
      "outputs": [
        {
          "output_type": "execute_result",
          "data": {
            "text/plain": [
              "CategoricalNB()"
            ]
          },
          "metadata": {},
          "execution_count": 245
        }
      ]
    },
    {
      "cell_type": "markdown",
      "source": [
        "### Confusion matrix and accuracy"
      ],
      "metadata": {
        "id": "yhB-EVzgzVPw"
      }
    },
    {
      "cell_type": "code",
      "source": [
        "# Check accuracy prediction vs actual\n",
        "(clf.predict(X_train) == df_train2.Class).mean()"
      ],
      "metadata": {
        "colab": {
          "base_uri": "https://localhost:8080/"
        },
        "id": "FjujGEPS3_cX",
        "outputId": "c199b878-59f5-4c58-bcba-d1c370d0fff5"
      },
      "execution_count": null,
      "outputs": [
        {
          "output_type": "execute_result",
          "data": {
            "text/plain": [
              "0.74235807860262"
            ]
          },
          "metadata": {},
          "execution_count": 246
        }
      ]
    },
    {
      "cell_type": "code",
      "source": [
        "from sklearn.metrics import confusion_matrix\n",
        "confusion_matrix(df_train2.Class, clf.predict(X_train))"
      ],
      "metadata": {
        "colab": {
          "base_uri": "https://localhost:8080/"
        },
        "id": "YE150DcL6AKv",
        "outputId": "6d804de6-e2d9-4b78-d1ef-0a97b243cbbf"
      },
      "execution_count": null,
      "outputs": [
        {
          "output_type": "execute_result",
          "data": {
            "text/plain": [
              "array([[139,  22],\n",
              "       [ 37,  31]])"
            ]
          },
          "metadata": {},
          "execution_count": 248
        }
      ]
    },
    {
      "cell_type": "code",
      "source": [
        "matrix=classification_report(df_train2.Class, clf.predict(X_train))\n",
        "print('Classification report : \\n',matrix)"
      ],
      "metadata": {
        "colab": {
          "base_uri": "https://localhost:8080/"
        },
        "id": "PYBOLhgmvRDS",
        "outputId": "6a1b3be9-9834-4a3e-cd65-3123008d3e46"
      },
      "execution_count": null,
      "outputs": [
        {
          "output_type": "stream",
          "name": "stdout",
          "text": [
            "Classification report : \n",
            "               precision    recall  f1-score   support\n",
            "\n",
            "           0       0.79      0.86      0.82       161\n",
            "           1       0.58      0.46      0.51        68\n",
            "\n",
            "    accuracy                           0.74       229\n",
            "   macro avg       0.69      0.66      0.67       229\n",
            "weighted avg       0.73      0.74      0.73       229\n",
            "\n"
          ]
        }
      ]
    },
    {
      "cell_type": "markdown",
      "source": [
        "<div style=\"page-break-after: always;\"></div>"
      ],
      "metadata": {
        "id": "nYLSfkV3MlL-"
      }
    },
    {
      "cell_type": "markdown",
      "source": [
        "<div style=\"page-break-after: always;\"></div>"
      ],
      "metadata": {
        "id": "4rfVV88hLR9V"
      }
    },
    {
      "cell_type": "markdown",
      "source": [
        "### ROC"
      ],
      "metadata": {
        "id": "zhVwGVC1zfwh"
      }
    },
    {
      "cell_type": "code",
      "source": [
        "probs = clf.predict_proba(X_train)[:,1]\n",
        "fpr_nb_tr_sk, tpr_nb_tr_sk, threshs_nb_tr_sk = roc_curve(df_train2.Class, probs)\n",
        "roc_auc_nb_tr_sk = auc(fpr_nb_tr_sk, tpr_nb_tr_sk)"
      ],
      "metadata": {
        "id": "efrFaHmL40at"
      },
      "execution_count": null,
      "outputs": []
    },
    {
      "cell_type": "code",
      "source": [
        "plt.rcParams[\"figure.figsize\"] = (6,4)\n",
        "plt.plot(\n",
        "    fpr_nb_tr_sk,\n",
        "    tpr_nb_tr_sk,\n",
        "    'o-',\n",
        "    lw=2,\n",
        "    label=\"ROC curve (area = %0.2f)\" % roc_auc_nb_tr_sk,   \n",
        ")\n",
        "plt.plot([0, 1], [0, 1], color=\"navy\", lw=2, linestyle=\"--\")\n",
        "plt.xlim([0.0, 1.0])\n",
        "plt.ylim([0.0, 1.05])\n",
        "plt.xlabel(\"False Positive Rate\")\n",
        "plt.ylabel(\"True Positive Rate\")\n",
        "plt.title(\"Receiver operating characteristic example\")\n",
        "plt.legend(loc=\"lower right\")\n",
        "plt.show()"
      ],
      "metadata": {
        "colab": {
          "base_uri": "https://localhost:8080/",
          "height": 295
        },
        "id": "5x-cGICO5W32",
        "outputId": "e0763e1a-e1ba-4abb-dd4e-52c7a165ed86"
      },
      "execution_count": null,
      "outputs": [
        {
          "output_type": "display_data",
          "data": {
            "image/png": "[encoded data removed]",
            "text/plain": [
              "<Figure size 432x288 with 1 Axes>"
            ]
          },
          "metadata": {
            "needs_background": "light"
          }
        }
      ]
    },
    {
      "cell_type": "markdown",
      "source": [
        "<div style=\"page-break-after: always;\"></div>"
      ],
      "metadata": {
        "id": "wgfus8wPMtj_"
      }
    },
    {
      "cell_type": "markdown",
      "source": [
        "<br>"
      ],
      "metadata": {
        "id": "pzN-ojEwKWHY"
      }
    },
    {
      "cell_type": "markdown",
      "source": [
        "<br>\n"
      ],
      "metadata": {
        "id": "kzUZlyGXKP2Y"
      }
    },
    {
      "cell_type": "markdown",
      "source": [
        "# Scoring Test Dataset- Holdout Sample Validation"
      ],
      "metadata": {
        "id": "j2QgRTdSlPY5"
      }
    },
    {
      "cell_type": "markdown",
      "source": [
        "## User Defined Classifier() Function"
      ],
      "metadata": {
        "id": "cfHC5euEldZe"
      }
    },
    {
      "cell_type": "code",
      "source": [
        "df_test[['Prob_normal_yes','forecast']]=df_test.apply(classifier,axis=1,result_type='expand')"
      ],
      "metadata": {
        "id": "QFews-dQlWq9"
      },
      "execution_count": null,
      "outputs": []
    },
    {
      "cell_type": "markdown",
      "source": [
        "### Confusion matrix and accuracy"
      ],
      "metadata": {
        "id": "bp2DlQoVokFU"
      }
    },
    {
      "cell_type": "code",
      "source": [
        "confusion_matrix(df_test.Class=='recurrence-events', df_test.forecast =='recurrence-events')"
      ],
      "metadata": {
        "colab": {
          "base_uri": "https://localhost:8080/"
        },
        "id": "aF9wl3qhmBhM",
        "outputId": "0607ef76-a896-455e-e825-58ca34ba4da4"
      },
      "execution_count": null,
      "outputs": [
        {
          "output_type": "execute_result",
          "data": {
            "text/plain": [
              "array([[34,  6],\n",
              "       [ 8,  9]])"
            ]
          },
          "metadata": {},
          "execution_count": 263
        }
      ]
    },
    {
      "cell_type": "code",
      "source": [
        "matrix=classification_report(df_test.Class=='recurrence-events', df_test.forecast =='recurrence-events')\n",
        "print('Classification report : \\n',matrix)"
      ],
      "metadata": {
        "colab": {
          "base_uri": "https://localhost:8080/"
        },
        "id": "nhBHeYK5nTBh",
        "outputId": "36b2ea6b-1419-4234-a41e-b2b2cd703c87"
      },
      "execution_count": null,
      "outputs": [
        {
          "output_type": "stream",
          "name": "stdout",
          "text": [
            "Classification report : \n",
            "               precision    recall  f1-score   support\n",
            "\n",
            "       False       0.81      0.85      0.83        40\n",
            "        True       0.60      0.53      0.56        17\n",
            "\n",
            "    accuracy                           0.75        57\n",
            "   macro avg       0.70      0.69      0.70        57\n",
            "weighted avg       0.75      0.75      0.75        57\n",
            "\n"
          ]
        }
      ]
    },
    {
      "cell_type": "markdown",
      "source": [
        "### ROC"
      ],
      "metadata": {
        "id": "ppK4Xz6XoZnT"
      }
    },
    {
      "cell_type": "code",
      "source": [
        "fpr_te_u, tpr_te_u, threshs_te_u = roc_curve(df_test.Class=='recurrence-events', df_test.Prob_normal_yes)\n",
        "roc_auc_te_u = auc(fpr_te_u, tpr_te_u)"
      ],
      "metadata": {
        "id": "L-8x1Jl7otL0"
      },
      "execution_count": null,
      "outputs": []
    },
    {
      "cell_type": "code",
      "source": [
        "plt.plot(\n",
        "    fpr_te_u,\n",
        "    tpr_te_u,\n",
        "    'o-',\n",
        "    lw=2,\n",
        "    label=\"ROC curve (area = %0.2f)\" % roc_auc_te_u,   \n",
        ")\n",
        "plt.plot([0, 1], [0, 1], color=\"navy\", lw=2, linestyle=\"--\")\n",
        "plt.xlim([0.0, 1.0])\n",
        "plt.ylim([0.0, 1.05])\n",
        "plt.xlabel(\"False Positive Rate\")\n",
        "plt.ylabel(\"True Positive Rate\")\n",
        "plt.title(\"Receiver operating characteristic example\")\n",
        "plt.legend(loc=\"lower right\")\n",
        "plt.show()"
      ],
      "metadata": {
        "colab": {
          "base_uri": "https://localhost:8080/",
          "height": 404
        },
        "id": "sAC5PppRo_4_",
        "outputId": "87d4535b-9a09-4a3b-cd51-d1d33de6660d"
      },
      "execution_count": null,
      "outputs": [
        {
          "output_type": "display_data",
          "data": {
            "image/png": "[encoded data removed]",
            "text/plain": [
              "<Figure size 576x432 with 1 Axes>"
            ]
          },
          "metadata": {
            "needs_background": "light"
          }
        }
      ]
    },
    {
      "cell_type": "markdown",
      "source": [
        "## Sklearn Categorical Naive Bayes Classifier (CategoricalNB)"
      ],
      "metadata": {
        "id": "MIpEFeFUty3n"
      }
    },
    {
      "cell_type": "code",
      "source": [
        "#Factorize the categorical features \n",
        "df_test2= df_test.apply(lambda x: pd.factorize(x)[0])\n",
        "X_test = df_test2[['age' ,'menopause' ,'tumor_size' ,'inv_nodes' ,'node_caps' ,'deg_malig' ,'breast' ,'breast_quad' ,'irradiat'] ]\n",
        "y_test = df_test2.Class"
      ],
      "metadata": {
        "id": "W9ZOJhvdt0IM"
      },
      "execution_count": null,
      "outputs": []
    },
    {
      "cell_type": "markdown",
      "source": [
        "### Confusion matrix and accuracy"
      ],
      "metadata": {
        "id": "DD3aPCSqxWhL"
      }
    },
    {
      "cell_type": "code",
      "source": [
        "#used the model built using training data to predict test data\n",
        "(clf.predict(X_test) == df_test2.Class).mean()"
      ],
      "metadata": {
        "colab": {
          "base_uri": "https://localhost:8080/"
        },
        "id": "Ou0Jb59duZnl",
        "outputId": "9517ddf0-a77c-4d11-bc15-96badcd585e5"
      },
      "execution_count": null,
      "outputs": [
        {
          "output_type": "execute_result",
          "data": {
            "text/plain": [
              "0.7017543859649122"
            ]
          },
          "metadata": {},
          "execution_count": 272
        }
      ]
    },
    {
      "cell_type": "code",
      "source": [
        "confusion_matrix(df_test2.Class, clf.predict(X_test))"
      ],
      "metadata": {
        "colab": {
          "base_uri": "https://localhost:8080/"
        },
        "id": "49yf-m8nwBjI",
        "outputId": "0ecb07e8-2ec8-4ed3-e09a-b9622d1091a8"
      },
      "execution_count": null,
      "outputs": [
        {
          "output_type": "execute_result",
          "data": {
            "text/plain": [
              "array([[36,  4],\n",
              "       [13,  4]])"
            ]
          },
          "metadata": {},
          "execution_count": 274
        }
      ]
    },
    {
      "cell_type": "code",
      "source": [
        "matrix=classification_report(df_test2.Class, clf.predict(X_test))\n",
        "print('Classification report : \\n',matrix)"
      ],
      "metadata": {
        "colab": {
          "base_uri": "https://localhost:8080/"
        },
        "id": "wHw9haxlv1xI",
        "outputId": "46ff25fa-f407-49a0-c9c9-6873ddaefb4d"
      },
      "execution_count": null,
      "outputs": [
        {
          "output_type": "stream",
          "name": "stdout",
          "text": [
            "Classification report : \n",
            "               precision    recall  f1-score   support\n",
            "\n",
            "           0       0.73      0.90      0.81        40\n",
            "           1       0.50      0.24      0.32        17\n",
            "\n",
            "    accuracy                           0.70        57\n",
            "   macro avg       0.62      0.57      0.56        57\n",
            "weighted avg       0.66      0.70      0.66        57\n",
            "\n"
          ]
        }
      ]
    },
    {
      "cell_type": "markdown",
      "source": [
        "### ROC"
      ],
      "metadata": {
        "id": "MULl9Yw9xjTJ"
      }
    },
    {
      "cell_type": "code",
      "source": [
        "probs = clf.predict_proba(X_test)[:,1]\n",
        "fpr_nb_te_sk, tpr_nb_te_sk, threshs_nb_te_sk = roc_curve(df_test2.Class, probs)\n",
        "roc_auc_nb_te_sk = auc(fpr_nb_te_sk, tpr_nb_te_sk)"
      ],
      "metadata": {
        "id": "GF4SgbH7wWSW"
      },
      "execution_count": null,
      "outputs": []
    },
    {
      "cell_type": "code",
      "source": [
        "plt.rcParams[\"figure.figsize\"] = (8,6)\n",
        "plt.plot(\n",
        "    fpr_nb_te_sk,\n",
        "    tpr_nb_te_sk,\n",
        "    'o-',\n",
        "    lw=2,\n",
        "    label=\"ROC curve (area = %0.2f)\" % roc_auc_nb_te_sk,   \n",
        ")\n",
        "plt.plot([0, 1], [0, 1], color=\"navy\", lw=2, linestyle=\"--\")\n",
        "plt.xlim([0.0, 1.0])\n",
        "plt.ylim([0.0, 1.05])\n",
        "plt.xlabel(\"False Positive Rate\")\n",
        "plt.ylabel(\"True Positive Rate\")\n",
        "plt.title(\"Receiver operating characteristic example\")\n",
        "plt.legend(loc=\"lower right\")\n",
        "plt.show()"
      ],
      "metadata": {
        "colab": {
          "base_uri": "https://localhost:8080/",
          "height": 404
        },
        "id": "kl6Q3pXBwqWn",
        "outputId": "e3812572-ee36-444e-c746-dd961218e95e"
      },
      "execution_count": null,
      "outputs": [
        {
          "output_type": "display_data",
          "data": {
            "image/png": "[encoded data removed]",
            "text/plain": [
              "<Figure size 576x432 with 1 Axes>"
            ]
          },
          "metadata": {
            "needs_background": "light"
          }
        }
      ]
    },
    {
      "cell_type": "code",
      "source": [
        "plt.rcParams[\"figure.figsize\"] = (12,8)\n",
        "plt.plot(\n",
        "    fpr_nb_te_sk,\n",
        "    tpr_nb_te_sk,\n",
        "    'o-',\n",
        "    lw=2,\n",
        "    label=\"Test:ROC-SK Learn(area = %0.2f)\" % roc_auc_nb_te_sk,   \n",
        ")\n",
        "plt.plot([0, 1], [0, 1], color=\"navy\", lw=2, linestyle=\"--\")\n",
        "plt.plot(fpr_te_u, tpr_te_u, color=\"green\", lw=2, linestyle=\"--\",label=\"Test:ROC-User Model(area = %0.2f)\" % roc_auc_te_u)\n",
        "plt.plot(fpr_tr_u, tpr_tr_u, color=\"red\", lw=2, linestyle=\"--\",label=\"Training:ROC-User Model(area = %0.2f)\" % roc_auc_tr_u)\n",
        "plt.plot(fpr_nb_tr_sk, tpr_nb_tr_sk, color=\"black\", lw=2, linestyle=\"--\",label=\"Training:ROC-Sk Learn Model(area = %0.2f)\" % roc_auc_nb_tr_sk)\n",
        "plt.xlim([0.0, 1.0])\n",
        "plt.ylim([0.0, 1.05])\n",
        "plt.xlabel(\"False Positive Rate\")\n",
        "plt.ylabel(\"True Positive Rate\")\n",
        "plt.title(\"ROC Comparison- Training vs Test vs User Defined vs SK CategoricalNB\")\n",
        "plt.legend(loc=\"lower right\")\n",
        "plt.show()\n"
      ],
      "metadata": {
        "colab": {
          "base_uri": "https://localhost:8080/",
          "height": 424
        },
        "id": "JxgLjsl41Bsb",
        "outputId": "a9fbd3d2-0fc2-4c03-ce44-1a2afcce51e8"
      },
      "execution_count": null,
      "outputs": [
        {
          "output_type": "display_data",
          "data": {
            "image/png": "[encoded data removed]",
            "text/plain": [
              "<Figure size 864x576 with 1 Axes>"
            ]
          },
          "metadata": {
            "needs_background": "light"
          }
        }
      ]
    },
    {
      "cell_type": "markdown",
      "source": [
        "## Conclusion\n",
        "* Overall model accuracy is pretty low with 75% on user defined model and 70% on SK learn-Categorical NB algorithm. 20% sample size was small so user model and SK learn model shows some variations. \n",
        "* Naive Bayes User defined model appears to slightly outperform the SK learn-Categorical NB algorithm in terms of accuracy and AUC. "
      ],
      "metadata": {
        "id": "4x5wQEzK9-fn"
      }
    }
  ]
}