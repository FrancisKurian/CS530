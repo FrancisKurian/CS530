{
  "metadata": {
    "kernelspec": {
      "language": "python",
      "display_name": "Python 3",
      "name": "python3"
    },
    "language_info": {
      "name": "python",
      "version": "3.7.12",
      "mimetype": "text/x-python",
      "codemirror_mode": {
        "name": "ipython",
        "version": 3
      },
      "pygments_lexer": "ipython3",
      "nbconvert_exporter": "python",
      "file_extension": ".py"
    },
    "colab": {
      "name": "CS530_hw1_Titanic Prediction k-nearest-neighbor-knn-ver2-0.ipynb",
      "provenance": [],
      "collapsed_sections": [],
      "include_colab_link": true
    }
  },
  "nbformat_minor": 0,
  "nbformat": 4,
  "cells": [
    {
      "cell_type": "markdown",
      "metadata": {
        "id": "view-in-github",
        "colab_type": "text"
      },
      "source": [
        "<a href=\"https://colab.research.google.com/github/FrancisKurian/CS530/blob/main/CS530_hw1_Titanic_Prediction_k_nearest_neighbor_knn_ver2_0.ipynb\" target=\"_parent\"><img src=\"https://colab.research.google.com/assets/colab-badge.svg\" alt=\"Open In Colab\"/></a>"
      ]
    },
    {
      "cell_type": "code",
      "source": [
        "# This Python 3 environment comes with many helpful analytics libraries installed\n",
        "# It is defined by the kaggle/python Docker image: https://github.com/kaggle/docker-python\n",
        "# For example, here's several helpful packages to load\n",
        "\n",
        "import numpy as np # linear algebra\n",
        "import pandas as pd # data processing, CSV file I/O (e.g. pd.read_csv)\n",
        "\n",
        "# Input data files are available in the read-only \"../input/\" directory\n",
        "# For example, running this (by clicking run or pressing Shift+Enter) will list all files under the input directory\n",
        "\n",
        "import os\n",
        "for dirname, _, filenames in os.walk('/kaggle/input'):\n",
        "    for filename in filenames:\n",
        "        print(os.path.join(dirname, filename))\n",
        "\n",
        "# You can write up to 20GB to the current directory (/kaggle/working/) that gets preserved as output when you create a version using \"Save & Run All\" \n",
        "# You can also write temporary files to /kaggle/temp/, but they won't be saved outside of the current session"
      ],
      "metadata": {
        "_uuid": "8f2839f25d086af736a60e9eeb907d3b93b6e0e5",
        "_cell_guid": "b1076dfc-b9ad-4769-8c92-a6c4dae69d19",
        "execution": {
          "iopub.status.busy": "2022-04-16T23:07:24.174926Z",
          "iopub.execute_input": "2022-04-16T23:07:24.175351Z",
          "iopub.status.idle": "2022-04-16T23:07:24.208740Z",
          "shell.execute_reply.started": "2022-04-16T23:07:24.175250Z",
          "shell.execute_reply": "2022-04-16T23:07:24.208010Z"
        },
        "trusted": true,
        "id": "AmBDPNcEo7JR"
      },
      "execution_count": null,
      "outputs": []
    },
    {
      "cell_type": "code",
      "source": [
        "from matplotlib import pyplot as plt\n",
        "import seaborn as sns\n",
        "%matplotlib inline"
      ],
      "metadata": {
        "execution": {
          "iopub.status.busy": "2022-04-16T23:07:28.029425Z",
          "iopub.execute_input": "2022-04-16T23:07:28.029727Z",
          "iopub.status.idle": "2022-04-16T23:07:29.190151Z",
          "shell.execute_reply.started": "2022-04-16T23:07:28.029694Z",
          "shell.execute_reply": "2022-04-16T23:07:29.189300Z"
        },
        "trusted": true,
        "id": "EvLESHXzo7JV"
      },
      "execution_count": null,
      "outputs": []
    },
    {
      "cell_type": "code",
      "source": [
        "#importing train and test data\n",
        "train_data = pd.read_csv(filepath_or_buffer = \"/kaggle/input/titanic/train.csv\")\n",
        "test_data = pd.read_csv(filepath_or_buffer = \"/kaggle/input/titanic/test.csv\")"
      ],
      "metadata": {
        "execution": {
          "iopub.status.busy": "2022-04-16T23:07:31.684983Z",
          "iopub.execute_input": "2022-04-16T23:07:31.685304Z",
          "iopub.status.idle": "2022-04-16T23:07:31.714055Z",
          "shell.execute_reply.started": "2022-04-16T23:07:31.685270Z",
          "shell.execute_reply": "2022-04-16T23:07:31.713381Z"
        },
        "trusted": true,
        "id": "_XvE5dqVo7JV"
      },
      "execution_count": null,
      "outputs": []
    },
    {
      "cell_type": "code",
      "source": [
        "#Let's investigate the training data a little bit\n",
        "train_data.head(5)"
      ],
      "metadata": {
        "execution": {
          "iopub.status.busy": "2022-04-16T23:07:35.221862Z",
          "iopub.execute_input": "2022-04-16T23:07:35.222667Z",
          "iopub.status.idle": "2022-04-16T23:07:35.250370Z",
          "shell.execute_reply.started": "2022-04-16T23:07:35.222616Z",
          "shell.execute_reply": "2022-04-16T23:07:35.249271Z"
        },
        "trusted": true,
        "id": "wOn54x--o7JW"
      },
      "execution_count": null,
      "outputs": []
    },
    {
      "cell_type": "code",
      "source": [
        "# Correlation Matrix for numerical data \n",
        "cmatrix=train_data.corr()\n",
        "cmatrix['Survived'].sort_values(ascending=False)"
      ],
      "metadata": {
        "execution": {
          "iopub.status.busy": "2022-02-04T21:50:57.960262Z",
          "iopub.execute_input": "2022-02-04T21:50:57.96053Z",
          "iopub.status.idle": "2022-02-04T21:50:57.974844Z",
          "shell.execute_reply.started": "2022-02-04T21:50:57.960501Z",
          "shell.execute_reply": "2022-02-04T21:50:57.974171Z"
        },
        "trusted": true,
        "id": "pmDoXywpo7JW"
      },
      "execution_count": null,
      "outputs": []
    },
    {
      "cell_type": "markdown",
      "source": [
        "The results show Fare and Pclass have somewhat correlated. So a potential candidate for modeling"
      ],
      "metadata": {
        "id": "qphSnkjoo7JX"
      }
    },
    {
      "cell_type": "code",
      "source": [
        " sns.barplot(data=train_data, x='Sex', y='Survived', )"
      ],
      "metadata": {
        "execution": {
          "iopub.status.busy": "2022-04-16T23:07:42.609170Z",
          "iopub.execute_input": "2022-04-16T23:07:42.609509Z",
          "iopub.status.idle": "2022-04-16T23:07:42.938280Z",
          "shell.execute_reply.started": "2022-04-16T23:07:42.609476Z",
          "shell.execute_reply": "2022-04-16T23:07:42.937144Z"
        },
        "trusted": true,
        "id": "6hvPaB6Jo7JY"
      },
      "execution_count": null,
      "outputs": []
    },
    {
      "cell_type": "code",
      "source": [
        " sns.barplot(data=train_data, x='Embarked', y='Survived', )"
      ],
      "metadata": {
        "execution": {
          "iopub.status.busy": "2022-04-16T23:07:45.496448Z",
          "iopub.execute_input": "2022-04-16T23:07:45.496728Z",
          "iopub.status.idle": "2022-04-16T23:07:45.801065Z",
          "shell.execute_reply.started": "2022-04-16T23:07:45.496698Z",
          "shell.execute_reply": "2022-04-16T23:07:45.800050Z"
        },
        "trusted": true,
        "id": "uU22tc9Oo7JY"
      },
      "execution_count": null,
      "outputs": []
    },
    {
      "cell_type": "code",
      "source": [
        "sns.barplot(data=train_data, x='Pclass', y='Survived', )"
      ],
      "metadata": {
        "execution": {
          "iopub.status.busy": "2022-04-16T23:07:50.292765Z",
          "iopub.execute_input": "2022-04-16T23:07:50.293094Z",
          "iopub.status.idle": "2022-04-16T23:07:50.612985Z",
          "shell.execute_reply.started": "2022-04-16T23:07:50.293062Z",
          "shell.execute_reply": "2022-04-16T23:07:50.612036Z"
        },
        "trusted": true,
        "id": "4bLkxkf1o7JZ"
      },
      "execution_count": null,
      "outputs": []
    },
    {
      "cell_type": "code",
      "source": [
        "sns.barplot(x='Sex', y='Survived', hue='Pclass', data=train_data)\n",
        "plt.ylabel(\"Survival Rate\")\n",
        "plt.title(\"Survival as function of Pclass and Sex\")\n",
        "plt.show()"
      ],
      "metadata": {
        "execution": {
          "iopub.status.busy": "2022-04-16T23:07:53.325330Z",
          "iopub.execute_input": "2022-04-16T23:07:53.325654Z",
          "iopub.status.idle": "2022-04-16T23:07:53.759252Z",
          "shell.execute_reply.started": "2022-04-16T23:07:53.325617Z",
          "shell.execute_reply": "2022-04-16T23:07:53.758123Z"
        },
        "trusted": true,
        "id": "L_RL4uK5o7JZ"
      },
      "execution_count": null,
      "outputs": []
    },
    {
      "cell_type": "code",
      "source": [
        "sns.barplot(x='Embarked', y='Survived', hue='Pclass', data=train_data)\n",
        "plt.ylabel(\"Survival Rate\")\n",
        "plt.title(\"Survival as function of Embarked Port\")\n",
        "plt.show()"
      ],
      "metadata": {
        "execution": {
          "iopub.status.busy": "2022-04-16T23:07:56.333140Z",
          "iopub.execute_input": "2022-04-16T23:07:56.333947Z",
          "iopub.status.idle": "2022-04-16T23:07:56.886956Z",
          "shell.execute_reply.started": "2022-04-16T23:07:56.333909Z",
          "shell.execute_reply": "2022-04-16T23:07:56.886264Z"
        },
        "trusted": true,
        "id": "o3RfsLPro7Ja"
      },
      "execution_count": null,
      "outputs": []
    },
    {
      "cell_type": "code",
      "source": [
        "#Knowing NaNs in the Dataset is very important\n",
        "print(\"NaN values in the DataFrame:\")\n",
        "train_data.isna().sum()"
      ],
      "metadata": {
        "execution": {
          "iopub.status.busy": "2022-02-04T21:51:29.519925Z",
          "iopub.execute_input": "2022-02-04T21:51:29.520245Z",
          "iopub.status.idle": "2022-02-04T21:51:29.530783Z",
          "shell.execute_reply.started": "2022-02-04T21:51:29.520208Z",
          "shell.execute_reply": "2022-02-04T21:51:29.529846Z"
        },
        "trusted": true,
        "id": "z2Ha9ZvWo7Ja"
      },
      "execution_count": null,
      "outputs": []
    },
    {
      "cell_type": "code",
      "source": [
        "#Knowing NaNs in the Dataset is very important\n",
        "print(\"NaN values in the DataFrame:\")\n",
        "test_data.isna().sum()"
      ],
      "metadata": {
        "execution": {
          "iopub.status.busy": "2022-04-16T23:08:12.193151Z",
          "iopub.execute_input": "2022-04-16T23:08:12.193924Z",
          "iopub.status.idle": "2022-04-16T23:08:12.204505Z",
          "shell.execute_reply.started": "2022-04-16T23:08:12.193877Z",
          "shell.execute_reply": "2022-04-16T23:08:12.203763Z"
        },
        "trusted": true,
        "id": "QJ4EzhOEo7Ja"
      },
      "execution_count": null,
      "outputs": []
    },
    {
      "cell_type": "code",
      "source": [
        "# Conveting categorical variables to numeric to use as model inputs, missing value treatment and mean substitution\n",
        "\n",
        "from sklearn.preprocessing import LabelEncoder\n",
        "\n",
        "# creating instance of labelencoder\n",
        "labelencoder = LabelEncoder()\n",
        "\n",
        "# Assigning numerical values and storing in another column\n",
        "train_data['Embarked'] = labelencoder.fit_transform(train_data['Embarked'].fillna('S'))\n",
        "train_data['Sex'] = labelencoder.fit_transform(train_data['Sex'].fillna('female'))\n",
        "\n",
        "test_data['Embarked'] = labelencoder.fit_transform(test_data['Embarked'].fillna('S'))\n",
        "test_data['Sex'] = labelencoder.fit_transform(test_data['Sex'].fillna('female'))\n",
        "\n",
        "#mean substitute for fare\n",
        "fare_mean = train_data['Fare'].mean()\n",
        "test_data['Fare'] = labelencoder.fit_transform(test_data['Fare'].fillna(fare_mean))"
      ],
      "metadata": {
        "execution": {
          "iopub.status.busy": "2022-04-16T23:08:15.776266Z",
          "iopub.execute_input": "2022-04-16T23:08:15.776685Z",
          "iopub.status.idle": "2022-04-16T23:08:15.922165Z",
          "shell.execute_reply.started": "2022-04-16T23:08:15.776653Z",
          "shell.execute_reply": "2022-04-16T23:08:15.921164Z"
        },
        "trusted": true,
        "id": "rp2qXb-So7Jb"
      },
      "execution_count": null,
      "outputs": []
    },
    {
      "cell_type": "code",
      "source": [
        "#Dropping the fields with low information values w.r.t predictor variable\n",
        "train_data.drop(labels = ['PassengerId','Name','Ticket', 'Cabin','SibSp','Parch','Age'], axis = 1, inplace = True)\n",
        "test_data.drop(labels = ['Name','Ticket', 'Cabin','SibSp','Parch','Age'], axis = 1, inplace = True)"
      ],
      "metadata": {
        "execution": {
          "iopub.status.busy": "2022-04-16T23:08:34.766221Z",
          "iopub.execute_input": "2022-04-16T23:08:34.766568Z",
          "iopub.status.idle": "2022-04-16T23:08:34.777925Z",
          "shell.execute_reply.started": "2022-04-16T23:08:34.766528Z",
          "shell.execute_reply": "2022-04-16T23:08:34.777031Z"
        },
        "trusted": true,
        "id": "IAZc34E2o7Jb"
      },
      "execution_count": null,
      "outputs": []
    },
    {
      "cell_type": "code",
      "source": [
        "train_data.describe()"
      ],
      "metadata": {
        "execution": {
          "iopub.status.busy": "2022-04-16T23:08:39.298552Z",
          "iopub.execute_input": "2022-04-16T23:08:39.299389Z",
          "iopub.status.idle": "2022-04-16T23:08:39.328795Z",
          "shell.execute_reply.started": "2022-04-16T23:08:39.299342Z",
          "shell.execute_reply": "2022-04-16T23:08:39.327920Z"
        },
        "trusted": true,
        "id": "z2ziJSDbo7Jb"
      },
      "execution_count": null,
      "outputs": []
    },
    {
      "cell_type": "code",
      "source": [
        "X_train =train_data.iloc[:,1:5].values\n",
        "Y_train =train_data.iloc[:,0].values"
      ],
      "metadata": {
        "execution": {
          "iopub.status.busy": "2022-04-16T23:08:41.941247Z",
          "iopub.execute_input": "2022-04-16T23:08:41.941678Z",
          "iopub.status.idle": "2022-04-16T23:08:41.947658Z",
          "shell.execute_reply.started": "2022-04-16T23:08:41.941639Z",
          "shell.execute_reply": "2022-04-16T23:08:41.946731Z"
        },
        "trusted": true,
        "id": "34Dn8cNbo7Jc"
      },
      "execution_count": null,
      "outputs": []
    },
    {
      "cell_type": "code",
      "source": [
        "print (X_train.shape)\n",
        "print (Y_train.shape)"
      ],
      "metadata": {
        "execution": {
          "iopub.status.busy": "2022-04-16T23:08:45.416612Z",
          "iopub.execute_input": "2022-04-16T23:08:45.416888Z",
          "iopub.status.idle": "2022-04-16T23:08:45.423018Z",
          "shell.execute_reply.started": "2022-04-16T23:08:45.416858Z",
          "shell.execute_reply": "2022-04-16T23:08:45.421895Z"
        },
        "trusted": true,
        "id": "2egnLg0wo7Jc"
      },
      "execution_count": null,
      "outputs": []
    },
    {
      "cell_type": "code",
      "source": [
        "X_test =test_data.iloc[:,1:5].values\n",
        "print (X_test.shape)"
      ],
      "metadata": {
        "execution": {
          "iopub.status.busy": "2022-04-16T23:08:48.392766Z",
          "iopub.execute_input": "2022-04-16T23:08:48.393078Z",
          "iopub.status.idle": "2022-04-16T23:08:48.399209Z",
          "shell.execute_reply.started": "2022-04-16T23:08:48.393042Z",
          "shell.execute_reply": "2022-04-16T23:08:48.398495Z"
        },
        "trusted": true,
        "id": "H34xHmQMo7Jc"
      },
      "execution_count": null,
      "outputs": []
    },
    {
      "cell_type": "code",
      "source": [
        "# Feature Scaling\n",
        "from sklearn.preprocessing import StandardScaler\n",
        "sc = StandardScaler()\n",
        "X_train = sc.fit_transform(X_train)\n",
        "X_test = sc.transform(X_test)"
      ],
      "metadata": {
        "execution": {
          "iopub.status.busy": "2022-04-16T23:08:50.586889Z",
          "iopub.execute_input": "2022-04-16T23:08:50.587546Z",
          "iopub.status.idle": "2022-04-16T23:08:50.593903Z",
          "shell.execute_reply.started": "2022-04-16T23:08:50.587510Z",
          "shell.execute_reply": "2022-04-16T23:08:50.592891Z"
        },
        "trusted": true,
        "id": "sbZNoz50o7Jc"
      },
      "execution_count": null,
      "outputs": []
    },
    {
      "cell_type": "code",
      "source": [
        ""
      ],
      "metadata": {
        "id": "Ps6Ax-mBo7Jd"
      },
      "execution_count": null,
      "outputs": []
    },
    {
      "cell_type": "code",
      "source": [
        "from sklearn.neighbors import KNeighborsClassifier\n",
        "from sklearn import metrics\n",
        "\n",
        "k_range =range(1,26)\n",
        "scores =[]\n",
        "for k in k_range:\n",
        "    knn=KNeighborsClassifier(n_neighbors = k)\n",
        "    knn.fit(X_train, Y_train)\n",
        "    y_pred = knn.predict(X_train)\n",
        "    scores.append(metrics.accuracy_score(Y_train, y_pred))\n",
        "    \n",
        "# print(scores)"
      ],
      "metadata": {
        "execution": {
          "iopub.status.busy": "2022-04-16T23:08:59.330887Z",
          "iopub.execute_input": "2022-04-16T23:08:59.331166Z",
          "iopub.status.idle": "2022-04-16T23:09:00.468615Z",
          "shell.execute_reply.started": "2022-04-16T23:08:59.331138Z",
          "shell.execute_reply": "2022-04-16T23:09:00.467598Z"
        },
        "trusted": true,
        "id": "dr4ExvQIo7Jd"
      },
      "execution_count": null,
      "outputs": []
    },
    {
      "cell_type": "code",
      "source": [
        "plt.plot(k_range,scores)"
      ],
      "metadata": {
        "execution": {
          "iopub.status.busy": "2022-04-16T23:09:03.455816Z",
          "iopub.execute_input": "2022-04-16T23:09:03.456112Z",
          "iopub.status.idle": "2022-04-16T23:09:03.606902Z",
          "shell.execute_reply.started": "2022-04-16T23:09:03.456080Z",
          "shell.execute_reply": "2022-04-16T23:09:03.605965Z"
        },
        "trusted": true,
        "id": "3Uc0BqHvo7Jd"
      },
      "execution_count": null,
      "outputs": []
    },
    {
      "cell_type": "code",
      "source": [
        "from sklearn.neighbors import KNeighborsClassifier\n",
        "classifier = KNeighborsClassifier(n_neighbors = 4, metric = 'minkowski', p = 2)\n",
        "classifier.fit(X_train, Y_train)\n",
        "y_pred = classifier.predict(X_train)\n",
        "\n",
        "# Making the Confusion Matrix\n",
        "from sklearn.metrics import confusion_matrix, accuracy_score\n",
        "cm = confusion_matrix(Y_train, y_pred)\n",
        "ac = accuracy_score(Y_train, y_pred)"
      ],
      "metadata": {
        "execution": {
          "iopub.status.busy": "2022-04-16T23:09:06.713058Z",
          "iopub.execute_input": "2022-04-16T23:09:06.713436Z",
          "iopub.status.idle": "2022-04-16T23:09:06.766367Z",
          "shell.execute_reply.started": "2022-04-16T23:09:06.713399Z",
          "shell.execute_reply": "2022-04-16T23:09:06.765375Z"
        },
        "trusted": true,
        "id": "84j4z48vo7Jd"
      },
      "execution_count": null,
      "outputs": []
    },
    {
      "cell_type": "code",
      "source": [
        "print(cm)"
      ],
      "metadata": {
        "execution": {
          "iopub.status.busy": "2022-04-16T23:09:10.953938Z",
          "iopub.execute_input": "2022-04-16T23:09:10.954273Z",
          "iopub.status.idle": "2022-04-16T23:09:10.959705Z",
          "shell.execute_reply.started": "2022-04-16T23:09:10.954235Z",
          "shell.execute_reply": "2022-04-16T23:09:10.958922Z"
        },
        "trusted": true,
        "id": "FS3AeRxpo7Je"
      },
      "execution_count": null,
      "outputs": []
    },
    {
      "cell_type": "code",
      "source": [
        "print(ac)"
      ],
      "metadata": {
        "execution": {
          "iopub.status.busy": "2022-04-16T23:09:14.140838Z",
          "iopub.execute_input": "2022-04-16T23:09:14.141535Z",
          "iopub.status.idle": "2022-04-16T23:09:14.146749Z",
          "shell.execute_reply.started": "2022-04-16T23:09:14.141475Z",
          "shell.execute_reply": "2022-04-16T23:09:14.146184Z"
        },
        "trusted": true,
        "id": "UoKyHpTDo7Je"
      },
      "execution_count": null,
      "outputs": []
    },
    {
      "cell_type": "markdown",
      "source": [
        "# Titanic Test File scoring"
      ],
      "metadata": {
        "id": "l5Y55rILo7Je"
      }
    },
    {
      "cell_type": "code",
      "source": [
        "# Predicting the Test set results\n",
        "y_pred = classifier.predict(X_test)\n",
        "prediction = pd.DataFrame(data = y_pred, columns = ['Survived'])\n",
        "prediction.insert(0, 'PassengerId', test_data['PassengerId'])\n",
        "prediction.head(5)"
      ],
      "metadata": {
        "execution": {
          "iopub.status.busy": "2022-02-04T21:58:28.822752Z",
          "iopub.execute_input": "2022-02-04T21:58:28.823285Z",
          "iopub.status.idle": "2022-02-04T21:58:28.854103Z",
          "shell.execute_reply.started": "2022-02-04T21:58:28.823231Z",
          "shell.execute_reply": "2022-02-04T21:58:28.853402Z"
        },
        "trusted": true,
        "id": "ZRUA92yKo7Je"
      },
      "execution_count": null,
      "outputs": []
    },
    {
      "cell_type": "code",
      "source": [
        "#Creating a submission\n",
        "prediction.to_csv(path_or_buf = 'submission.csv', sep = ',', index = False, header = True)"
      ],
      "metadata": {
        "execution": {
          "iopub.status.busy": "2022-02-04T21:59:16.758503Z",
          "iopub.execute_input": "2022-02-04T21:59:16.759632Z",
          "iopub.status.idle": "2022-02-04T21:59:16.77532Z",
          "shell.execute_reply.started": "2022-02-04T21:59:16.759589Z",
          "shell.execute_reply": "2022-02-04T21:59:16.774247Z"
        },
        "trusted": true,
        "id": "NGUo3Yf5o7Je"
      },
      "execution_count": null,
      "outputs": []
    },
    {
      "cell_type": "markdown",
      "source": [
        "@ Jeomoan Francis Kurian"
      ],
      "metadata": {
        "id": "FfhKySb0xTFA"
      }
    }
  ]
}